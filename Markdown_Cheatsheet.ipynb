{
  "nbformat": 4,
  "nbformat_minor": 0,
  "metadata": {
    "colab": {
      "provenance": [],
      "toc_visible": true,
      "authorship_tag": "ABX9TyPtZhVsdPA6PWCHr31//dWc",
      "include_colab_link": true
    },
    "kernelspec": {
      "name": "python3",
      "display_name": "Python 3"
    },
    "language_info": {
      "name": "python"
    }
  },
  "cells": [
    {
      "cell_type": "markdown",
      "metadata": {
        "id": "view-in-github",
        "colab_type": "text"
      },
      "source": [
        "<a href=\"https://colab.research.google.com/github/beamacs/Learning-Python/blob/main/Markdown_Cheatsheet.ipynb\" target=\"_parent\"><img src=\"https://colab.research.google.com/assets/colab-badge.svg\" alt=\"Open In Colab\"/></a>"
      ]
    },
    {
      "cell_type": "markdown",
      "source": [
        "# Markdown Cheatsheet\n",
        "How to use Markdown\n",
        "\n",
        "**Mostly Referenced:** [Markdown Cheatsheet](https://github.com/adam-p/markdown-here/wiki/Markdown-Cheatsheet#alt-h1)"
      ],
      "metadata": {
        "id": "MmIFWezVKRxx"
      }
    },
    {
      "cell_type": "markdown",
      "source": [
        "## **Basics**\n",
        "\n",
        "\n",
        "### Formatting\n",
        "* #### Headings = `#### Headings ####`\n",
        "* *italics* = `*italics*`\n",
        "* **bold** = `**bold**`\n",
        "* ***italics and bold*** = `***italics and bold***`\n",
        "* ~~strikethrough~~ = `~~strikethrough~~`\n",
        "\n",
        "Alt Heading 1\n",
        "==\n",
        "Alt Heading 2\n",
        "--\n",
        "\n",
        "---\n",
        "\n",
        "### Inserting Code\n",
        "`inline code`\n",
        "\n",
        "```\n",
        "code block\n",
        "\n",
        "```\n",
        "\n"
      ],
      "metadata": {
        "id": "nTvBNCiELupH"
      }
    },
    {
      "cell_type": "markdown",
      "source": [
        "## **Links**\n",
        "\n",
        "\n",
        "* [I'm an inline-style link](https://www.google.com)\n",
        "\n",
        "* [I'm an inline-style link with title](https://www.google.com \"Google's Homepage\")\n",
        "    * When you hover over the link, there should be a title that pops out.\n",
        "    * Should be \"Google's Homepage\"\n",
        "\n",
        "* [I'm a reference-style link][Arbitrary case-insensitive reference text]\n",
        "\n",
        "* [I'm a relative reference to a repository file](../blob/master/LICENSE)\n",
        "\n",
        "* [You can use numbers for reference-style link definitions][1]\n",
        "\n",
        "* Or leave it empty and use the [link text itself].\n",
        "\n",
        "URLs & URLs in angle brackets will automatically get turned into links:\n",
        "* `http://www.google.com` http://www.google.com\n",
        "* `<http://www.google.com>` http://www.google.com\n",
        "* ***sometimes*** google.com but it doesn't work here\n",
        "\n",
        "Some text to show that the reference links can follow later.\n",
        "\n",
        "[arbitrary case-insensitive reference text]: https://www.mozilla.org\n",
        "[1]: http://duckduckgo.com\n",
        "[link text itself]: http://www.reddit.com\n",
        "\n",
        "\n",
        "\n",
        ">>---\n",
        "  \n",
        "\n",
        "\n",
        "### **Trouble with () or different characters in a Link**\n",
        "\n",
        "**Referenced forum:** [Links to URLs containing parentheses](https://meta.stackexchange.com/questions/13501/links-to-urls-containing-parentheses)\n",
        "\n",
        "#### **Solution 1: URL Encoding**\n",
        "- Reassign characters that are breaking the link with ASCII Encoding\n",
        "- `( = %28` ; `) = %29`\n",
        "- **Example:**\n",
        "\t- **Original link:**\n",
        " ```\n",
        " https://www.w3resource.com/numpy/string-operations/upper.php#:~:text=upper()%20function%20converts%20a%20numpy%20array%20of%20strings%20to%20uppercase.&text=The%20above%20code%20demonstrates%20the,array%20of%20strings%20to%20uppercase.\n",
        " ```\n",
        "\t- **Edited link:**\n",
        "```\n",
        "https://www.w3resource.com/numpy/string-operations/upper.php#:~:text=upper%28%29%20function%20converts%20a%20numpy%20array%20of%20strings%20to%20uppercase.&text=The%20above%20code%20demonstrates%20the,array%20of%20strings%20to%20uppercase.\n",
        "```\n",
        "\t- All together:\n",
        "```\n",
        "[Source](https://www.w3resource.com/numpy/string-operations/upper.php#:~:text=upper%28%29%20function%20converts%20a%20numpy%20array%20of%20strings%20to%20uppercase.&text=The%20above%20code%20demonstrates%20the,array%20of%20strings%20to%20uppercase.)\n",
        "```\n",
        "\t- **Result:** [Source](https://www.w3resource.com/numpy/string-operations/upper.php#:~:text=upper%28%29%20function%20converts%20a%20numpy%20array%20of%20strings%20to%20uppercase.&text=The%20above%20code%20demonstrates%20the,array%20of%20strings%20to%20uppercase.)\n",
        "- You may also observe that there are many `%20` in the link. That's because `%20 = space`\n",
        "- You can find a reference sheet of some of the common ASCII characters in [URL Encoding Ref](https://www.w3schools.com/tags/ref_urlencode.asp \"URL Encoding W3 Schools\")\n",
        "\n",
        "#### **Solution 2: <a> notation instead of `[]()`**\n",
        "- Syntax: `<a href=\"https://link\">Text Displayed</a>`\n",
        "- You can keep the link as is; no editing or converting required\n",
        "- Example: (using the same link as solution 1)\n",
        "\t-\n",
        "```\n",
        "<a href=\"https://www.w3resource.com/numpy/string-operations/upper.php#:~:text=upper()%20function%20converts%20a%20numpy%20array%20of%20strings%20to%20uppercase.&text=The%20above%20code%20demonstrates%20the,array%20of%20strings%20to%20uppercase.\">Source </a>\n",
        "```\n",
        "\t- **Result:** <a href=\"https://www.w3resource.com/numpy/string-operations/upper.php#:~:text=upper()%20function%20converts%20a%20numpy%20array%20of%20strings%20to%20uppercase.&text=The%20above%20code%20demonstrates%20the,array%20of%20strings%20to%20uppercase.\">Source </a>\n"
      ],
      "metadata": {
        "id": "uJHhzTITLkeh"
      }
    },
    {
      "cell_type": "markdown",
      "source": [
        "## **Collapsible Item**\n",
        "Or a toggle item\n",
        "\n",
        "<details>\n",
        "   <summary> This is a collapsible item </summary>\n",
        "\n",
        "- It's based on the HTML5 tags `<details>` and `<summary>`\n",
        "- Means that you may use html syntax in markdown files\n",
        "\n",
        "</details>\n",
        "\n",
        "\n",
        "**Syntax**\n",
        "```\n",
        "<details>\n",
        "   <summary> This is the preview string </summary>\n",
        "\n",
        "Hidden text body\n",
        "\n",
        "</details>\n",
        "```\n"
      ],
      "metadata": {
        "id": "DJWSsO1wNup_"
      }
    },
    {
      "cell_type": "markdown",
      "source": [
        "## **Images**\n",
        "\n",
        "![cat](https://i.kym-cdn.com/photos/images/newsfeed/001/878/329/dfa.jpg \"Thumbs up crying cat meme\")\n",
        "\n",
        "**Syntax**\n",
        "```\n",
        "![alt text](url of image \"Alt text\")\n",
        "```\n",
        "\n",
        "or\n",
        "\n",
        "![alt text][meme]\n",
        "\n",
        "[meme]: https://i.kym-cdn.com/photos/images/newsfeed/001/878/329/dfa.jpg \"Aww cat cry\"\n",
        "\n",
        "**Syntax**\n",
        "```\n",
        "![alt text][reference]\n",
        "\n",
        "[reference]: url of image \"Alt text\"\n",
        "```\n",
        "\n",
        ">>---\n",
        "\n",
        "### **Embedding an Image and Resizing**\n",
        "Main Reference: [HTML < img > alt Attribute](https://www.w3schools.com/tags/att_img_alt.asp)\n",
        "\n",
        "**Syntax**\n",
        "```\n",
        "<img src=\"image url\" title=\"This will be your alt text\" width =\"200\" height=\"200\"/>\n",
        "```\n",
        "\n",
        "**Original Size**\n",
        "\n",
        "![flower](https://i.pinimg.com/564x/aa/71/06/aa7106e462d64dad47e39ae8943edb23.jpg \"Orig size flower\")\n",
        "\n",
        "**Resized**\n",
        "\n",
        "<img src=\"https://i.pinimg.com/564x/aa/71/06/aa7106e462d64dad47e39ae8943edb23.jpg\" title = \"Resized flower\" width=\"200\" height=\"200\"/>\n",
        "\n",
        ">>---\n",
        "\n",
        "### **Embedding an image from a Google Drive**\n",
        "**Main Reference:** [Embedding your image in google colab markdown](https://medium.com/analytics-vidhya/embedding-your-image-in-google-colab-markdown-3998d5ac2684)\n",
        "\n",
        "1. Make sure the permission of the image in your Google Drive is **shareable**. You can edit it through **\"Manage Access\"** setting.\n",
        "    * Make sure it's set to at least \"Anyone can View\"\n",
        "\n",
        "2. Copy the share link. It would probably look like this:\n",
        "> `https://drive.google.com/file/d/<ID of the image>/view?usp=sharing`\n",
        "    * The format may change in the future but all we need to embed our image is the `<ID of the image>` from the URL. Once you've identified it, copy it.\n",
        "\n",
        "3. To embed it in your markdown file, use this as the basis of your embed link:\n",
        "> `https://drive.google.com/uc?id=<ID of the image>`\n",
        "\n",
        "#### **Let's put in in practice!**\n",
        "\n",
        "**Original Link:** https://drive.google.com/file/d/1mFpK15XRCA55qqfNusxbc29OegaKaQij/view?usp=sharing\n",
        "* ID: 1mFpK15XRCA55qqfNusxbc29OegaKaQij\n",
        "\n",
        "**Formatted Link for Embedding:** https://drive.google.com/uc?id=1mFpK15XRCA55qqfNusxbc29OegaKaQij\n",
        "\n",
        "**Result:**\n",
        "\n",
        "<img src=\"https://drive.google.com/uc?id=1mFpK15XRCA55qqfNusxbc29OegaKaQij\" title=\"ur d id it!!1\" height=\"200\"/>\n"
      ],
      "metadata": {
        "id": "HEMUkhLiSLRW"
      }
    },
    {
      "cell_type": "markdown",
      "source": [
        "## **Embedding a Link to a Picture**\n",
        "You basically nestle an image link inside the basic link syntax like this:\n",
        "\n",
        "```\n",
        "[![alt text](url to image)](url to video)\n",
        "```\n",
        "\n",
        "### **Use Case: Embedding videos**\n",
        "You can't really embed a video here but you can place a thumbnail image and, when a user clicks on it, it will redirect them to the video.\n",
        "\n",
        "[![hehe](https://encrypted-tbn0.gstatic.com/images?q=tbn:ANd9GcQ2Fe_Gf9Q8Jzy-rV8tN-o9DhbHKLLHxhQdbQ&usqp=CAU)](https://youtu.be/0ZhDnL1k8iE?si=nPgnVVIaVF4uMy9u)\n",
        "\n",
        "\n"
      ],
      "metadata": {
        "id": "2JZ9Li2xVxSM"
      }
    }
  ]
}