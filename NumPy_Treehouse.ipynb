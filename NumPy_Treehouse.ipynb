{
  "nbformat": 4,
  "nbformat_minor": 0,
  "metadata": {
    "colab": {
      "provenance": [],
      "authorship_tag": "ABX9TyOuIngaCIPfNSer1Y9tGb/M",
      "include_colab_link": true
    },
    "kernelspec": {
      "name": "python3",
      "display_name": "Python 3"
    },
    "language_info": {
      "name": "python"
    }
  },
  "cells": [
    {
      "cell_type": "markdown",
      "metadata": {
        "id": "view-in-github",
        "colab_type": "text"
      },
      "source": [
        "<a href=\"https://colab.research.google.com/github/beamacs/Learning-Python/blob/main/NumPy_Treehouse.ipynb\" target=\"_parent\"><img src=\"https://colab.research.google.com/assets/colab-badge.svg\" alt=\"Open In Colab\"/></a>"
      ]
    },
    {
      "cell_type": "markdown",
      "source": [
        "# **Introduction to NumPy**\n",
        "Learning NumPy from [Treehouse](https://teamtreehouse.com/library/introduction-to-numpy/introducing-arrays)\n",
        "\n",
        "* An array's size is **immutable**. You can't `.append()`, `.insert()` or `.remove()` elements like you can with a list.\n",
        "* All of an array's elements must be the same data type\n",
        "* A NumPy array behaves in a Pythonic fashion. Methods such as `len(arr)` will work.\n",
        "    * **Note:** Some methods may require a different syntax. Like with `.upper()`, for a NumPy array, the method would look like this: `np.char.upper(arr)` <a href=\"https://www.w3resource.com/numpy/string-operations/upper.php#:~:text=upper()%20function%20converts%20a%20numpy%20array%20of%20strings%20to%20uppercase.&text=The%20above%20code%20demonstrates%20the,array%20of%20strings%20to%20uppercase.\">(Reference) </a>\n",
        "    * Links to other documentations on NumPy\n",
        "        1. [String operations documentation on NumPy](https://numpy.org/doc/stable/reference/routines.char.html#module-numpy.char \"NumPy Strong Operations\")\n",
        "        2. [NumPy Documentation](https://numpy.org/doc/stable/user/whatisnumpy.html \"Official NumPy Documentation\")\n",
        "\n"
      ],
      "metadata": {
        "id": "SjUuaFcKxCFo"
      }
    },
    {
      "cell_type": "code",
      "execution_count": null,
      "metadata": {
        "id": "bxp5FokrJMro",
        "colab": {
          "base_uri": "https://localhost:8080/",
          "height": 36
        },
        "outputId": "ed095a33-dc63-435d-e345-58dd6b256001"
      },
      "outputs": [
        {
          "output_type": "execute_result",
          "data": {
            "text/plain": [
              "'1.23.5'"
            ],
            "application/vnd.google.colaboratory.intrinsic+json": {
              "type": "string"
            }
          },
          "metadata": {},
          "execution_count": 1
        }
      ],
      "source": [
        "import numpy as np\n",
        "np.__version__"
      ]
    },
    {
      "cell_type": "code",
      "source": [
        "gpasList = [4.0,3.286,3.5]\n",
        "\n",
        "# Can have elements appended to it\n",
        "gpasList.append(4.0);\n",
        "# Can have multiple datatypes iin it\n",
        "gpasList.insert(1, \"Whatevs\");\n",
        "# Can have items removed\n",
        "gpasList.pop(1);"
      ],
      "metadata": {
        "id": "7SIV5jh3xeTF"
      },
      "execution_count": null,
      "outputs": []
    },
    {
      "cell_type": "code",
      "source": [
        "gpasList"
      ],
      "metadata": {
        "id": "ukzyS-Hhyf54",
        "colab": {
          "base_uri": "https://localhost:8080/"
        },
        "outputId": "8add0e20-ba4d-4ee8-ff66-59e31a650b68"
      },
      "execution_count": null,
      "outputs": [
        {
          "output_type": "execute_result",
          "data": {
            "text/plain": [
              "[4.0, 3.286, 3.5, 4.0]"
            ]
          },
          "metadata": {},
          "execution_count": 3
        }
      ]
    },
    {
      "cell_type": "code",
      "source": [
        "# Assign list as an array\n",
        "gpas = np.array(gpasList)\n",
        "\n",
        "# Returns documentation about numpy data types\n",
        "?gpas"
      ],
      "metadata": {
        "id": "FRHVspaL2Wdh"
      },
      "execution_count": null,
      "outputs": []
    },
    {
      "cell_type": "code",
      "source": [
        "# Finding out information about a numpy array\n",
        "print(gpas.dtype); print(gpas.itemsize); print(gpas.size); len(gpas); print(gpas.nbytes);"
      ],
      "metadata": {
        "id": "6ZEGN5HAj21F",
        "colab": {
          "base_uri": "https://localhost:8080/"
        },
        "outputId": "98f1325f-26dc-4f56-e2a8-fe795a3241a7"
      },
      "execution_count": null,
      "outputs": [
        {
          "output_type": "stream",
          "name": "stdout",
          "text": [
            "float64\n",
            "8\n",
            "4\n",
            "32\n"
          ]
        }
      ]
    },
    {
      "cell_type": "code",
      "source": [
        "# String Operation for NumPy, difference in inputting methods\n",
        "txtList = [\"cow\",\"cat\",\"cockroach\",\"crow\"]\n",
        "txtArr = np.array(txtList)\n",
        "\n",
        "print(np.char.upper(txtArr))"
      ],
      "metadata": {
        "id": "TPqaluBPwCHQ",
        "colab": {
          "base_uri": "https://localhost:8080/"
        },
        "outputId": "1900a934-6eeb-4f85-d06d-f1c0b2712a8d"
      },
      "execution_count": null,
      "outputs": [
        {
          "output_type": "stream",
          "name": "stdout",
          "text": [
            "['COW' 'CAT' 'COCKROACH' 'CROW']\n"
          ]
        }
      ]
    },
    {
      "cell_type": "markdown",
      "source": [
        "## **[Creating the Study Log](https://teamtreehouse.com/library/introduction-to-numpy/creating-the-study-log) Treehouse Section**\n",
        "\n",
        "**Introduced:**\n",
        "* `%whos` - Returns all variables in alphabetical order with their data type and info; only works in IPython notebooks.\n",
        "* `np.zeros(numOfZeros, assignDataType)` - helper method that generates 0.\n",
        "    * The default scalar data type is a `float64`.\n",
        "* `:` **Slicing** - Returns a range of elements from the specified start and end index. The end index is excluded from the range.\n",
        "* **Scalar Data Types.** Represents a singular value that might've come from an numpy array. `float64` is a scalar data type.\n",
        "\n",
        "**External Links**\n",
        "* [Old Data Types Documentation]\n",
        "    * Says on the website the documentation was outdated but this is what Treehouse referenced for the data type\n",
        "* [Updated Data Types]\n",
        "    * Found a more current version of the documentation\n",
        "\n",
        "\n",
        "[Old Data Types Documentation]: https://docs.scipy.org/doc/numpy-1.14.0/user/basics.types.html\n",
        "[Updated Data Types]: https://www.w3resource.com/numpy/data-types.php"
      ],
      "metadata": {
        "id": "Aww9BP-K1McT"
      }
    },
    {
      "cell_type": "markdown",
      "source": [
        "For the Treehouse tutorial, Craig wanted to make a ***study log*** for the **100 Days of Code Challenge**, hence `np.zeros(100)` for 100 days.\n",
        "\n",
        "\n",
        "### **Setting the Study Log Up**\n",
        "He wanted to make an array of 100 zeroes to represent each day in the challenge with the base unit being minutes.\n",
        "\n",
        "1. **Assigned `studyMins1 = np.zeros(100)`**\n",
        "    * By default, the scalar data type was `float64` and was storing **800 bytes**\n",
        "    * This created an array of 100 `0.` which were also floats.\n",
        "2. **Computed for the **max integers** needed to signify 1 day for every 0 represented in the array**\n",
        "    *\n",
        "    ```\n",
        "    # 60 minutes, 24 hours a day\n",
        "    60*24 = 1440\n",
        "    ```\n",
        "    * We just need to count up until **1440** minutes for a whole day.\n",
        "3. **Referred to the [Old Data Types Documentation] for the data type range of integers**\n",
        "\n",
        "    <img src=\"https://drive.google.com/uc?id=1QjECGmcr8ErBiSG9vh07yI2KcYBqqpAT\" title = \"Data Type Integer Range\" width=\"250\"/>\n",
        "\n",
        "    * In the reference, we can see that the range for `float64` is described as: `Double precision float: sign bit, 11 bits exponent, 52 bits mantissa.`\n",
        "    \n",
        "    <details>\n",
        "     <summary> 👁️👄👁️ OK, but what does that mean?????  </summary>\n",
        "\n",
        "     **Let's break it down into parts**\n",
        "        1. **Double precision.** Provides a high level of precision compared to other types. It can represent decimal numbers with a *lot* of digits after the decimal point accurately.\n",
        "        2. **Sign bit.** Every number has a sign bit which indicates whether it's a (+) or (-) number.\n",
        "        3. **11 bits exponent.** Describes the size of the number and where the decimal point should be placed. Allows it to handle both very large and very small numbers.\n",
        "        4. **52 bits mantissa.** Holds the actual digits of the number. It's the decimal part of the number. The 52 bits provide enough space to store a significant number of digits.\n",
        "            - You can express numbers into a scientific notation (***aka*** exponential forms or logarithmic forms).\n",
        "            - E.g. 129,000,000 = 1.29 x 10^8 or  0.00026 = 2.6 × 10^-4\n",
        "            - In the examples above, the **exponents** are (8,-4) and the **mantissas** are (0.29, 0.6) respectively.\n",
        "\n",
        "     **Range and Precision:** It can represent a ***huge*** range of decimal numbers with high precision. Like it can't really be expressed as is because the range is so ***huge***.\n",
        "\n",
        "     **Practical Use:** `float64` allows you to work with decimal numbers with a high level of precision and a vast range, making it suitable for a wide range of scientific and engineering applications.\n",
        "\n",
        "        >***FULL DISCLOSURE:*** I used ChatGPT to make sense of it so take this with a kilogram of salt.\n",
        "        \n",
        "        > Link to ChatGPT Chat Log: [Understanding NumPy float64]\n",
        "\n",
        "    </details>\n",
        "    * In other words, `float64` might be too big of a data type to use. We just need a data type that is able to **count up** to **1440** minutes.\n",
        "    * When run through `%whos`, we can see that the size of the `studyMins1` is 800 bytes. We could make that smaller!\n",
        "\n",
        "4. **Reassign it to a data type that has a smaller range.**\n",
        "    * We don't need a float, so we could convert it into an integer.\n",
        "    * You can't study in (-) minutes, so any range that only contains (+) numbers is ideal.\n",
        "    * We just need to count until 1440\n",
        "    * With all that, we can reassign it as a `uint16` (***aka unsigned integer 16***) data type as it's range is from **0 - 65535**.\n",
        "    * Assigned `studyMins2 = np.zeros(100, np.uint16)`\n",
        "    * **Let's compare:**\n",
        "        ```\n",
        "        Variable     Type       Data/Info\n",
        "        ---------------------------------\n",
        "        studyMins1   ndarray    100: 100 elems, type `float64`, 800 bytes\n",
        "        studyMins2   ndarray    100: 100 elems, type `uint16`, 200 bytes\n",
        "        ```\n",
        "        * We managed to lower the data size from 800 bytes to 200 bytes. Seems like a small difference *(heck, it's not even a KB)* but size *can* stack up.\n",
        "        * What we did was ***optimization.*** By making the data type smaller, it can allow for faster processing time.\n",
        "\n",
        "5. **You are now free to log in your coding minutes for each day. Remember that the index starts at *0* instead of 1.**\n",
        "\n",
        "[Old Data Types Documentation]:\n",
        "https://docs.scipy.org/doc/numpy-1.14.0/user/basics.types.html\n",
        "[Understanding NumPy float64]: https://chat.openai.com/share/915ea000-7c9e-4246-9d0a-25596663785d\n",
        "\n"
      ],
      "metadata": {
        "id": "dBhnTiNx51zS"
      }
    },
    {
      "cell_type": "code",
      "source": [
        "studyMins1 = np.zeros(100)\n",
        "studyMins1"
      ],
      "metadata": {
        "colab": {
          "base_uri": "https://localhost:8080/"
        },
        "id": "qC29MOWnjGJW",
        "outputId": "e6266538-7e67-4475-c263-1801f626162f"
      },
      "execution_count": null,
      "outputs": [
        {
          "output_type": "execute_result",
          "data": {
            "text/plain": [
              "array([0., 0., 0., 0., 0., 0., 0., 0., 0., 0., 0., 0., 0., 0., 0., 0., 0.,\n",
              "       0., 0., 0., 0., 0., 0., 0., 0., 0., 0., 0., 0., 0., 0., 0., 0., 0.,\n",
              "       0., 0., 0., 0., 0., 0., 0., 0., 0., 0., 0., 0., 0., 0., 0., 0., 0.,\n",
              "       0., 0., 0., 0., 0., 0., 0., 0., 0., 0., 0., 0., 0., 0., 0., 0., 0.,\n",
              "       0., 0., 0., 0., 0., 0., 0., 0., 0., 0., 0., 0., 0., 0., 0., 0., 0.,\n",
              "       0., 0., 0., 0., 0., 0., 0., 0., 0., 0., 0., 0., 0., 0., 0.])"
            ]
          },
          "metadata": {},
          "execution_count": 7
        }
      ]
    },
    {
      "cell_type": "code",
      "source": [
        "#Returns all variables in alphabetical order with their data type and info\n",
        "%whos"
      ],
      "metadata": {
        "colab": {
          "base_uri": "https://localhost:8080/"
        },
        "id": "R6k1r51Wjsmb",
        "outputId": "7228aaab-0f11-4043-d936-f353b7fcd75a"
      },
      "execution_count": null,
      "outputs": [
        {
          "output_type": "stream",
          "name": "stdout",
          "text": [
            "Variable     Type       Data/Info\n",
            "---------------------------------\n",
            "gpas         ndarray    4: 4 elems, type `float64`, 32 bytes\n",
            "gpasList     list       n=4\n",
            "np           module     <module 'numpy' from '/us<...>kages/numpy/__init__.py'>\n",
            "studyMins1   ndarray    100: 100 elems, type `float64`, 800 bytes\n",
            "txtArr       ndarray    4: 4 elems, type `<U9`, 144 bytes\n",
            "txtList      list       n=4\n"
          ]
        }
      ]
    },
    {
      "cell_type": "code",
      "source": [
        "studyMins2 = np.zeros(100, np.uint16)\n",
        "studyMins2"
      ],
      "metadata": {
        "colab": {
          "base_uri": "https://localhost:8080/"
        },
        "id": "d0hFB7z944AL",
        "outputId": "7d74ba7c-1707-4086-e4e3-343a744829b2"
      },
      "execution_count": null,
      "outputs": [
        {
          "output_type": "execute_result",
          "data": {
            "text/plain": [
              "array([0, 0, 0, 0, 0, 0, 0, 0, 0, 0, 0, 0, 0, 0, 0, 0, 0, 0, 0, 0, 0, 0,\n",
              "       0, 0, 0, 0, 0, 0, 0, 0, 0, 0, 0, 0, 0, 0, 0, 0, 0, 0, 0, 0, 0, 0,\n",
              "       0, 0, 0, 0, 0, 0, 0, 0, 0, 0, 0, 0, 0, 0, 0, 0, 0, 0, 0, 0, 0, 0,\n",
              "       0, 0, 0, 0, 0, 0, 0, 0, 0, 0, 0, 0, 0, 0, 0, 0, 0, 0, 0, 0, 0, 0,\n",
              "       0, 0, 0, 0, 0, 0, 0, 0, 0, 0, 0, 0], dtype=uint16)"
            ]
          },
          "metadata": {},
          "execution_count": 9
        }
      ]
    },
    {
      "cell_type": "code",
      "source": [
        "# First Day: Coded for 2.5 hours for the 100 day coding challenge\n",
        "# array[index] = num\n",
        "\n",
        "studyMins2[0] = 150\n",
        "firstDayMins = studyMins2[0]\n",
        "\n",
        "print(firstDayMins)"
      ],
      "metadata": {
        "colab": {
          "base_uri": "https://localhost:8080/"
        },
        "id": "mMC_cvIQkgQT",
        "outputId": "e680d812-8609-4498-dc3b-aacb232d8915"
      },
      "execution_count": null,
      "outputs": [
        {
          "output_type": "stream",
          "name": "stdout",
          "text": [
            "150\n"
          ]
        }
      ]
    },
    {
      "cell_type": "markdown",
      "source": [
        "### **What I realized:**\n",
        "So what we did when we changed the data type, we reassigned every item in the `studyMins2` numpy array into a `uint16` scalar data type while the array itself remains as a `ndarray`."
      ],
      "metadata": {
        "id": "EENKpeWs36ry"
      }
    },
    {
      "cell_type": "code",
      "source": [
        "# type() returns the data type of an object\n",
        "# Scalar Data Type is uint16\n",
        "print(type(firstDayMins))\n",
        "# Scalar Data Type is float64\n",
        "print(type(studyMins1[0]))\n",
        "# Data Type is ndarray\n",
        "print(type(studyMins2))"
      ],
      "metadata": {
        "colab": {
          "base_uri": "https://localhost:8080/"
        },
        "id": "GCBYjXoMllvO",
        "outputId": "5a2cbe7f-b082-47c9-dba5-370ef1119269"
      },
      "execution_count": null,
      "outputs": [
        {
          "output_type": "stream",
          "name": "stdout",
          "text": [
            "<class 'numpy.uint16'>\n",
            "<class 'numpy.float64'>\n",
            "<class 'numpy.ndarray'>\n"
          ]
        }
      ]
    },
    {
      "cell_type": "markdown",
      "source": [
        "### **Scalars**\n",
        "\n",
        "* Represents a singular value or element.\n",
        "* <a href=\"https://numpy.org/doc/stable/reference/arrays.dtypes.html#arrays-dtypes:~:text=%27u1%27)%5D))-,dtype,NumPy%20data%20type%20descriptions%20are%20instances%20of%20the%20dtype%20class.,-Attributes\"> Scalar data types </a>\n",
        "* Single values pulled out of a numpy array are scalar and is wrapped in their specific data type object\n"
      ],
      "metadata": {
        "id": "rnmRk2K5rouS"
      }
    },
    {
      "cell_type": "code",
      "source": [
        "# Second Day: Coded for an hour for the 100 day coding challenge\n",
        "studyMins2[1] = 60\n",
        "\n",
        "secondDayMins = studyMins2[1]\n",
        "\n",
        "print(secondDayMins)"
      ],
      "metadata": {
        "colab": {
          "base_uri": "https://localhost:8080/"
        },
        "id": "blT31bmtv2g5",
        "outputId": "119227ba-4f5b-4532-9198-4ec4e49bfe1a"
      },
      "execution_count": null,
      "outputs": [
        {
          "output_type": "stream",
          "name": "stdout",
          "text": [
            "60\n"
          ]
        }
      ]
    },
    {
      "cell_type": "code",
      "source": [
        "# Multiple Days: Days 3 - 7 log for the 100 day coding challenge\n",
        "# Slicing(startIndex, endIndex): exclusive; does not include the endIndex, 6 in this case\n",
        "# Inputs into day 3, 4, 5, 6\n",
        "studyMins2[2:6] = [80, 60, 30, 90]\n",
        "\n",
        "print(studyMins2)"
      ],
      "metadata": {
        "colab": {
          "base_uri": "https://localhost:8080/"
        },
        "id": "r0FkgGavwyEg",
        "outputId": "041d8e2a-cc3c-412a-b96c-7f9157e7a149"
      },
      "execution_count": null,
      "outputs": [
        {
          "output_type": "stream",
          "name": "stdout",
          "text": [
            "[150  60  80  60  30  90   0   0   0   0   0   0   0   0   0   0   0   0\n",
            "   0   0   0   0   0   0   0   0   0   0   0   0   0   0   0   0   0   0\n",
            "   0   0   0   0   0   0   0   0   0   0   0   0   0   0   0   0   0   0\n",
            "   0   0   0   0   0   0   0   0   0   0   0   0   0   0   0   0   0   0\n",
            "   0   0   0   0   0   0   0   0   0   0   0   0   0   0   0   0   0   0\n",
            "   0   0   0   0   0   0   0   0   0   0]\n"
          ]
        }
      ]
    },
    {
      "cell_type": "markdown",
      "source": [
        "## **[Multidimensional Arrays](https://teamtreehouse.com/library/introduction-to-numpy/multidimensional-arrays) Treehouse Section**\n",
        "\n",
        "**Introduced:**\n",
        "* `.ndim` - checks the number of dimensions in an array.\n",
        "* `.shape` - checks the number of elements in each dimension. Returns the rows first and then the columns.\n",
        "* `.size` - checks the total number of elements in an array\n",
        "* `len()` - checks the number of elements in just the first dimension of the ndarray\n",
        "* `.itemsize` - checks the number of bytes an element in an array is using (byte size)\n",
        "* `%whos ndarray` - you can specify the data type to pick out the variables with that data type. In this case, ndarrays only.\n",
        "\n",
        "### **Multidimensional Arrays**\n",
        "* Represents multiple values or elements.\n",
        "* N-dimensional array or <a href=\"https://numpy.org/doc/stable/reference/arrays.dtypes.html#arrays-dtypes:~:text=%27u1%27)%5D))-,dtype,NumPy%20data%20type%20descriptions%20are%20instances%20of%20the%20dtype%20class.,-Attributes\"> ndarray types </a>\n",
        "* Arrays and vectors are used interchangeably.\n",
        "* Terms:\n",
        "\t- **Rank.** Indicator for how many dimensions an array has.\n",
        "\t- **Vector.** Single dimensional arrays.\n",
        "\t- **Matrix.** Two dimensional arrays."
      ],
      "metadata": {
        "id": "oLutBUlUSz73"
      }
    },
    {
      "cell_type": "code",
      "source": [
        "# Each column represents a different year\n",
        "\n",
        "students_gpas = np.array([\n",
        "    [4.0, 3.286, 3.5, 4.0],    # Student 1\n",
        "    [3.2, 3.8, 4.0, 4.0],      # Student 2\n",
        "    [3.96, 3.92, 4.0, 4.0]     # Student 3\n",
        "], np.float16)\n",
        "\n",
        "# Chose float16 since it's the smallest data type out of the floats\n",
        "\n",
        "students_gpas"
      ],
      "metadata": {
        "colab": {
          "base_uri": "https://localhost:8080/"
        },
        "id": "jp0TKLfGWILU",
        "outputId": "c0877be4-fe9d-46ea-e621-dc61ac6fb80d"
      },
      "execution_count": null,
      "outputs": [
        {
          "output_type": "execute_result",
          "data": {
            "text/plain": [
              "array([[4.   , 3.285, 3.5  , 4.   ],\n",
              "       [3.2  , 3.8  , 4.   , 4.   ],\n",
              "       [3.96 , 3.92 , 4.   , 4.   ]], dtype=float16)"
            ]
          },
          "metadata": {},
          "execution_count": 14
        }
      ]
    },
    {
      "cell_type": "markdown",
      "source": [
        "#### **In the example above**\n",
        "Refer to [Old Data Types Documentation]\n",
        "\n",
        "Why choose `float16` for the data type?\n",
        "* It's the smallest data type out of the floats (`float16 , float32, float64`)\n",
        "\n",
        "Why not `uint16` like before?\n",
        "* We want a float data type since gpas are float numbers\n",
        "* `uint16` only supports integers\n",
        "* If we decided to assign it with `uint16`, the `student_gpas` would turn into this:\n",
        "    ```\n",
        "    array([[4, 3, 3, 4],\n",
        "        [3, 3, 4, 4],\n",
        "        [3, 3, 4, 4]], dtype=uint16)\n",
        "    ```\n",
        "    * Completely drops the decimal numbers, which we don't want.\n",
        "\n",
        "\n",
        "[Old Data Types Documentation]: https://docs.scipy.org/doc/numpy-1.14.0/user/basics.types.html\n"
      ],
      "metadata": {
        "id": "jcSM9F0aYSDO"
      }
    },
    {
      "cell_type": "code",
      "source": [
        "#Checks the number of dimensions\n",
        "print(students_gpas.ndim)\n",
        "\n",
        "#Checks the number of elements in each dimension\n",
        "print(students_gpas.shape)"
      ],
      "metadata": {
        "colab": {
          "base_uri": "https://localhost:8080/"
        },
        "id": "nMPshL4wbKwB",
        "outputId": "aa19e6b2-e52c-45a2-869b-fa221b4ed83e"
      },
      "execution_count": null,
      "outputs": [
        {
          "output_type": "stream",
          "name": "stdout",
          "text": [
            "2\n",
            "(3, 4)\n"
          ]
        }
      ]
    },
    {
      "cell_type": "markdown",
      "source": [
        "**In the code above there are 2 dimensions:**\n",
        "1. Students (3) (rows)\n",
        "2. Year (4) (columns)\n",
        "\n",
        "**Each element in this list represents the length of each *axis*:**\n",
        "* The plural of axis is **axes**, btw.\n",
        "* Remember x-axis and y-axis in graphing? Treat every dimension as an axis.\n",
        "* So there is a **student-axis** and **year-axis** in this array\n",
        "* For the shape of an array, it considers the rows first and then the columns.\n",
        "    * If you take a look of the output of `students_gpas.shape`, you'll notice that it looks like coordinates: (3, 4)\n",
        "    * To call for a specific element in an array, use the shape as your guide for the index. Remember, indexing a list starts at 0.\n",
        "    * Use this syntax to call a specific element: `array1[indexFirstDim, indexSecondDim]`.\n",
        "    * An example is showed below."
      ],
      "metadata": {
        "id": "DR_kR0tUc3QL"
      }
    },
    {
      "cell_type": "code",
      "source": [
        "#Called Student 3's array of grades\n",
        "print(students_gpas[2])\n",
        "\n",
        "#Called Student 3's gpa from the last year\n",
        "print(students_gpas[2,3])"
      ],
      "metadata": {
        "colab": {
          "base_uri": "https://localhost:8080/"
        },
        "id": "VLlGZH82312p",
        "outputId": "90d337d2-748b-4d80-82b7-bb8d2b7304a1"
      },
      "execution_count": null,
      "outputs": [
        {
          "output_type": "stream",
          "name": "stdout",
          "text": [
            "[3.96 3.92 4.   4.  ]\n",
            "4.0\n"
          ]
        }
      ]
    },
    {
      "cell_type": "code",
      "source": [
        "# Returns total number of elements in an array\n",
        "print(students_gpas.size)\n",
        "\n",
        "# Returns the number of elements in the first dimension\n",
        "# In this case, only the number of students\n",
        "print(len(students_gpas))\n",
        "\n",
        "# Shows how many bytes are being used for each item (byte size)\n",
        "print(students_gpas.itemsize)\n",
        "\n",
        "# Total data size\n",
        "print(students_gpas.itemsize * students_gpas.size)"
      ],
      "metadata": {
        "colab": {
          "base_uri": "https://localhost:8080/"
        },
        "id": "qVsnoe7NenwX",
        "outputId": "f55aab22-ed9c-4c0d-9312-36442868670c"
      },
      "execution_count": null,
      "outputs": [
        {
          "output_type": "stream",
          "name": "stdout",
          "text": [
            "12\n",
            "3\n",
            "2\n",
            "24\n"
          ]
        }
      ]
    },
    {
      "cell_type": "markdown",
      "source": [
        "**Cross referencing using `%whos ndarray`:**\n",
        "   \n",
        "```\n",
        "    Variable        Type       Data/Info\n",
        "    ------------------------------------\n",
        "    students_gpas   ndarray    3x4: 12 elems, type `float16`, 24 bytes\n",
        "```\n",
        "\n",
        "* We returned the correct values\n",
        "\n",
        "**About checking properties:**\n",
        "* `%whos` will only work on Jupyter or other IPython notebooks only.\n",
        "* You can use `np.info()` as an alternative to this in a Python shell showed below."
      ],
      "metadata": {
        "id": "NLZtC6Ohl1vk"
      }
    },
    {
      "cell_type": "code",
      "source": [
        "%whos ndarray\n",
        "print(\"\\n\")\n",
        "np.info(students_gpas)"
      ],
      "metadata": {
        "colab": {
          "base_uri": "https://localhost:8080/"
        },
        "id": "BSodhHs1nB7C",
        "outputId": "f13199ba-2f48-4b95-9d57-634ef6710f63"
      },
      "execution_count": null,
      "outputs": [
        {
          "output_type": "stream",
          "name": "stdout",
          "text": [
            "Variable        Type       Data/Info\n",
            "------------------------------------\n",
            "gpas            ndarray    4: 4 elems, type `float64`, 32 bytes\n",
            "students_gpas   ndarray    3x4: 12 elems, type `float16`, 24 bytes\n",
            "studyMins1      ndarray    100: 100 elems, type `float64`, 800 bytes\n",
            "studyMins2      ndarray    100: 100 elems, type `uint16`, 200 bytes\n",
            "txtArr          ndarray    4: 4 elems, type `<U9`, 144 bytes\n",
            "\n",
            "\n",
            "class:  ndarray\n",
            "shape:  (3, 4)\n",
            "strides:  (8, 2)\n",
            "itemsize:  2\n",
            "aligned:  True\n",
            "contiguous:  True\n",
            "fortran:  False\n",
            "data pointer: 0x5b2df1df5a40\n",
            "byteorder:  little\n",
            "byteswap:  False\n",
            "type: float16\n"
          ]
        }
      ]
    },
    {
      "cell_type": "markdown",
      "source": [
        "## **[Indexing] Treehouse Section**\n",
        "\n",
        "**Introduced:**\n",
        "* Adding more dimensions to an array\n",
        "* Distinguising containers (Tuples)\n",
        "* Random number generation for an array\n",
        "* Appending to a numpy array\n",
        "\n",
        "\n",
        "[Indexing]:https://teamtreehouse.com/library/introduction-to-numpy/indexing \"Indexing with Craig Dennis\"\n"
      ],
      "metadata": {
        "id": "4C0ZrKi_8Gcr"
      }
    },
    {
      "cell_type": "markdown",
      "source": [
        "**For this Treehouse tutorial, Craig set up this situation:**\n",
        "* Craig got derailed from the 100 days of code challenge and wanted to attempt it again.\n",
        "* Craig wanted to add a dimension called **\"rounds\"** into his pre-existing study log that we worked on earlier. `studyMins2`\n",
        "* **Reason?** He wanted to give the challenge another try. This 2nd attempt will be his **Round 2**.\n",
        "\n",
        "\n",
        "### **Adding Another Dimension**\n",
        "Adding an array to an array\n",
        "* `studyMins2` is your existing study log for the challenge. As of now, it is a vector. By adding another dimension, you're making the study log into a **matrix**.\n",
        "* In the syntax below:\n",
        "    ```\n",
        "        studyMins2 = np.array([\n",
        "            studyMins2,\n",
        "            np.zeros(100, np.uint16)  # New dimension: rounds\n",
        "        ])\n",
        "    ```\n",
        "    * `np.zeros(100, np.uint16)` is an array we created to act as the 2nd dimension. This will be our **\"rounds\"**.\n",
        "    * The shape of `studyMins2` is now (2, 100), making it into a matrix.\n",
        "    * 2 = rounds, 100 = days of coding"
      ],
      "metadata": {
        "id": "cEnSNBajF-WS"
      }
    },
    {
      "cell_type": "code",
      "source": [
        "# Adding a new dimension to the array\n",
        "# BE CAREFUL to run this only 1 time\n",
        "# The more you run this, the more new dimensions are being added to your array\n",
        "\n",
        "studyMins2 = np.array([\n",
        "    studyMins2,\n",
        "    np.zeros(100, np.uint16)  # New dimension, rounds\n",
        "])"
      ],
      "metadata": {
        "id": "VvWa4cYFBE-s"
      },
      "execution_count": null,
      "outputs": []
    },
    {
      "cell_type": "code",
      "source": [
        "print(studyMins2.shape,\"\\n\")\n",
        "print(studyMins2)"
      ],
      "metadata": {
        "id": "DPLAp3_5_LFZ",
        "colab": {
          "base_uri": "https://localhost:8080/"
        },
        "outputId": "4267d0e9-64e7-4d5f-9ec4-2afc03256910"
      },
      "execution_count": null,
      "outputs": [
        {
          "output_type": "stream",
          "name": "stdout",
          "text": [
            "(2, 100) \n",
            "\n",
            "[[150  60  80  60  30  90   0   0   0   0   0   0   0   0   0   0   0   0\n",
            "    0   0   0   0   0   0   0   0   0   0   0   0   0   0   0   0   0   0\n",
            "    0   0   0   0   0   0   0   0   0   0   0   0   0   0   0   0   0   0\n",
            "    0   0   0   0   0   0   0   0   0   0   0   0   0   0   0   0   0   0\n",
            "    0   0   0   0   0   0   0   0   0   0   0   0   0   0   0   0   0   0\n",
            "    0   0   0   0   0   0   0   0   0   0]\n",
            " [  0   0   0   0   0   0   0   0   0   0   0   0   0   0   0   0   0   0\n",
            "    0   0   0   0   0   0   0   0   0   0   0   0   0   0   0   0   0   0\n",
            "    0   0   0   0   0   0   0   0   0   0   0   0   0   0   0   0   0   0\n",
            "    0   0   0   0   0   0   0   0   0   0   0   0   0   0   0   0   0   0\n",
            "    0   0   0   0   0   0   0   0   0   0   0   0   0   0   0   0   0   0\n",
            "    0   0   0   0   0   0   0   0   0   0]]\n"
          ]
        }
      ]
    },
    {
      "cell_type": "markdown",
      "source": [
        "**Before adding a new dimension to `studyMins2` array:**\n",
        "<details>\n",
        "    <summary> Before </summary>\n",
        "\n",
        "        \n",
        "            [150  60  80  60  30  90   0   0   0   0   0   0   0   0   0   0   0   0\n",
        "            0   0   0   0   0   0   0   0   0   0   0   0   0   0   0   0   0   0\n",
        "            0   0   0   0   0   0   0   0   0   0   0   0   0   0   0   0   0   0\n",
        "            0   0   0   0   0   0   0   0   0   0   0   0   0   0   0   0   0   0\n",
        "            0   0   0   0   0   0   0   0   0   0   0   0   0   0   0   0   0   0\n",
        "            0   0   0   0   0   0   0   0   0   0]\n",
        "        \n",
        "\n",
        "</details>\n",
        "\n",
        "\n",
        "**After adding a new dimension to `studyMins2` array:**\n",
        "<details>\n",
        "    <summary> After </summary>\n",
        "    \n",
        "        \n",
        "        [[150  60  80  60  30  90   0   0   0   0   0   0   0   0   0   0   0   0\n",
        "            0   0   0   0   0   0   0   0   0   0   0   0   0   0   0   0   0   0\n",
        "            0   0   0   0   0   0   0   0   0   0   0   0   0   0   0   0   0   0\n",
        "            0   0   0   0   0   0   0   0   0   0   0   0   0   0   0   0   0   0\n",
        "            0   0   0   0   0   0   0   0   0   0   0   0   0   0   0   0   0   0\n",
        "            0   0   0   0   0   0   0   0   0   0]\n",
        "        [  0   0   0   0   0   0   0   0   0   0   0   0   0   0   0   0   0   0\n",
        "            0   0   0   0   0   0   0   0   0   0   0   0   0   0   0   0   0   0\n",
        "            0   0   0   0   0   0   0   0   0   0   0   0   0   0   0   0   0   0\n",
        "            0   0   0   0   0   0   0   0   0   0   0   0   0   0   0   0   0   0\n",
        "            0   0   0   0   0   0   0   0   0   0   0   0   0   0   0   0   0   0\n",
        "            0   0   0   0   0   0   0   0   0   0]]\n",
        "        \n",
        "\n",
        "</details>\n"
      ],
      "metadata": {
        "id": "OfQ0DbR2E0Us"
      }
    },
    {
      "cell_type": "code",
      "source": [
        "# Set round 2 day 1 to 60 mins\n",
        "studyMins2[1,0] = 60\n",
        "\n",
        "# The index in this [1,0] is assigned as a tuple by default\n",
        "\n",
        "# When expressed as a tuple, it will look like this\n",
        "studyMins2[(1,0)] = 60\n",
        "print(studyMins2)"
      ],
      "metadata": {
        "id": "wDeZyYIKJpXp",
        "colab": {
          "base_uri": "https://localhost:8080/"
        },
        "outputId": "989522db-6226-472c-94ff-b287a5682707"
      },
      "execution_count": null,
      "outputs": [
        {
          "output_type": "stream",
          "name": "stdout",
          "text": [
            "[[150  60  80  60  30  90   0   0   0   0   0   0   0   0   0   0   0   0\n",
            "    0   0   0   0   0   0   0   0   0   0   0   0   0   0   0   0   0   0\n",
            "    0   0   0   0   0   0   0   0   0   0   0   0   0   0   0   0   0   0\n",
            "    0   0   0   0   0   0   0   0   0   0   0   0   0   0   0   0   0   0\n",
            "    0   0   0   0   0   0   0   0   0   0   0   0   0   0   0   0   0   0\n",
            "    0   0   0   0   0   0   0   0   0   0]\n",
            " [ 60   0   0   0   0   0   0   0   0   0   0   0   0   0   0   0   0   0\n",
            "    0   0   0   0   0   0   0   0   0   0   0   0   0   0   0   0   0   0\n",
            "    0   0   0   0   0   0   0   0   0   0   0   0   0   0   0   0   0   0\n",
            "    0   0   0   0   0   0   0   0   0   0   0   0   0   0   0   0   0   0\n",
            "    0   0   0   0   0   0   0   0   0   0   0   0   0   0   0   0   0   0\n",
            "    0   0   0   0   0   0   0   0   0   0]]\n"
          ]
        }
      ]
    },
    {
      "cell_type": "markdown",
      "source": [
        "### **Concepts Mentioned in Treehouse**\n",
        "* **Tuple**\n",
        "    * A type of iterable container. There are 3 types of iterable containers:\n",
        "        1. **Lists**. Represented by `[]`\n",
        "        2. **Tuples**. Represented by `()`\n",
        "        3. **Dictionaries**. Represented by `{}`\n",
        "            * The type of container changes depending on what kind of bracket is used to contain an array.\n",
        "    * Stores objects in a specific order; you can't edit the items in it.\n",
        "    * More info in my [Python Keywords Evernote]. Search for the Iterable Containers in the list\n",
        "\n",
        "* **Random Number Generator**\n",
        "    * `np.random.RandomState(seed)`\n",
        "        - Constructs a random number generator\n",
        "        - Must be assigned to a variable.\n",
        "        - `seed` is an ***optional parameter***. A specific seed will always return the same set of random numbers.\n",
        "        <details>\n",
        "            <summary> Seed in practice: If you play Minecraft... </summary>\n",
        "            \n",
        "            >You can copy the same world generation if you find out the specific seed.\n",
        "\n",
        "        </details>\n",
        "\n",
        "    * `.randint(startNum,endNum,size=,dtype=)`\n",
        "        - Returns an integer number selected element from the specified range. Range is inclusive of start & end number.\n",
        "        <details>\n",
        "            <summary> Parameters: </summary>\n",
        "\n",
        "         - **`startNum`**. Required, the start of the integer range\n",
        "         - **`endNum`**. Required, the end of the integer range\n",
        "         - **`size=`**. Optional, dictates the no. of random numbers generated. Defaults to producing only 1 integer.\n",
        "         - **`dtype`**. Optional, assigns the data type. Default data type is `int64`\n",
        "\n",
        "        </details>\n",
        "* **Appending an array into another array**\n",
        "    * This is just adding another array to the matrix rather than adding an array to make another dimension.\n",
        "    * `np.append(array, values, axis=)`\n",
        "        - appends values along the mentioned axis at the end of the array\n",
        "        <details>\n",
        "            <summary> Parameters: </summary>\n",
        "\n",
        "         - **`array`**. Required, array to be appended.\n",
        "         - **`values`**. Required, values to be added in the array.\n",
        "            - Values must have the same **shape** as the array, excluding axis.\n",
        "            - If axis is not specified, values can be any shape and will be flattened before use\n",
        "         - **`axis`**. Optional, axis along which we want to insert the values. By default, array is flattened.   \n",
        "\n",
        "        </details>\n",
        "\n",
        "\n",
        "[Python Keywords Evernote]:https://www.evernote.com/shard/s398/sh/2a25581f-57c0-8e72-f95b-21acd3355d47/TraldsRiaZh4uUyRNeQD3XxTSVzxVdyb75bY3pbiyd9mRNYGWeZbZPzFxg \"Python Keywords\""
      ],
      "metadata": {
        "id": "_CzD6C4n6skT"
      }
    },
    {
      "cell_type": "code",
      "source": [
        "# Random number generator assigned to rand\n",
        "# Generating a vector called fake_log\n",
        "\n",
        "rand = np.random.RandomState(42)\n",
        "fake_log = rand.randint(30,180, size=100, dtype=np.uint16)\n",
        "fake_log"
      ],
      "metadata": {
        "colab": {
          "base_uri": "https://localhost:8080/"
        },
        "id": "Aamqw-gUu3a4",
        "outputId": "c0969988-842d-4ba7-e144-a517212514d6"
      },
      "execution_count": null,
      "outputs": [
        {
          "output_type": "execute_result",
          "data": {
            "text/plain": [
              "array([132, 122, 128,  44, 136, 129, 101,  95,  50, 132, 151,  64, 104,\n",
              "       175, 117, 146, 139, 129, 133, 176,  98, 160, 179,  99,  82, 142,\n",
              "        31, 106, 117,  56,  98,  67, 121, 159,  81, 170,  31,  50,  49,\n",
              "        87, 179,  51, 116, 177, 118,  78, 171, 117,  88, 123, 102,  44,\n",
              "        79,  31, 108,  80,  59, 137,  84,  93, 155, 160,  67,  80, 166,\n",
              "       164,  70,  50, 102, 113,  47, 131, 161, 118,  82,  89,  81,  43,\n",
              "        81,  38, 119,  52,  82,  31, 159,  57, 113,  71, 121, 140,  91,\n",
              "        70,  37, 106,  64, 127, 110,  58,  93,  79], dtype=uint16)"
            ]
          },
          "metadata": {},
          "execution_count": 22
        }
      ]
    },
    {
      "cell_type": "code",
      "source": [
        "# This generates a list []\n",
        "print([fake_log[3], fake_log[8]])\n",
        "# This generates a tuple ()\n",
        "fake_log[3], fake_log[8]"
      ],
      "metadata": {
        "colab": {
          "base_uri": "https://localhost:8080/"
        },
        "id": "GDexdHh9vaIO",
        "outputId": "5787fe8c-35a7-4bc6-da5f-0e11fc28e024"
      },
      "execution_count": null,
      "outputs": [
        {
          "output_type": "stream",
          "name": "stdout",
          "text": [
            "[44, 50]\n"
          ]
        },
        {
          "output_type": "execute_result",
          "data": {
            "text/plain": [
              "(44, 50)"
            ]
          },
          "metadata": {},
          "execution_count": 23
        }
      ]
    },
    {
      "cell_type": "code",
      "source": [
        "# Since it is in [], it's a list of 2 numbers to find in fake_log\n",
        "fake_log[[3,8]]\n",
        "\n",
        "# Reads the index as coordinates rather than individual numbers to locate\n",
        "# This will return an error as the coordinates are out of bounds\n",
        "# fake_log[3, 8]"
      ],
      "metadata": {
        "colab": {
          "base_uri": "https://localhost:8080/"
        },
        "id": "BHqj4s2GviSo",
        "outputId": "adc332bc-4647-445a-8687-5d160e25af24"
      },
      "execution_count": null,
      "outputs": [
        {
          "output_type": "execute_result",
          "data": {
            "text/plain": [
              "array([44, 50], dtype=uint16)"
            ]
          },
          "metadata": {},
          "execution_count": 24
        }
      ]
    },
    {
      "cell_type": "code",
      "source": [
        "# Creating a np.array (indexArr) to store lists of indexes\n",
        "\n",
        "indexArr = np.array([\n",
        "    [3, 8],\n",
        "    [0, 1]\n",
        "])\n",
        "\n",
        "fake_log[indexArr]"
      ],
      "metadata": {
        "colab": {
          "base_uri": "https://localhost:8080/"
        },
        "id": "M_P9_rIewsaP",
        "outputId": "a4e0ea0b-7f55-48f5-c88c-416256f58325"
      },
      "execution_count": null,
      "outputs": [
        {
          "output_type": "execute_result",
          "data": {
            "text/plain": [
              "array([[ 44,  50],\n",
              "       [132, 122]], dtype=uint16)"
            ]
          },
          "metadata": {},
          "execution_count": 25
        }
      ]
    },
    {
      "cell_type": "markdown",
      "source": [
        "#### **Appending `fake_log` to `studyMins2`**\n",
        "\n",
        "Remember, `studyMins2` has a shape of `(2, 100)`, meaning there are 2 dimensions:\n",
        "* 2 rounds\n",
        "* 100 days\n",
        "\n",
        "When appending, the array to append must have the **same number** of dimensions as the array you plan to append to. If not, it will return a ***ValueError***.\n",
        "\n",
        "> `fake_log` has a shape of `(100,)`, meaning it has only 1 dimension.\n",
        "\n",
        "To avoid the error, you can nestle `fake_log` into `[ ]` to make it a list of lists.\n",
        "> When done, the shape will now be `(1, 100)`, making it 2 dimensional.\n",
        "\n",
        "We want the axis to be 0, since we want `fake_log` to be round 3 rather than it being another dimension.\n",
        "* As mentioned before the shape of `studyMins2` is `(2,100)` with 2 representing the \"round-axis\".\n",
        "* To select the round-axis, which is the first dimension, the index will be **0**. Always remember that indexing always starts at 0!\n",
        "\n",
        "**All together, the code should be:**\n",
        "\n",
        "`studyMins2 = np.append(studyMins2, [fake_log], axis=0)`\n",
        "\n",
        "When done, the shape of `studyMins2` should be `(3, 100)`."
      ],
      "metadata": {
        "id": "yFGMZ1mXkNM8"
      }
    },
    {
      "cell_type": "code",
      "source": [
        "# Original shape of fake_log\n",
        "print(fake_log.shape)\n",
        "\n",
        "# Nestling fake_log into [] to make it 2 dimensional\n",
        "fake_log_list = np.array([fake_log])\n",
        "fake_log_list.shape"
      ],
      "metadata": {
        "colab": {
          "base_uri": "https://localhost:8080/"
        },
        "id": "z-BKfY0EnHnt",
        "outputId": "289b17bd-3712-4323-f8fd-c69376bb1967"
      },
      "execution_count": null,
      "outputs": [
        {
          "output_type": "stream",
          "name": "stdout",
          "text": [
            "(100,)\n"
          ]
        },
        {
          "output_type": "execute_result",
          "data": {
            "text/plain": [
              "(1, 100)"
            ]
          },
          "metadata": {},
          "execution_count": 26
        }
      ]
    },
    {
      "cell_type": "code",
      "source": [
        "# Appending fake_log to studyMins2\n",
        "\n",
        "studyMins2 = np.append(studyMins2, [fake_log], axis=0)"
      ],
      "metadata": {
        "id": "TNwDHbr5xDUA"
      },
      "execution_count": null,
      "outputs": []
    },
    {
      "cell_type": "code",
      "source": [
        "# Logging 6 hours of coding on round 2, day 2\n",
        "studyMins2[1,1] = 360"
      ],
      "metadata": {
        "id": "K-70vt4FxnVV"
      },
      "execution_count": null,
      "outputs": []
    },
    {
      "cell_type": "code",
      "source": [
        "print(studyMins2.shape,\"\\n\")\n",
        "\n",
        "studyMins2"
      ],
      "metadata": {
        "colab": {
          "base_uri": "https://localhost:8080/"
        },
        "id": "GeaN6rKkxdVL",
        "outputId": "873ec928-4d5a-4e12-b492-bb8b406d2174"
      },
      "execution_count": null,
      "outputs": [
        {
          "output_type": "stream",
          "name": "stdout",
          "text": [
            "(3, 100) \n",
            "\n"
          ]
        },
        {
          "output_type": "execute_result",
          "data": {
            "text/plain": [
              "array([[150,  60,  80,  60,  30,  90,   0,   0,   0,   0,   0,   0,   0,\n",
              "          0,   0,   0,   0,   0,   0,   0,   0,   0,   0,   0,   0,   0,\n",
              "          0,   0,   0,   0,   0,   0,   0,   0,   0,   0,   0,   0,   0,\n",
              "          0,   0,   0,   0,   0,   0,   0,   0,   0,   0,   0,   0,   0,\n",
              "          0,   0,   0,   0,   0,   0,   0,   0,   0,   0,   0,   0,   0,\n",
              "          0,   0,   0,   0,   0,   0,   0,   0,   0,   0,   0,   0,   0,\n",
              "          0,   0,   0,   0,   0,   0,   0,   0,   0,   0,   0,   0,   0,\n",
              "          0,   0,   0,   0,   0,   0,   0,   0,   0],\n",
              "       [ 60, 360,   0,   0,   0,   0,   0,   0,   0,   0,   0,   0,   0,\n",
              "          0,   0,   0,   0,   0,   0,   0,   0,   0,   0,   0,   0,   0,\n",
              "          0,   0,   0,   0,   0,   0,   0,   0,   0,   0,   0,   0,   0,\n",
              "          0,   0,   0,   0,   0,   0,   0,   0,   0,   0,   0,   0,   0,\n",
              "          0,   0,   0,   0,   0,   0,   0,   0,   0,   0,   0,   0,   0,\n",
              "          0,   0,   0,   0,   0,   0,   0,   0,   0,   0,   0,   0,   0,\n",
              "          0,   0,   0,   0,   0,   0,   0,   0,   0,   0,   0,   0,   0,\n",
              "          0,   0,   0,   0,   0,   0,   0,   0,   0],\n",
              "       [132, 122, 128,  44, 136, 129, 101,  95,  50, 132, 151,  64, 104,\n",
              "        175, 117, 146, 139, 129, 133, 176,  98, 160, 179,  99,  82, 142,\n",
              "         31, 106, 117,  56,  98,  67, 121, 159,  81, 170,  31,  50,  49,\n",
              "         87, 179,  51, 116, 177, 118,  78, 171, 117,  88, 123, 102,  44,\n",
              "         79,  31, 108,  80,  59, 137,  84,  93, 155, 160,  67,  80, 166,\n",
              "        164,  70,  50, 102, 113,  47, 131, 161, 118,  82,  89,  81,  43,\n",
              "         81,  38, 119,  52,  82,  31, 159,  57, 113,  71, 121, 140,  91,\n",
              "         70,  37, 106,  64, 127, 110,  58,  93,  79]], dtype=uint16)"
            ]
          },
          "metadata": {},
          "execution_count": 29
        }
      ]
    },
    {
      "cell_type": "markdown",
      "source": [
        "## **[Boolean Array Indexing] Treehouse Section**\n",
        "\n",
        "**Introduced:**\n",
        "* **Boolean array indexing**\n",
        "* **Using bitwise logic operators:**\n",
        "    * `&` - and\n",
        "    * `|` - or\n",
        "    * `^` - xor; exclusive or; compares if values are the same or not\n",
        "        - if the same = false\n",
        "        - if different = true\n",
        "    * `~` - not\n",
        "* **Why use Bitwise Operators rather than just and, or, xor & not?**\n",
        "\t- `and` and `or` considers the **entire object**\n",
        "\t- `&` and `|` refer to **bits** within each object.\n",
        "\t- When you use `and` or `or`, it's equivalent to asking Python to treat the object as a single Boolean entity.\n",
        "    - **References:**\n",
        "        - <a href=\"https://jakevdp.github.io/PythonDataScienceHandbook/02.06-boolean-arrays-and-masks.html#Boolean-operators:~:text=Boolean%20operators,usually%20Boolean)%20arrays.\"> Boolean Operators </a>\n",
        "        - [How does bitwise ^ (XOR) work?](https://www.loginradius.com/blog/engineering/how-does-bitwise-xor-work/#:~:text=XOR%20is%20a%20bitwise%20operator%2C%20and%20it%20stands%20for%20%22exclusive%20or.%22%20It%20performs%20logical%20operation.%20If%20input%20bits%20are%20the%20same%2C%20then%20the%20output%20will%20be%20false(0%29%20else%20true(1%29.)\n",
        "* **Updating certain values using boolean array indexing**\n",
        "\n",
        "[Boolean Array Indexing]:https://teamtreehouse.com/library/introduction-to-numpy/boolean-array-indexing \"Boolean Array Indexing\""
      ],
      "metadata": {
        "id": "11MJkZe6uTPe"
      }
    },
    {
      "cell_type": "code",
      "source": [
        "# Boolean Array Indexing\n",
        "# Returns True or False depending on the condition set\n",
        "print(fake_log < 60,\"\\n\")\n",
        "\n",
        "# Indexing all values in fake_log that are < 60\n",
        "fake_log[fake_log < 60]"
      ],
      "metadata": {
        "colab": {
          "base_uri": "https://localhost:8080/"
        },
        "id": "DCOBaRZAvBKO",
        "outputId": "8fc01791-ee30-44d5-f691-39e4f928f041"
      },
      "execution_count": null,
      "outputs": [
        {
          "output_type": "stream",
          "name": "stdout",
          "text": [
            "[False False False  True False False False False  True False False False\n",
            " False False False False False False False False False False False False\n",
            " False False  True False False  True False False False False False False\n",
            "  True  True  True False False  True False False False False False False\n",
            " False False False  True False  True False False  True False False False\n",
            " False False False False False False False  True False False  True False\n",
            " False False False False False  True False  True False  True False  True\n",
            " False  True False False False False False False  True False False False\n",
            " False  True False False] \n",
            "\n"
          ]
        },
        {
          "output_type": "execute_result",
          "data": {
            "text/plain": [
              "array([44, 50, 31, 56, 31, 50, 49, 51, 44, 31, 59, 50, 47, 43, 38, 52, 31,\n",
              "       57, 37, 58], dtype=uint16)"
            ]
          },
          "metadata": {},
          "execution_count": 30
        }
      ]
    },
    {
      "cell_type": "code",
      "source": [
        "# Alt way of getting all <60 but slower compared to boolean array indexing\n",
        "# Will through fake_log until it collect all values <60\n",
        "results = []\n",
        "for value in fake_log:\n",
        "    if value < 60:\n",
        "        results.append(value)\n",
        "np.array(results)"
      ],
      "metadata": {
        "id": "HRNJTHbZwA0E",
        "colab": {
          "base_uri": "https://localhost:8080/"
        },
        "outputId": "01a03c4d-aca4-4aec-97f6-8b152e168071"
      },
      "execution_count": null,
      "outputs": [
        {
          "output_type": "execute_result",
          "data": {
            "text/plain": [
              "array([44, 50, 31, 56, 31, 50, 49, 51, 44, 31, 59, 50, 47, 43, 38, 52, 31,\n",
              "       57, 37, 58], dtype=uint16)"
            ]
          },
          "metadata": {},
          "execution_count": 31
        }
      ]
    },
    {
      "cell_type": "code",
      "source": [
        "# Indexing 2 conditions: numbers in between 0 and 60\n",
        "# MUST USE & NOT and because it will cause a ValueError\n",
        "# Put conditions in parentheses due to the order of operations\n",
        "    # & is a stronger operator than < and >\n",
        "\n",
        "print(studyMins2[(studyMins2 >0) & (studyMins2 < 60)],\"\\n\");\n",
        "\n",
        "# Formatting it\n",
        "print(*studyMins2[(studyMins2 >0) & (studyMins2 < 60)],sep=\", \");\n",
        "print(\"\")\n",
        "\n",
        "studyMins2[studyMins2 < 60]"
      ],
      "metadata": {
        "id": "jgrtyFptw3iG",
        "colab": {
          "base_uri": "https://localhost:8080/"
        },
        "outputId": "df90f440-a619-4ff6-b6fe-aa88f8f7ed4c"
      },
      "execution_count": null,
      "outputs": [
        {
          "output_type": "stream",
          "name": "stdout",
          "text": [
            "[30 44 50 31 56 31 50 49 51 44 31 59 50 47 43 38 52 31 57 37 58] \n",
            "\n",
            "30, 44, 50, 31, 56, 31, 50, 49, 51, 44, 31, 59, 50, 47, 43, 38, 52, 31, 57, 37, 58\n",
            "\n"
          ]
        },
        {
          "output_type": "execute_result",
          "data": {
            "text/plain": [
              "array([30,  0,  0,  0,  0,  0,  0,  0,  0,  0,  0,  0,  0,  0,  0,  0,  0,\n",
              "        0,  0,  0,  0,  0,  0,  0,  0,  0,  0,  0,  0,  0,  0,  0,  0,  0,\n",
              "        0,  0,  0,  0,  0,  0,  0,  0,  0,  0,  0,  0,  0,  0,  0,  0,  0,\n",
              "        0,  0,  0,  0,  0,  0,  0,  0,  0,  0,  0,  0,  0,  0,  0,  0,  0,\n",
              "        0,  0,  0,  0,  0,  0,  0,  0,  0,  0,  0,  0,  0,  0,  0,  0,  0,\n",
              "        0,  0,  0,  0,  0,  0,  0,  0,  0,  0,  0,  0,  0,  0,  0,  0,  0,\n",
              "        0,  0,  0,  0,  0,  0,  0,  0,  0,  0,  0,  0,  0,  0,  0,  0,  0,\n",
              "        0,  0,  0,  0,  0,  0,  0,  0,  0,  0,  0,  0,  0,  0,  0,  0,  0,\n",
              "        0,  0,  0,  0,  0,  0,  0,  0,  0,  0,  0,  0,  0,  0,  0,  0,  0,\n",
              "        0,  0,  0,  0,  0,  0,  0,  0,  0,  0,  0,  0,  0,  0,  0,  0,  0,\n",
              "        0,  0,  0,  0,  0,  0,  0,  0,  0,  0,  0,  0,  0,  0,  0,  0,  0,\n",
              "        0,  0,  0,  0,  0,  0, 44, 50, 31, 56, 31, 50, 49, 51, 44, 31, 59,\n",
              "       50, 47, 43, 38, 52, 31, 57, 37, 58], dtype=uint16)"
            ]
          },
          "metadata": {},
          "execution_count": 32
        }
      ]
    },
    {
      "cell_type": "code",
      "source": [
        "# Updated all values that were less than 60 to 0\n",
        "studyMins2[studyMins2 < 60] = 0"
      ],
      "metadata": {
        "id": "SkJ5al8WySb-"
      },
      "execution_count": null,
      "outputs": []
    },
    {
      "cell_type": "code",
      "source": [
        "studyMins2"
      ],
      "metadata": {
        "id": "3wJXULsz0ryx",
        "colab": {
          "base_uri": "https://localhost:8080/"
        },
        "outputId": "a765aca8-6d9e-427f-bd88-70532f4d00c8"
      },
      "execution_count": null,
      "outputs": [
        {
          "output_type": "execute_result",
          "data": {
            "text/plain": [
              "array([[150,  60,  80,  60,   0,  90,   0,   0,   0,   0,   0,   0,   0,\n",
              "          0,   0,   0,   0,   0,   0,   0,   0,   0,   0,   0,   0,   0,\n",
              "          0,   0,   0,   0,   0,   0,   0,   0,   0,   0,   0,   0,   0,\n",
              "          0,   0,   0,   0,   0,   0,   0,   0,   0,   0,   0,   0,   0,\n",
              "          0,   0,   0,   0,   0,   0,   0,   0,   0,   0,   0,   0,   0,\n",
              "          0,   0,   0,   0,   0,   0,   0,   0,   0,   0,   0,   0,   0,\n",
              "          0,   0,   0,   0,   0,   0,   0,   0,   0,   0,   0,   0,   0,\n",
              "          0,   0,   0,   0,   0,   0,   0,   0,   0],\n",
              "       [ 60, 360,   0,   0,   0,   0,   0,   0,   0,   0,   0,   0,   0,\n",
              "          0,   0,   0,   0,   0,   0,   0,   0,   0,   0,   0,   0,   0,\n",
              "          0,   0,   0,   0,   0,   0,   0,   0,   0,   0,   0,   0,   0,\n",
              "          0,   0,   0,   0,   0,   0,   0,   0,   0,   0,   0,   0,   0,\n",
              "          0,   0,   0,   0,   0,   0,   0,   0,   0,   0,   0,   0,   0,\n",
              "          0,   0,   0,   0,   0,   0,   0,   0,   0,   0,   0,   0,   0,\n",
              "          0,   0,   0,   0,   0,   0,   0,   0,   0,   0,   0,   0,   0,\n",
              "          0,   0,   0,   0,   0,   0,   0,   0,   0],\n",
              "       [132, 122, 128,   0, 136, 129, 101,  95,   0, 132, 151,  64, 104,\n",
              "        175, 117, 146, 139, 129, 133, 176,  98, 160, 179,  99,  82, 142,\n",
              "          0, 106, 117,   0,  98,  67, 121, 159,  81, 170,   0,   0,   0,\n",
              "         87, 179,   0, 116, 177, 118,  78, 171, 117,  88, 123, 102,   0,\n",
              "         79,   0, 108,  80,   0, 137,  84,  93, 155, 160,  67,  80, 166,\n",
              "        164,  70,   0, 102, 113,   0, 131, 161, 118,  82,  89,  81,   0,\n",
              "         81,   0, 119,   0,  82,   0, 159,   0, 113,  71, 121, 140,  91,\n",
              "         70,   0, 106,  64, 127, 110,   0,  93,  79]], dtype=uint16)"
            ]
          },
          "metadata": {},
          "execution_count": 34
        }
      ]
    },
    {
      "cell_type": "markdown",
      "source": [
        "\n",
        "**Before updating values <60:**\n",
        "\n",
        "<details>\n",
        "    <summary> Before </summary>\n",
        "    \n",
        "    \n",
        "            array([[150,  60,  80,  60,  30,  90,   0,   0,   0,   0,   0,   0,   0,\n",
        "                    0,   0,   0,   0,   0,   0,   0,   0,   0,   0,   0,   0,   0,\n",
        "                    0,   0,   0,   0,   0,   0,   0,   0,   0,   0,   0,   0,   0,\n",
        "                    0,   0,   0,   0,   0,   0,   0,   0,   0,   0,   0,   0,   0,\n",
        "                    0,   0,   0,   0,   0,   0,   0,   0,   0,   0,   0,   0,   0,\n",
        "                    0,   0,   0,   0,   0,   0,   0,   0,   0,   0,   0,   0,   0,\n",
        "                    0,   0,   0,   0,   0,   0,   0,   0,   0,   0,   0,   0,   0,\n",
        "                    0,   0,   0,   0,   0,   0,   0,   0,   0],\n",
        "                [ 60, 360,   0,   0,   0,   0,   0,   0,   0,   0,   0,   0,   0,\n",
        "                    0,   0,   0,   0,   0,   0,   0,   0,   0,   0,   0,   0,   0,\n",
        "                    0,   0,   0,   0,   0,   0,   0,   0,   0,   0,   0,   0,   0,\n",
        "                    0,   0,   0,   0,   0,   0,   0,   0,   0,   0,   0,   0,   0,\n",
        "                    0,   0,   0,   0,   0,   0,   0,   0,   0,   0,   0,   0,   0,\n",
        "                    0,   0,   0,   0,   0,   0,   0,   0,   0,   0,   0,   0,   0,\n",
        "                    0,   0,   0,   0,   0,   0,   0,   0,   0,   0,   0,   0,   0,\n",
        "                    0,   0,   0,   0,   0,   0,   0,   0,   0],\n",
        "                [132, 122, 128,  44, 136, 129, 101,  95,  50, 132, 151,  64, 104,\n",
        "                    175, 117, 146, 139, 129, 133, 176,  98, 160, 179,  99,  82, 142,\n",
        "                    31, 106, 117,  56,  98,  67, 121, 159,  81, 170,  31,  50,  49,\n",
        "                    87, 179,  51, 116, 177, 118,  78, 171, 117,  88, 123, 102,  44,\n",
        "                    79,  31, 108,  80,  59, 137,  84,  93, 155, 160,  67,  80, 166,\n",
        "                    164,  70,  50, 102, 113,  47, 131, 161, 118,  82,  89,  81,  43,\n",
        "                    81,  38, 119,  52,  82,  31, 159,  57, 113,  71, 121, 140,  91,\n",
        "                    70,  37, 106,  64, 127, 110,  58,  93,  79]], dtype=uint16)\n",
        "\n",
        "    \n",
        "</details>\n",
        "\n",
        "\n",
        "**After updating values <60 to zero:**\n",
        "\n",
        "<details>\n",
        "    <summary> After </summary>\n",
        "\n",
        "\n",
        "            array([[150,  60,  80,  60,   0,  90,   0,   0,   0,   0,   0,   0,   0,\n",
        "                    0,   0,   0,   0,   0,   0,   0,   0,   0,   0,   0,   0,   0,\n",
        "                    0,   0,   0,   0,   0,   0,   0,   0,   0,   0,   0,   0,   0,\n",
        "                    0,   0,   0,   0,   0,   0,   0,   0,   0,   0,   0,   0,   0,\n",
        "                    0,   0,   0,   0,   0,   0,   0,   0,   0,   0,   0,   0,   0,\n",
        "                    0,   0,   0,   0,   0,   0,   0,   0,   0,   0,   0,   0,   0,\n",
        "                    0,   0,   0,   0,   0,   0,   0,   0,   0,   0,   0,   0,   0,\n",
        "                    0,   0,   0,   0,   0,   0,   0,   0,   0],\n",
        "                [ 60, 360,   0,   0,   0,   0,   0,   0,   0,   0,   0,   0,   0,\n",
        "                    0,   0,   0,   0,   0,   0,   0,   0,   0,   0,   0,   0,   0,\n",
        "                    0,   0,   0,   0,   0,   0,   0,   0,   0,   0,   0,   0,   0,\n",
        "                    0,   0,   0,   0,   0,   0,   0,   0,   0,   0,   0,   0,   0,\n",
        "                    0,   0,   0,   0,   0,   0,   0,   0,   0,   0,   0,   0,   0,\n",
        "                    0,   0,   0,   0,   0,   0,   0,   0,   0,   0,   0,   0,   0,\n",
        "                    0,   0,   0,   0,   0,   0,   0,   0,   0,   0,   0,   0,   0,\n",
        "                    0,   0,   0,   0,   0,   0,   0,   0,   0],\n",
        "                [132, 122, 128,   0, 136, 129, 101,  95,   0, 132, 151,  64, 104,\n",
        "                    175, 117, 146, 139, 129, 133, 176,  98, 160, 179,  99,  82, 142,\n",
        "                    0, 106, 117,   0,  98,  67, 121, 159,  81, 170,   0,   0,   0,\n",
        "                    87, 179,   0, 116, 177, 118,  78, 171, 117,  88, 123, 102,   0,\n",
        "                    79,   0, 108,  80,   0, 137,  84,  93, 155, 160,  67,  80, 166,\n",
        "                    164,  70,   0, 102, 113,   0, 131, 161, 118,  82,  89,  81,   0,\n",
        "                    81,   0, 119,   0,  82,   0, 159,   0, 113,  71, 121, 140,  91,\n",
        "                    70,   0, 106,  64, 127, 110,   0,  93,  79]], dtype=uint16)\n",
        "\n",
        "\n",
        "</details>"
      ],
      "metadata": {
        "id": "uDUrbvha0-5c"
      }
    },
    {
      "cell_type": "markdown",
      "source": [
        "## **[Slicing]** Treehouse Section\n",
        "\n",
        "**Introduces:**\n",
        "* `:` **Slicing**\n",
        "    * Returns a range of elements from the specified start and end index. The end index is excluded from the range.\n",
        "    * You can select items by increments\n",
        "    * You can reverse the order by making the increment number to (-)\n",
        "    * **With Python Lists**\n",
        "        * Returns a **copy** of the items.\n",
        "    * **With ndarrays**\n",
        "        * Returns a **data view** rather than a copy.\n",
        "        * If you used the slice method to copy an ndarray to another variable and updated that variable, the original ndarray will also be updated.\n",
        "        * You can use `,` to separate each dimension slice\n",
        "\n",
        "\n",
        "* **`np.arrange(num)`** - generates a range up to but not including the number specificed\n",
        "* **Check if a variable is a data view or not through:**\n",
        "    1. `variable.base is None`\n",
        "    2. `variable.flags['OWNDATA']`\n",
        "* **Confirm if the array referenced is the basis of the data view:** `variable.base is varReference`\n",
        "* **`.flags`** - a dictionary in NumPy\n",
        "    * `OWNDATA` - key in the `.flags` dictionary; returns a boolean result whether the variable owns its values or not.\n",
        "    * [flags documentation on NumPy]\n",
        "\n",
        "\n",
        "[Slicing]: https://teamtreehouse.com/library/introduction-to-numpy/slicing \"Slicing\"\n",
        "[flags documentation on NumPy]: https://numpy.org/doc/stable/reference/generated/numpy.ndarray.flags.html \"np.ndarray.flags\""
      ],
      "metadata": {
        "id": "Z_CUIIMH_FGj"
      }
    },
    {
      "cell_type": "code",
      "source": [
        "fruits = [\"apple\",\"banana\",\"cherry\",\"durian\"]\n",
        "\n",
        "print(fruits[1:3])\n",
        "print(fruits[:3])\n",
        "print(fruits[3:])\n",
        "\n",
        "# By slicing, you are copying the items from an array\n",
        "print(fruits[:])"
      ],
      "metadata": {
        "colab": {
          "base_uri": "https://localhost:8080/"
        },
        "id": "ME1JEaSA_tvU",
        "outputId": "c88c4b4f-4837-4b4a-bb49-58bb2c15f232"
      },
      "execution_count": null,
      "outputs": [
        {
          "output_type": "stream",
          "name": "stdout",
          "text": [
            "['banana', 'cherry']\n",
            "['apple', 'banana', 'cherry']\n",
            "['durian']\n",
            "['apple', 'banana', 'cherry', 'durian']\n"
          ]
        }
      ]
    },
    {
      "cell_type": "code",
      "source": [
        "copied = fruits[:]\n",
        "copied[3] = 'cheese'\n",
        "\n",
        "fruits,copied"
      ],
      "metadata": {
        "colab": {
          "base_uri": "https://localhost:8080/"
        },
        "id": "oSrfFw9jAULC",
        "outputId": "e93875d9-af6a-4fff-87ac-c2f7b1a6971d"
      },
      "execution_count": null,
      "outputs": [
        {
          "output_type": "execute_result",
          "data": {
            "text/plain": [
              "(['apple', 'banana', 'cherry', 'durian'],\n",
              " ['apple', 'banana', 'cherry', 'cheese'])"
            ]
          },
          "metadata": {},
          "execution_count": 36
        }
      ]
    },
    {
      "cell_type": "code",
      "source": [
        "# Gets every item over increments of 2\n",
        "print(fruits[::2])\n",
        "\n",
        "#Gets every item in reverse\n",
        "fruits[::-1]"
      ],
      "metadata": {
        "colab": {
          "base_uri": "https://localhost:8080/"
        },
        "id": "BWUxdKvABhH5",
        "outputId": "c20b2630-9ab4-444f-f587-8480a91644f8"
      },
      "execution_count": null,
      "outputs": [
        {
          "output_type": "stream",
          "name": "stdout",
          "text": [
            "['apple', 'cherry']\n"
          ]
        },
        {
          "output_type": "execute_result",
          "data": {
            "text/plain": [
              "['durian', 'cherry', 'banana', 'apple']"
            ]
          },
          "metadata": {},
          "execution_count": 37
        }
      ]
    },
    {
      "cell_type": "code",
      "source": [
        "# Generates an array up to but not including 20\n",
        "np.arange(20)"
      ],
      "metadata": {
        "colab": {
          "base_uri": "https://localhost:8080/"
        },
        "id": "O_jLFurpCJjs",
        "outputId": "0906245c-50ff-4bf4-c779-d58ce7e8243e"
      },
      "execution_count": null,
      "outputs": [
        {
          "output_type": "execute_result",
          "data": {
            "text/plain": [
              "array([ 0,  1,  2,  3,  4,  5,  6,  7,  8,  9, 10, 11, 12, 13, 14, 15, 16,\n",
              "       17, 18, 19])"
            ]
          },
          "metadata": {},
          "execution_count": 38
        }
      ]
    },
    {
      "cell_type": "code",
      "source": [
        "practice = np.arange(42)\n",
        "practice.shape = (7,6)\n",
        "practice"
      ],
      "metadata": {
        "colab": {
          "base_uri": "https://localhost:8080/"
        },
        "id": "JHYRsLT4Coqz",
        "outputId": "84ec7a7f-0170-44fe-ac51-0d0387abc32a"
      },
      "execution_count": null,
      "outputs": [
        {
          "output_type": "execute_result",
          "data": {
            "text/plain": [
              "array([[ 0,  1,  2,  3,  4,  5],\n",
              "       [ 6,  7,  8,  9, 10, 11],\n",
              "       [12, 13, 14, 15, 16, 17],\n",
              "       [18, 19, 20, 21, 22, 23],\n",
              "       [24, 25, 26, 27, 28, 29],\n",
              "       [30, 31, 32, 33, 34, 35],\n",
              "       [36, 37, 38, 39, 40, 41]])"
            ]
          },
          "metadata": {},
          "execution_count": 39
        }
      ]
    },
    {
      "cell_type": "code",
      "source": [
        "# Calling a particular number\n",
        "print(practice[2,1],\"\\n\")\n",
        "# Calling rows 3-5\n",
        "print(practice[2:5],\"\\n\")\n",
        "# Calling rows 3-5, showing only column 4\n",
        "print(practice[2:5, 3],\"\\n\")\n",
        "# Calling rows 3-5, showing columns 4 until the last column\n",
        "print(practice[2:5, 3:],\"\\n\")\n",
        "# Calling rows 3-5, and every other column starting at column 4\n",
        "print(practice[2:5, 3::2])"
      ],
      "metadata": {
        "colab": {
          "base_uri": "https://localhost:8080/"
        },
        "id": "9KugTsTnDA8M",
        "outputId": "2d073c4d-40bd-4ee5-b0cf-e76749b638da"
      },
      "execution_count": null,
      "outputs": [
        {
          "output_type": "stream",
          "name": "stdout",
          "text": [
            "13 \n",
            "\n",
            "[[12 13 14 15 16 17]\n",
            " [18 19 20 21 22 23]\n",
            " [24 25 26 27 28 29]] \n",
            "\n",
            "[15 21 27] \n",
            "\n",
            "[[15 16 17]\n",
            " [21 22 23]\n",
            " [27 28 29]] \n",
            "\n",
            "[[15 17]\n",
            " [21 23]\n",
            " [27 29]]\n"
          ]
        }
      ]
    },
    {
      "cell_type": "code",
      "source": [
        "# Any slicing of ndarray returns a view and not a copy\n",
        "not_copied = practice[:]\n",
        "not_copied[0,0] = 90210\n",
        "practice, not_copied"
      ],
      "metadata": {
        "colab": {
          "base_uri": "https://localhost:8080/"
        },
        "id": "IsUtRdhZE9kE",
        "outputId": "7f8a25ef-96f5-4eff-8ffe-6018624930eb"
      },
      "execution_count": null,
      "outputs": [
        {
          "output_type": "execute_result",
          "data": {
            "text/plain": [
              "(array([[90210,     1,     2,     3,     4,     5],\n",
              "        [    6,     7,     8,     9,    10,    11],\n",
              "        [   12,    13,    14,    15,    16,    17],\n",
              "        [   18,    19,    20,    21,    22,    23],\n",
              "        [   24,    25,    26,    27,    28,    29],\n",
              "        [   30,    31,    32,    33,    34,    35],\n",
              "        [   36,    37,    38,    39,    40,    41]]),\n",
              " array([[90210,     1,     2,     3,     4,     5],\n",
              "        [    6,     7,     8,     9,    10,    11],\n",
              "        [   12,    13,    14,    15,    16,    17],\n",
              "        [   18,    19,    20,    21,    22,    23],\n",
              "        [   24,    25,    26,    27,    28,    29],\n",
              "        [   30,    31,    32,    33,    34,    35],\n",
              "        [   36,    37,    38,    39,    40,    41]]))"
            ]
          },
          "metadata": {},
          "execution_count": 41
        }
      ]
    },
    {
      "cell_type": "code",
      "source": [
        "# Check to see if this is a base object or a data view\n",
        "# True because it is not based on anything but itself\n",
        "practice.base is None"
      ],
      "metadata": {
        "colab": {
          "base_uri": "https://localhost:8080/"
        },
        "id": "yvNlPFMXF6Wf",
        "outputId": "78a8afc3-29eb-46f2-edd3-8ebd21112331"
      },
      "execution_count": null,
      "outputs": [
        {
          "output_type": "execute_result",
          "data": {
            "text/plain": [
              "True"
            ]
          },
          "metadata": {},
          "execution_count": 42
        }
      ]
    },
    {
      "cell_type": "code",
      "source": [
        "# False since it's bsed on practice\n",
        "not_copied.base is None"
      ],
      "metadata": {
        "colab": {
          "base_uri": "https://localhost:8080/"
        },
        "id": "BMRATghxGBTX",
        "outputId": "30c3cab1-5c2a-4047-a730-6769306243c8"
      },
      "execution_count": null,
      "outputs": [
        {
          "output_type": "execute_result",
          "data": {
            "text/plain": [
              "False"
            ]
          },
          "metadata": {},
          "execution_count": 43
        }
      ]
    },
    {
      "cell_type": "code",
      "source": [
        "# True since not_copied is based on practice\n",
        "not_copied.base is practice"
      ],
      "metadata": {
        "colab": {
          "base_uri": "https://localhost:8080/"
        },
        "id": "QyrizYymGCqp",
        "outputId": "32227da7-1cb0-41fe-a79a-db4a3e94991e"
      },
      "execution_count": null,
      "outputs": [
        {
          "output_type": "execute_result",
          "data": {
            "text/plain": [
              "True"
            ]
          },
          "metadata": {},
          "execution_count": 44
        }
      ]
    },
    {
      "cell_type": "code",
      "source": [
        "# OWNDATA is a key within flags, which is a dictionary\n",
        "\n",
        "practice.flags['OWNDATA'], not_copied.flags['OWNDATA']"
      ],
      "metadata": {
        "colab": {
          "base_uri": "https://localhost:8080/"
        },
        "id": "qbfsqnWRGv4A",
        "outputId": "854aac53-542b-45c8-ec7e-cd0e60b6bbe8"
      },
      "execution_count": null,
      "outputs": [
        {
          "output_type": "execute_result",
          "data": {
            "text/plain": [
              "(True, False)"
            ]
          },
          "metadata": {},
          "execution_count": 45
        }
      ]
    },
    {
      "cell_type": "code",
      "source": [
        "not_copied.base"
      ],
      "metadata": {
        "colab": {
          "base_uri": "https://localhost:8080/"
        },
        "id": "qGqDUY9oIQgJ",
        "outputId": "9d8f1ea3-6772-41a2-a38d-75a666648ce0"
      },
      "execution_count": null,
      "outputs": [
        {
          "output_type": "execute_result",
          "data": {
            "text/plain": [
              "array([[90210,     1,     2,     3,     4,     5],\n",
              "       [    6,     7,     8,     9,    10,    11],\n",
              "       [   12,    13,    14,    15,    16,    17],\n",
              "       [   18,    19,    20,    21,    22,    23],\n",
              "       [   24,    25,    26,    27,    28,    29],\n",
              "       [   30,    31,    32,    33,    34,    35],\n",
              "       [   36,    37,    38,    39,    40,    41]])"
            ]
          },
          "metadata": {},
          "execution_count": 46
        }
      ]
    },
    {
      "cell_type": "markdown",
      "source": [
        "## **[Manipulation] Treehouse Section**\n",
        "\n",
        "**Introduced:**\n",
        "* `.reshape()`\n",
        "    * Creates a ***view*** that reshapes the length of each dimension.\n",
        "    * It doesn't produce a copy so this saves up on space.\n",
        "    * If you input a (-) number in the parameter for one of the dimensions, it will **infer** what number could work with whatever dimension length you set for the other dimension(s) in the same array.\n",
        "\n",
        "\n",
        "\n",
        "[Manipulation]:https://teamtreehouse.com/library/introduction-to-numpy/manipulation \"Manipulation\""
      ],
      "metadata": {
        "id": "WHqXmNZV5sDj"
      }
    },
    {
      "cell_type": "markdown",
      "source": [
        "### **Reshaping**\n",
        "\n",
        "* For the example `practice`, its shape is `(7,6)`\n",
        "* We made a view by doing this: `practice.reshape(3,14)` and assigned it to `practice_view`.\n",
        "* This took `practice` and reshaped it from being **7 rows & 6 columns** to  **3 rows & 14 columns**\n",
        "* **AN IMPORTANT NOTE:** When the array `practice` was made:\n",
        "    * `practice = np.arange(42)`\n",
        "        * 42 signifies the number of elements in the array.\n",
        "        * The array is a vector\n",
        "    * It was then reshaped: `practice.shape = (7,6)`\n",
        "        * By shaping it this way, it's now a matrix.\n",
        "        * The length of the 2 dimensions, when multiplied, must equate to the number of elements in the vector array. In this case, it must be equal to **42**.\n",
        "        * **Why should it be equal?**\n",
        "            * Because it's dividing up the elements into equal sized arrays. Arrays must be equal sized for it to work as a proper database.\n",
        "            * If its not equal, it will return a ValueError like this:\n",
        "            > `ValueError: cannot reshape array of size 42 into shape (3,13)`\n",
        "\n",
        "            > Error due to 3 x 13 = 39;\n",
        "            > Will work with `(3,14)` since 3 x 14 = 42\n",
        "* One of the functions with `.reshape()`, if you input `-1` as a parameter for any dimension, it will infer the length of the dimension based on the specified length of other dimensions in it:\n",
        "    * The integer doesn't matter, just as long as it is a negative number. *(**e.g.** If you set it to `-2`, `-3`, etc., it will just pump out the same result)*\n",
        "    * Acts kind of like a placeholder. Will automatically generate a length that will equate it to the number of elements in an array.\n",
        "    * **Example:** `practice.reshape(-1,14)`\n",
        "        * `practice` has **42** elements and has 2 dimensions\n",
        "        * We indicated `-1` for the first dimension (rows) & `14` for the second dimension (columns)\n",
        "        * What you basically told it to do:\n",
        "            1. **For `14` for the 2nd dimension:**\n",
        "                * I want `14` columns\n",
        "            2. **For `-1` for the 1st dimension:**\n",
        "                * Figure it out so that I have 14 columns & that the elements are divided equally in whatever number of rows that have 14 columns.\n",
        "        * In this case, 3 rows of 14 columns will satisfy your request.\n",
        "        * **END RESULT:** `practice.reshape(-1,14)` shape will become `(3,14)`\n"
      ],
      "metadata": {
        "id": "HQQkILXdBJhX"
      }
    },
    {
      "cell_type": "code",
      "source": [
        "# Made a view of a reshaped practice array called practice_view\n",
        "# From a base shape of (7,6), we made a view of (3,14)\n",
        "\n",
        "practice_view = practice.reshape(3,14)\n",
        "practice, practice_view, practice_view.base is practice"
      ],
      "metadata": {
        "id": "YFFqyTsT7z3R",
        "colab": {
          "base_uri": "https://localhost:8080/"
        },
        "outputId": "034cba40-7be6-4f3c-ceb2-1d62bd9fb4a5"
      },
      "execution_count": null,
      "outputs": [
        {
          "output_type": "execute_result",
          "data": {
            "text/plain": [
              "(array([[90210,     1,     2,     3,     4,     5],\n",
              "        [    6,     7,     8,     9,    10,    11],\n",
              "        [   12,    13,    14,    15,    16,    17],\n",
              "        [   18,    19,    20,    21,    22,    23],\n",
              "        [   24,    25,    26,    27,    28,    29],\n",
              "        [   30,    31,    32,    33,    34,    35],\n",
              "        [   36,    37,    38,    39,    40,    41]]),\n",
              " array([[90210,     1,     2,     3,     4,     5,     6,     7,     8,\n",
              "             9,    10,    11,    12,    13],\n",
              "        [   14,    15,    16,    17,    18,    19,    20,    21,    22,\n",
              "            23,    24,    25,    26,    27],\n",
              "        [   28,    29,    30,    31,    32,    33,    34,    35,    36,\n",
              "            37,    38,    39,    40,    41]]),\n",
              " True)"
            ]
          },
          "metadata": {},
          "execution_count": 57
        }
      ]
    },
    {
      "cell_type": "code",
      "source": [
        "practice.reshape(-1,14).shape"
      ],
      "metadata": {
        "colab": {
          "base_uri": "https://localhost:8080/"
        },
        "id": "JADU5gvr-in2",
        "outputId": "bf528971-0100-4ca4-c93f-cad0e90ef9bd"
      },
      "execution_count": null,
      "outputs": [
        {
          "output_type": "execute_result",
          "data": {
            "text/plain": [
              "(3, 14)"
            ]
          },
          "metadata": {},
          "execution_count": 53
        }
      ]
    }
  ]
}