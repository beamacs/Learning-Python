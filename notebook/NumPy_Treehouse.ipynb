{
  "nbformat": 4,
  "nbformat_minor": 0,
  "metadata": {
    "colab": {
      "provenance": [],
      "toc_visible": true,
      "authorship_tag": "ABX9TyPftzKj/M9BODVaQhcMwieP",
      "include_colab_link": true
    },
    "kernelspec": {
      "name": "python3",
      "display_name": "Python 3"
    },
    "language_info": {
      "name": "python"
    }
  },
  "cells": [
    {
      "cell_type": "markdown",
      "metadata": {
        "id": "view-in-github",
        "colab_type": "text"
      },
      "source": [
        "<a href=\"https://colab.research.google.com/github/beamacs/Learning-Python/blob/main/NumPy_Treehouse.ipynb\" target=\"_parent\"><img src=\"https://colab.research.google.com/assets/colab-badge.svg\" alt=\"Open In Colab\"/></a>"
      ]
    },
    {
      "cell_type": "markdown",
      "source": [
        "# **Introduction to NumPy**\n",
        "Learning NumPy from [Treehouse](https://teamtreehouse.com/library/introduction-to-numpy/introducing-arrays)\n",
        "\n",
        "* An array's size is **immutable**. You can't `.append()`, `.insert()` or `.remove()` elements like you can with a list.\n",
        "* All of an array's elements must be the same data type\n",
        "* A NumPy array behaves in a Pythonic fashion. Methods such as `len(arr)` will work.\n",
        "    * **Note:** Some methods may require a different syntax. Like with `.upper()`, for a NumPy array, the method would look like this: `np.char.upper(arr)` <a href=\"https://www.w3resource.com/numpy/string-operations/upper.php#:~:text=upper()%20function%20converts%20a%20numpy%20array%20of%20strings%20to%20uppercase.&text=The%20above%20code%20demonstrates%20the,array%20of%20strings%20to%20uppercase.\">(Reference) </a>\n",
        "    * Links to other documentations on NumPy\n",
        "        1. [String operations documentation on NumPy](https://numpy.org/doc/stable/reference/routines.char.html#module-numpy.char \"NumPy Strong Operations\")\n",
        "        2. [NumPy Documentation](https://numpy.org/doc/stable/user/whatisnumpy.html \"Official NumPy Documentation\")\n",
        "\n"
      ],
      "metadata": {
        "id": "SjUuaFcKxCFo"
      }
    },
    {
      "cell_type": "code",
      "execution_count": 1,
      "metadata": {
        "id": "bxp5FokrJMro",
        "colab": {
          "base_uri": "https://localhost:8080/",
          "height": 36
        },
        "outputId": "db1259f1-77aa-4751-8cfd-19d86283707d"
      },
      "outputs": [
        {
          "output_type": "execute_result",
          "data": {
            "text/plain": [
              "'1.23.5'"
            ],
            "application/vnd.google.colaboratory.intrinsic+json": {
              "type": "string"
            }
          },
          "metadata": {},
          "execution_count": 1
        }
      ],
      "source": [
        "import numpy as np\n",
        "import matplotlib.pyplot as plt\n",
        "\n",
        "np.__version__"
      ]
    },
    {
      "cell_type": "code",
      "source": [
        "gpasList = [4.0,3.286,3.5]\n",
        "\n",
        "# Can have elements appended to it\n",
        "gpasList.append(4.0);\n",
        "# Can have multiple datatypes iin it\n",
        "gpasList.insert(1, \"Whatevs\");\n",
        "# Can have items removed\n",
        "gpasList.pop(1);"
      ],
      "metadata": {
        "id": "7SIV5jh3xeTF"
      },
      "execution_count": 2,
      "outputs": []
    },
    {
      "cell_type": "code",
      "source": [
        "gpasList"
      ],
      "metadata": {
        "id": "ukzyS-Hhyf54",
        "colab": {
          "base_uri": "https://localhost:8080/"
        },
        "outputId": "113de7a0-6e3c-4417-801f-df825c1a4bb4"
      },
      "execution_count": 3,
      "outputs": [
        {
          "output_type": "execute_result",
          "data": {
            "text/plain": [
              "[4.0, 3.286, 3.5, 4.0]"
            ]
          },
          "metadata": {},
          "execution_count": 3
        }
      ]
    },
    {
      "cell_type": "code",
      "source": [
        "# Assign list as an array\n",
        "gpas = np.array(gpasList)\n",
        "\n",
        "# Returns documentation about numpy data types\n",
        "?gpas"
      ],
      "metadata": {
        "id": "FRHVspaL2Wdh"
      },
      "execution_count": 4,
      "outputs": []
    },
    {
      "cell_type": "code",
      "source": [
        "# Finding out information about a numpy array\n",
        "print(gpas.dtype); print(gpas.itemsize); print(gpas.size); len(gpas); print(gpas.nbytes);"
      ],
      "metadata": {
        "id": "6ZEGN5HAj21F",
        "colab": {
          "base_uri": "https://localhost:8080/"
        },
        "outputId": "ca518117-875c-46c7-e279-c03ded263f14"
      },
      "execution_count": 5,
      "outputs": [
        {
          "output_type": "stream",
          "name": "stdout",
          "text": [
            "float64\n",
            "8\n",
            "4\n",
            "32\n"
          ]
        }
      ]
    },
    {
      "cell_type": "code",
      "source": [
        "# String Operation for NumPy, difference in inputting methods\n",
        "txtList = [\"cow\",\"cat\",\"cockroach\",\"crow\"]\n",
        "txtArr = np.array(txtList)\n",
        "\n",
        "print(np.char.upper(txtArr))"
      ],
      "metadata": {
        "id": "TPqaluBPwCHQ",
        "colab": {
          "base_uri": "https://localhost:8080/"
        },
        "outputId": "e0a000df-f334-45a4-ad2a-a1980ed70c0d"
      },
      "execution_count": 6,
      "outputs": [
        {
          "output_type": "stream",
          "name": "stdout",
          "text": [
            "['COW' 'CAT' 'COCKROACH' 'CROW']\n"
          ]
        }
      ]
    },
    {
      "cell_type": "markdown",
      "source": [
        "## **[Creating the Study Log](https://teamtreehouse.com/library/introduction-to-numpy/creating-the-study-log) Treehouse Section**\n",
        "\n",
        "**Introduced:**\n",
        "* `%whos` - Returns all variables in alphabetical order with their data type and info; only works in IPython notebooks.\n",
        "* `np.zeros(numOfZeros, assignDataType)` - helper method that generates 0.\n",
        "    * The default scalar data type is a `float64`.\n",
        "* `:` **Slicing** - Returns a range of elements from the specified start and end index. The end index is excluded from the range.\n",
        "* **Scalar Data Types.** Represents a singular value that might've come from an numpy array. `float64` is a scalar data type.\n",
        "\n",
        "**References**\n",
        "* [Old Data Types Documentation]\n",
        "    * Says on the website the documentation was outdated but this is what Treehouse referenced for the data type\n",
        "* [Updated Data Types]\n",
        "    * Found a more current version of the documentation\n",
        "\n",
        "\n",
        "[Old Data Types Documentation]: https://docs.scipy.org/doc/numpy-1.14.0/user/basics.types.html\n",
        "[Updated Data Types]: https://www.w3resource.com/numpy/data-types.php"
      ],
      "metadata": {
        "id": "Aww9BP-K1McT"
      }
    },
    {
      "cell_type": "markdown",
      "source": [
        "For the Treehouse tutorial, Craig wanted to make a ***study log*** for the **100 Days of Code Challenge**, hence `np.zeros(100)` for 100 days.\n",
        "\n",
        "\n",
        "### **Setting the Study Log Up**\n",
        "He wanted to make an array of 100 zeroes to represent each day in the challenge with the base unit being minutes.\n",
        "\n",
        "1. **Assigned `studyMins1 = np.zeros(100)`**\n",
        "    * By default, the scalar data type was `float64` and was storing **800 bytes**\n",
        "    * This created an array of 100 `0.` which were also floats.\n",
        "2. **Computed for the **max integers** needed to signify 1 day for every 0 represented in the array**\n",
        "    *\n",
        "    ```\n",
        "    # 60 minutes, 24 hours a day\n",
        "    60*24 = 1440\n",
        "    ```\n",
        "    * We just need to count up until **1440** minutes for a whole day.\n",
        "3. **Referred to the [Old Data Types Documentation] for the data type range of integers**\n",
        "\n",
        "    <img src=\"https://drive.google.com/uc?id=1QjECGmcr8ErBiSG9vh07yI2KcYBqqpAT\" title = \"Data Type Integer Range\" width=\"250\"/>\n",
        "\n",
        "    * In the reference, we can see that the range for `float64` is described as: `Double precision float: sign bit, 11 bits exponent, 52 bits mantissa.`\n",
        "    \n",
        "    <details>\n",
        "     <summary> 👁️👄👁️ OK, but what does that mean?????  </summary>\n",
        "\n",
        "     **Let's break it down into parts**\n",
        "        1. **Double precision.** Provides a high level of precision compared to other types. It can represent decimal numbers with a *lot* of digits after the decimal point accurately.\n",
        "        2. **Sign bit.** Every number has a sign bit which indicates whether it's a (+) or (-) number.\n",
        "        3. **11 bits exponent.** Describes the size of the number and where the decimal point should be placed. Allows it to handle both very large and very small numbers.\n",
        "        4. **52 bits mantissa.** Holds the actual digits of the number. It's the decimal part of the number. The 52 bits provide enough space to store a significant number of digits.\n",
        "            - You can express numbers into a scientific notation (***aka*** exponential forms or logarithmic forms).\n",
        "            - E.g. 129,000,000 = 1.29 x 10^8 or  0.00026 = 2.6 × 10^-4\n",
        "            - In the examples above, the **exponents** are (8,-4) and the **mantissas** are (0.29, 0.6) respectively.\n",
        "\n",
        "     **Range and Precision:** It can represent a ***huge*** range of decimal numbers with high precision. Like it can't really be expressed as is because the range is so ***huge***.\n",
        "\n",
        "     **Practical Use:** `float64` allows you to work with decimal numbers with a high level of precision and a vast range, making it suitable for a wide range of scientific and engineering applications.\n",
        "\n",
        "        >***FULL DISCLOSURE:*** I used ChatGPT to make sense of it so take this with a kilogram of salt.\n",
        "        \n",
        "        > Link to ChatGPT Chat Log: [Understanding NumPy float64]\n",
        "\n",
        "    </details>\n",
        "    * In other words, `float64` might be too big of a data type to use. We just need a data type that is able to **count up** to **1440** minutes.\n",
        "    * When run through `%whos`, we can see that the size of the `studyMins1` is 800 bytes. We could make that smaller!\n",
        "\n",
        "4. **Reassign it to a data type that has a smaller range.**\n",
        "    * We don't need a float, so we could convert it into an integer.\n",
        "    * You can't study in (-) minutes, so any range that only contains (+) numbers is ideal.\n",
        "    * We just need to count until 1440\n",
        "    * With all that, we can reassign it as a `uint16` (***aka unsigned integer 16***) data type as it's range is from **0 - 65535**.\n",
        "    * Assigned `studyMins2 = np.zeros(100, np.uint16)`\n",
        "    * **Let's compare:**\n",
        "        ```\n",
        "        Variable     Type       Data/Info\n",
        "        ---------------------------------\n",
        "        studyMins1   ndarray    100: 100 elems, type `float64`, 800 bytes\n",
        "        studyMins2   ndarray    100: 100 elems, type `uint16`, 200 bytes\n",
        "        ```\n",
        "        * We managed to lower the data size from 800 bytes to 200 bytes. Seems like a small difference *(heck, it's not even a KB)* but size *can* stack up.\n",
        "        * What we did was ***optimization.*** By making the data type smaller, it can allow for faster processing time.\n",
        "\n",
        "5. **You are now free to log in your coding minutes for each day. Remember that the index starts at *0* instead of 1.**\n",
        "\n",
        "[Old Data Types Documentation]:\n",
        "https://docs.scipy.org/doc/numpy-1.14.0/user/basics.types.html\n",
        "[Understanding NumPy float64]: https://chat.openai.com/share/915ea000-7c9e-4246-9d0a-25596663785d\n",
        "\n"
      ],
      "metadata": {
        "id": "dBhnTiNx51zS"
      }
    },
    {
      "cell_type": "code",
      "source": [
        "studyMins1 = np.zeros(100)\n",
        "studyMins1"
      ],
      "metadata": {
        "colab": {
          "base_uri": "https://localhost:8080/"
        },
        "id": "qC29MOWnjGJW",
        "outputId": "91540a0f-131b-4eab-8d9a-269e84ef081f"
      },
      "execution_count": 7,
      "outputs": [
        {
          "output_type": "execute_result",
          "data": {
            "text/plain": [
              "array([0., 0., 0., 0., 0., 0., 0., 0., 0., 0., 0., 0., 0., 0., 0., 0., 0.,\n",
              "       0., 0., 0., 0., 0., 0., 0., 0., 0., 0., 0., 0., 0., 0., 0., 0., 0.,\n",
              "       0., 0., 0., 0., 0., 0., 0., 0., 0., 0., 0., 0., 0., 0., 0., 0., 0.,\n",
              "       0., 0., 0., 0., 0., 0., 0., 0., 0., 0., 0., 0., 0., 0., 0., 0., 0.,\n",
              "       0., 0., 0., 0., 0., 0., 0., 0., 0., 0., 0., 0., 0., 0., 0., 0., 0.,\n",
              "       0., 0., 0., 0., 0., 0., 0., 0., 0., 0., 0., 0., 0., 0., 0.])"
            ]
          },
          "metadata": {},
          "execution_count": 7
        }
      ]
    },
    {
      "cell_type": "code",
      "source": [
        "#Returns all variables in alphabetical order with their data type and info\n",
        "%whos"
      ],
      "metadata": {
        "colab": {
          "base_uri": "https://localhost:8080/"
        },
        "id": "R6k1r51Wjsmb",
        "outputId": "2b6899e9-337f-40ff-9eab-0566831d7457"
      },
      "execution_count": 8,
      "outputs": [
        {
          "output_type": "stream",
          "name": "stdout",
          "text": [
            "Variable     Type       Data/Info\n",
            "---------------------------------\n",
            "gpas         ndarray    4: 4 elems, type `float64`, 32 bytes\n",
            "gpasList     list       n=4\n",
            "np           module     <module 'numpy' from '/us<...>kages/numpy/__init__.py'>\n",
            "plt          module     <module 'matplotlib.pyplo<...>es/matplotlib/pyplot.py'>\n",
            "studyMins1   ndarray    100: 100 elems, type `float64`, 800 bytes\n",
            "txtArr       ndarray    4: 4 elems, type `<U9`, 144 bytes\n",
            "txtList      list       n=4\n"
          ]
        }
      ]
    },
    {
      "cell_type": "code",
      "source": [
        "studyMins2 = np.zeros(100, np.uint16)\n",
        "studyMins2"
      ],
      "metadata": {
        "colab": {
          "base_uri": "https://localhost:8080/"
        },
        "id": "d0hFB7z944AL",
        "outputId": "715daaaa-99b0-4856-f688-af13fb40ee57"
      },
      "execution_count": 9,
      "outputs": [
        {
          "output_type": "execute_result",
          "data": {
            "text/plain": [
              "array([0, 0, 0, 0, 0, 0, 0, 0, 0, 0, 0, 0, 0, 0, 0, 0, 0, 0, 0, 0, 0, 0,\n",
              "       0, 0, 0, 0, 0, 0, 0, 0, 0, 0, 0, 0, 0, 0, 0, 0, 0, 0, 0, 0, 0, 0,\n",
              "       0, 0, 0, 0, 0, 0, 0, 0, 0, 0, 0, 0, 0, 0, 0, 0, 0, 0, 0, 0, 0, 0,\n",
              "       0, 0, 0, 0, 0, 0, 0, 0, 0, 0, 0, 0, 0, 0, 0, 0, 0, 0, 0, 0, 0, 0,\n",
              "       0, 0, 0, 0, 0, 0, 0, 0, 0, 0, 0, 0], dtype=uint16)"
            ]
          },
          "metadata": {},
          "execution_count": 9
        }
      ]
    },
    {
      "cell_type": "code",
      "source": [
        "# First Day: Coded for 2.5 hours for the 100 day coding challenge\n",
        "# array[index] = num\n",
        "\n",
        "studyMins2[0] = 150\n",
        "firstDayMins = studyMins2[0]\n",
        "\n",
        "print(firstDayMins)"
      ],
      "metadata": {
        "colab": {
          "base_uri": "https://localhost:8080/"
        },
        "id": "mMC_cvIQkgQT",
        "outputId": "c8f4ee71-f54c-4972-feec-ae87a8f3f5a7"
      },
      "execution_count": 10,
      "outputs": [
        {
          "output_type": "stream",
          "name": "stdout",
          "text": [
            "150\n"
          ]
        }
      ]
    },
    {
      "cell_type": "markdown",
      "source": [
        "### **What I realized:**\n",
        "So what we did when we changed the data type, we reassigned every item in the `studyMins2` numpy array into a `uint16` scalar data type while the array itself remains as a `ndarray`."
      ],
      "metadata": {
        "id": "EENKpeWs36ry"
      }
    },
    {
      "cell_type": "code",
      "source": [
        "# type() returns the data type of an object\n",
        "# Scalar Data Type is uint16\n",
        "print(type(firstDayMins))\n",
        "# Scalar Data Type is float64\n",
        "print(type(studyMins1[0]))\n",
        "# Data Type is ndarray\n",
        "print(type(studyMins2))"
      ],
      "metadata": {
        "colab": {
          "base_uri": "https://localhost:8080/"
        },
        "id": "GCBYjXoMllvO",
        "outputId": "57fb9a75-455a-4dbe-ccc0-c8ff52be64ad"
      },
      "execution_count": 11,
      "outputs": [
        {
          "output_type": "stream",
          "name": "stdout",
          "text": [
            "<class 'numpy.uint16'>\n",
            "<class 'numpy.float64'>\n",
            "<class 'numpy.ndarray'>\n"
          ]
        }
      ]
    },
    {
      "cell_type": "markdown",
      "source": [
        "### **Scalars**\n",
        "\n",
        "* Represents a singular value or element.\n",
        "* <a href=\"https://numpy.org/doc/stable/reference/arrays.dtypes.html#arrays-dtypes:~:text=%27u1%27)%5D))-,dtype,NumPy%20data%20type%20descriptions%20are%20instances%20of%20the%20dtype%20class.,-Attributes\"> Scalar data types </a>\n",
        "* Single values pulled out of a numpy array are scalar and is wrapped in their specific data type object\n"
      ],
      "metadata": {
        "id": "rnmRk2K5rouS"
      }
    },
    {
      "cell_type": "code",
      "source": [
        "# Second Day: Coded for an hour for the 100 day coding challenge\n",
        "studyMins2[1] = 60\n",
        "\n",
        "secondDayMins = studyMins2[1]\n",
        "\n",
        "print(secondDayMins)"
      ],
      "metadata": {
        "colab": {
          "base_uri": "https://localhost:8080/"
        },
        "id": "blT31bmtv2g5",
        "outputId": "eb334f99-7be4-47be-ad66-ab8d365a50d5"
      },
      "execution_count": 12,
      "outputs": [
        {
          "output_type": "stream",
          "name": "stdout",
          "text": [
            "60\n"
          ]
        }
      ]
    },
    {
      "cell_type": "code",
      "source": [
        "# Multiple Days: Days 3 - 7 log for the 100 day coding challenge\n",
        "# Slicing(startIndex, endIndex): exclusive; does not include the endIndex, 6 in this case\n",
        "# Inputs into day 3, 4, 5, 6\n",
        "studyMins2[2:6] = [80, 60, 30, 90]\n",
        "\n",
        "print(studyMins2)"
      ],
      "metadata": {
        "colab": {
          "base_uri": "https://localhost:8080/"
        },
        "id": "r0FkgGavwyEg",
        "outputId": "9b6a8fbe-7ef1-425f-c4f1-4187e1a8f769"
      },
      "execution_count": 13,
      "outputs": [
        {
          "output_type": "stream",
          "name": "stdout",
          "text": [
            "[150  60  80  60  30  90   0   0   0   0   0   0   0   0   0   0   0   0\n",
            "   0   0   0   0   0   0   0   0   0   0   0   0   0   0   0   0   0   0\n",
            "   0   0   0   0   0   0   0   0   0   0   0   0   0   0   0   0   0   0\n",
            "   0   0   0   0   0   0   0   0   0   0   0   0   0   0   0   0   0   0\n",
            "   0   0   0   0   0   0   0   0   0   0   0   0   0   0   0   0   0   0\n",
            "   0   0   0   0   0   0   0   0   0   0]\n"
          ]
        }
      ]
    },
    {
      "cell_type": "markdown",
      "source": [
        "## **[Multidimensional Arrays](https://teamtreehouse.com/library/introduction-to-numpy/multidimensional-arrays) Treehouse Section**\n",
        "\n",
        "**Introduced:**\n",
        "* `.ndim` - checks the number of dimensions in an array.\n",
        "* `.shape` - checks the number of elements in each dimension. Returns the rows first and then the columns.\n",
        "* `.size` - checks the total number of elements in an array\n",
        "* `len()` - checks the number of elements in just the first dimension of the ndarray\n",
        "* `.itemsize` - checks the number of bytes an element in an array is using (byte size)\n",
        "* `%whos ndarray` - you can specify the data type to pick out the variables with that data type. In this case, ndarrays only.\n",
        "\n",
        "### **Multidimensional Arrays**\n",
        "* Represents multiple values or elements.\n",
        "* N-dimensional array or <a href=\"https://numpy.org/doc/stable/reference/arrays.dtypes.html#arrays-dtypes:~:text=%27u1%27)%5D))-,dtype,NumPy%20data%20type%20descriptions%20are%20instances%20of%20the%20dtype%20class.,-Attributes\"> ndarray types </a>\n",
        "* Arrays and vectors are used interchangeably.\n",
        "* Terms:\n",
        "\t- **Rank.** Indicator for how many dimensions an array has.\n",
        "\t- **Vector.** Single dimensional arrays.\n",
        "\t- **Matrix.** Two dimensional arrays."
      ],
      "metadata": {
        "id": "oLutBUlUSz73"
      }
    },
    {
      "cell_type": "code",
      "source": [
        "# Each column represents a different year\n",
        "\n",
        "students_gpas = np.array([\n",
        "    [4.0, 3.286, 3.5, 4.0],    # Student 1\n",
        "    [3.2, 3.8, 4.0, 4.0],      # Student 2\n",
        "    [3.96, 3.92, 4.0, 4.0]     # Student 3\n",
        "], np.float16)\n",
        "\n",
        "# Chose float16 since it's the smallest data type out of the floats\n",
        "\n",
        "students_gpas"
      ],
      "metadata": {
        "colab": {
          "base_uri": "https://localhost:8080/"
        },
        "id": "jp0TKLfGWILU",
        "outputId": "86e93439-d7fb-4336-a7f3-69a27397417b"
      },
      "execution_count": 14,
      "outputs": [
        {
          "output_type": "execute_result",
          "data": {
            "text/plain": [
              "array([[4.   , 3.285, 3.5  , 4.   ],\n",
              "       [3.2  , 3.8  , 4.   , 4.   ],\n",
              "       [3.96 , 3.92 , 4.   , 4.   ]], dtype=float16)"
            ]
          },
          "metadata": {},
          "execution_count": 14
        }
      ]
    },
    {
      "cell_type": "markdown",
      "source": [
        "#### **In the example above**\n",
        "Refer to [Old Data Types Documentation]\n",
        "\n",
        "Why choose `float16` for the data type?\n",
        "* It's the smallest data type out of the floats (`float16 , float32, float64`)\n",
        "\n",
        "Why not `uint16` like before?\n",
        "* We want a float data type since gpas are float numbers\n",
        "* `uint16` only supports integers\n",
        "* If we decided to assign it with `uint16`, the `student_gpas` would turn into this:\n",
        "    ```\n",
        "    array([[4, 3, 3, 4],\n",
        "        [3, 3, 4, 4],\n",
        "        [3, 3, 4, 4]], dtype=uint16)\n",
        "    ```\n",
        "    * Completely drops the decimal numbers, which we don't want.\n",
        "\n",
        "\n",
        "[Old Data Types Documentation]: https://docs.scipy.org/doc/numpy-1.14.0/user/basics.types.html\n"
      ],
      "metadata": {
        "id": "jcSM9F0aYSDO"
      }
    },
    {
      "cell_type": "code",
      "source": [
        "#Checks the number of dimensions\n",
        "print(students_gpas.ndim)\n",
        "\n",
        "#Checks the number of elements in each dimension\n",
        "print(students_gpas.shape)"
      ],
      "metadata": {
        "colab": {
          "base_uri": "https://localhost:8080/"
        },
        "id": "nMPshL4wbKwB",
        "outputId": "72adbd18-3c41-44d7-fc6a-b259aa9e7a8e"
      },
      "execution_count": 15,
      "outputs": [
        {
          "output_type": "stream",
          "name": "stdout",
          "text": [
            "2\n",
            "(3, 4)\n"
          ]
        }
      ]
    },
    {
      "cell_type": "markdown",
      "source": [
        "**In the code above there are 2 dimensions:**\n",
        "1. Students (3) (rows)\n",
        "2. Year (4) (columns)\n",
        "\n",
        "**Each element in this list represents the length of each *axis*:**\n",
        "* The plural of axis is **axes**, btw.\n",
        "* Remember x-axis and y-axis in graphing? Treat every dimension as an axis.\n",
        "* So there is a **student-axis** and **year-axis** in this array\n",
        "* For the shape of an array, it considers the rows first and then the columns.\n",
        "    * If you take a look of the output of `students_gpas.shape`, you'll notice that it looks like coordinates: (3, 4)\n",
        "    * To call for a specific element in an array, use the shape as your guide for the index. Remember, indexing a list starts at 0.\n",
        "    * Use this syntax to call a specific element: `array1[indexFirstDim, indexSecondDim]`.\n",
        "    * An example is showed below."
      ],
      "metadata": {
        "id": "DR_kR0tUc3QL"
      }
    },
    {
      "cell_type": "code",
      "source": [
        "#Called Student 3's array of grades\n",
        "print(students_gpas[2])\n",
        "\n",
        "#Called Student 3's gpa from the last year\n",
        "print(students_gpas[2,3])"
      ],
      "metadata": {
        "colab": {
          "base_uri": "https://localhost:8080/"
        },
        "id": "VLlGZH82312p",
        "outputId": "389f6b2c-68ea-4876-f3a3-f689794d0e3a"
      },
      "execution_count": 16,
      "outputs": [
        {
          "output_type": "stream",
          "name": "stdout",
          "text": [
            "[3.96 3.92 4.   4.  ]\n",
            "4.0\n"
          ]
        }
      ]
    },
    {
      "cell_type": "code",
      "source": [
        "# Returns total number of elements in an array\n",
        "print(students_gpas.size)\n",
        "\n",
        "# Returns the number of elements in the first dimension\n",
        "# In this case, only the number of students\n",
        "print(len(students_gpas))\n",
        "\n",
        "# Shows how many bytes are being used for each item (byte size)\n",
        "print(students_gpas.itemsize)\n",
        "\n",
        "# Total data size\n",
        "print(students_gpas.itemsize * students_gpas.size)"
      ],
      "metadata": {
        "colab": {
          "base_uri": "https://localhost:8080/"
        },
        "id": "qVsnoe7NenwX",
        "outputId": "2aeb33fe-c9b6-4c23-898d-f15cebfca08e"
      },
      "execution_count": 17,
      "outputs": [
        {
          "output_type": "stream",
          "name": "stdout",
          "text": [
            "12\n",
            "3\n",
            "2\n",
            "24\n"
          ]
        }
      ]
    },
    {
      "cell_type": "markdown",
      "source": [
        "**Cross referencing using `%whos ndarray`:**\n",
        "   \n",
        "```\n",
        "    Variable        Type       Data/Info\n",
        "    ------------------------------------\n",
        "    students_gpas   ndarray    3x4: 12 elems, type `float16`, 24 bytes\n",
        "```\n",
        "\n",
        "* We returned the correct values\n",
        "\n",
        "**About checking properties:**\n",
        "* `%whos` will only work on Jupyter or other IPython notebooks only.\n",
        "* You can use `np.info()` as an alternative to this in a Python shell showed below."
      ],
      "metadata": {
        "id": "NLZtC6Ohl1vk"
      }
    },
    {
      "cell_type": "code",
      "source": [
        "%whos ndarray\n",
        "print(\"\\n\")\n",
        "np.info(students_gpas)"
      ],
      "metadata": {
        "colab": {
          "base_uri": "https://localhost:8080/"
        },
        "id": "BSodhHs1nB7C",
        "outputId": "1948d4e9-8ec8-4e37-859d-0cb21348361e"
      },
      "execution_count": 18,
      "outputs": [
        {
          "output_type": "stream",
          "name": "stdout",
          "text": [
            "Variable        Type       Data/Info\n",
            "------------------------------------\n",
            "gpas            ndarray    4: 4 elems, type `float64`, 32 bytes\n",
            "students_gpas   ndarray    3x4: 12 elems, type `float16`, 24 bytes\n",
            "studyMins1      ndarray    100: 100 elems, type `float64`, 800 bytes\n",
            "studyMins2      ndarray    100: 100 elems, type `uint16`, 200 bytes\n",
            "txtArr          ndarray    4: 4 elems, type `<U9`, 144 bytes\n",
            "\n",
            "\n",
            "class:  ndarray\n",
            "shape:  (3, 4)\n",
            "strides:  (8, 2)\n",
            "itemsize:  2\n",
            "aligned:  True\n",
            "contiguous:  True\n",
            "fortran:  False\n",
            "data pointer: 0x59ef047fef30\n",
            "byteorder:  little\n",
            "byteswap:  False\n",
            "type: float16\n"
          ]
        }
      ]
    },
    {
      "cell_type": "markdown",
      "source": [
        "## **[Indexing] Treehouse Section**\n",
        "\n",
        "**Introduced:**\n",
        "* Adding more dimensions to an array\n",
        "* Distinguising containers (Tuples)\n",
        "* Random number generation for an array\n",
        "* Appending to a numpy array\n",
        "\n",
        "\n",
        "[Indexing]:https://teamtreehouse.com/library/introduction-to-numpy/indexing \"Indexing with Craig Dennis\"\n"
      ],
      "metadata": {
        "id": "4C0ZrKi_8Gcr"
      }
    },
    {
      "cell_type": "markdown",
      "source": [
        "**For this Treehouse tutorial, Craig set up this situation:**\n",
        "* Craig got derailed from the 100 days of code challenge and wanted to attempt it again.\n",
        "* Craig wanted to add a dimension called **\"rounds\"** into his pre-existing study log that we worked on earlier. `studyMins2`\n",
        "* **Reason?** He wanted to give the challenge another try. This 2nd attempt will be his **Round 2**.\n",
        "\n",
        "\n",
        "### **Adding Another Dimension**\n",
        "Adding an array to an array\n",
        "* `studyMins2` is your existing study log for the challenge. As of now, it is a vector. By adding another dimension, you're making the study log into a **matrix**.\n",
        "* In the syntax below:\n",
        "    ```\n",
        "        studyMins2 = np.array([\n",
        "            studyMins2,\n",
        "            np.zeros(100, np.uint16)  # New dimension: rounds\n",
        "        ])\n",
        "    ```\n",
        "    * `np.zeros(100, np.uint16)` is an array we created to act as the 2nd dimension. This will be our **\"rounds\"**.\n",
        "    * The shape of `studyMins2` is now (2, 100), making it into a matrix.\n",
        "    * 2 = rounds, 100 = days of coding"
      ],
      "metadata": {
        "id": "cEnSNBajF-WS"
      }
    },
    {
      "cell_type": "code",
      "source": [
        "# Adding a new dimension to the array\n",
        "# BE CAREFUL to run this only 1 time\n",
        "# The more you run this, the more new dimensions are being added to your array\n",
        "\n",
        "studyMins2 = np.array([\n",
        "    studyMins2,\n",
        "    np.zeros(100, np.uint16)  # New dimension, rounds\n",
        "])"
      ],
      "metadata": {
        "id": "VvWa4cYFBE-s"
      },
      "execution_count": 19,
      "outputs": []
    },
    {
      "cell_type": "code",
      "source": [
        "print(studyMins2.shape,\"\\n\")\n",
        "print(studyMins2)"
      ],
      "metadata": {
        "id": "DPLAp3_5_LFZ",
        "colab": {
          "base_uri": "https://localhost:8080/"
        },
        "outputId": "23613670-f972-477d-9d2a-fa311322dddb"
      },
      "execution_count": 20,
      "outputs": [
        {
          "output_type": "stream",
          "name": "stdout",
          "text": [
            "(2, 100) \n",
            "\n",
            "[[150  60  80  60  30  90   0   0   0   0   0   0   0   0   0   0   0   0\n",
            "    0   0   0   0   0   0   0   0   0   0   0   0   0   0   0   0   0   0\n",
            "    0   0   0   0   0   0   0   0   0   0   0   0   0   0   0   0   0   0\n",
            "    0   0   0   0   0   0   0   0   0   0   0   0   0   0   0   0   0   0\n",
            "    0   0   0   0   0   0   0   0   0   0   0   0   0   0   0   0   0   0\n",
            "    0   0   0   0   0   0   0   0   0   0]\n",
            " [  0   0   0   0   0   0   0   0   0   0   0   0   0   0   0   0   0   0\n",
            "    0   0   0   0   0   0   0   0   0   0   0   0   0   0   0   0   0   0\n",
            "    0   0   0   0   0   0   0   0   0   0   0   0   0   0   0   0   0   0\n",
            "    0   0   0   0   0   0   0   0   0   0   0   0   0   0   0   0   0   0\n",
            "    0   0   0   0   0   0   0   0   0   0   0   0   0   0   0   0   0   0\n",
            "    0   0   0   0   0   0   0   0   0   0]]\n"
          ]
        }
      ]
    },
    {
      "cell_type": "markdown",
      "source": [
        "**Before adding a new dimension to `studyMins2` array:**\n",
        "<details>\n",
        "    <summary> Before </summary>\n",
        "\n",
        "        \n",
        "            [150  60  80  60  30  90   0   0   0   0   0   0   0   0   0   0   0   0\n",
        "            0   0   0   0   0   0   0   0   0   0   0   0   0   0   0   0   0   0\n",
        "            0   0   0   0   0   0   0   0   0   0   0   0   0   0   0   0   0   0\n",
        "            0   0   0   0   0   0   0   0   0   0   0   0   0   0   0   0   0   0\n",
        "            0   0   0   0   0   0   0   0   0   0   0   0   0   0   0   0   0   0\n",
        "            0   0   0   0   0   0   0   0   0   0]\n",
        "        \n",
        "\n",
        "</details>\n",
        "\n",
        "\n",
        "**After adding a new dimension to `studyMins2` array:**\n",
        "<details>\n",
        "    <summary> After </summary>\n",
        "    \n",
        "        \n",
        "        [[150  60  80  60  30  90   0   0   0   0   0   0   0   0   0   0   0   0\n",
        "            0   0   0   0   0   0   0   0   0   0   0   0   0   0   0   0   0   0\n",
        "            0   0   0   0   0   0   0   0   0   0   0   0   0   0   0   0   0   0\n",
        "            0   0   0   0   0   0   0   0   0   0   0   0   0   0   0   0   0   0\n",
        "            0   0   0   0   0   0   0   0   0   0   0   0   0   0   0   0   0   0\n",
        "            0   0   0   0   0   0   0   0   0   0]\n",
        "        [  0   0   0   0   0   0   0   0   0   0   0   0   0   0   0   0   0   0\n",
        "            0   0   0   0   0   0   0   0   0   0   0   0   0   0   0   0   0   0\n",
        "            0   0   0   0   0   0   0   0   0   0   0   0   0   0   0   0   0   0\n",
        "            0   0   0   0   0   0   0   0   0   0   0   0   0   0   0   0   0   0\n",
        "            0   0   0   0   0   0   0   0   0   0   0   0   0   0   0   0   0   0\n",
        "            0   0   0   0   0   0   0   0   0   0]]\n",
        "        \n",
        "\n",
        "</details>\n"
      ],
      "metadata": {
        "id": "OfQ0DbR2E0Us"
      }
    },
    {
      "cell_type": "code",
      "source": [
        "# Set round 2 day 1 to 60 mins\n",
        "studyMins2[1,0] = 60\n",
        "\n",
        "# The index in this [1,0] is assigned as a tuple by default\n",
        "\n",
        "# When expressed as a tuple, it will look like this\n",
        "studyMins2[(1,0)] = 60\n",
        "print(studyMins2)"
      ],
      "metadata": {
        "id": "wDeZyYIKJpXp",
        "colab": {
          "base_uri": "https://localhost:8080/"
        },
        "outputId": "73fa01ca-b6df-47f4-f8df-9b9ae6917fb5"
      },
      "execution_count": 21,
      "outputs": [
        {
          "output_type": "stream",
          "name": "stdout",
          "text": [
            "[[150  60  80  60  30  90   0   0   0   0   0   0   0   0   0   0   0   0\n",
            "    0   0   0   0   0   0   0   0   0   0   0   0   0   0   0   0   0   0\n",
            "    0   0   0   0   0   0   0   0   0   0   0   0   0   0   0   0   0   0\n",
            "    0   0   0   0   0   0   0   0   0   0   0   0   0   0   0   0   0   0\n",
            "    0   0   0   0   0   0   0   0   0   0   0   0   0   0   0   0   0   0\n",
            "    0   0   0   0   0   0   0   0   0   0]\n",
            " [ 60   0   0   0   0   0   0   0   0   0   0   0   0   0   0   0   0   0\n",
            "    0   0   0   0   0   0   0   0   0   0   0   0   0   0   0   0   0   0\n",
            "    0   0   0   0   0   0   0   0   0   0   0   0   0   0   0   0   0   0\n",
            "    0   0   0   0   0   0   0   0   0   0   0   0   0   0   0   0   0   0\n",
            "    0   0   0   0   0   0   0   0   0   0   0   0   0   0   0   0   0   0\n",
            "    0   0   0   0   0   0   0   0   0   0]]\n"
          ]
        }
      ]
    },
    {
      "cell_type": "markdown",
      "source": [
        "### **Concepts Mentioned in Treehouse**\n",
        "* **Tuple**\n",
        "    * A type of iterable container. There are 3 types of iterable containers:\n",
        "        1. **Lists**. Represented by `[]`\n",
        "        2. **Tuples**. Represented by `()`\n",
        "        3. **Dictionaries**. Represented by `{}`\n",
        "            * The type of container changes depending on what kind of bracket is used to contain an array.\n",
        "    * Stores objects in a specific order; you can't edit the items in it.\n",
        "    * More info in my [Python Keywords Evernote]. Search for the Iterable Containers in the list\n",
        "\n",
        "* **Random Number Generator**\n",
        "    * `np.random.RandomState(seed)`\n",
        "        - Constructs a random number generator\n",
        "        - Must be assigned to a variable.\n",
        "        - `seed` is an ***optional parameter***. A specific seed will always return the same set of random numbers.\n",
        "        <details>\n",
        "            <summary> Seed in practice: If you play Minecraft... </summary>\n",
        "            \n",
        "            >You can copy the same world generation if you find out the specific seed.\n",
        "\n",
        "        </details>\n",
        "\n",
        "    * `.randint(startNum,endNum,size=,dtype=)`\n",
        "        - Returns an integer number selected element from the specified range. Range is inclusive of start & end number.\n",
        "        <details>\n",
        "            <summary> Parameters: </summary>\n",
        "\n",
        "         - **`startNum`**. Required, the start of the integer range\n",
        "         - **`endNum`**. Required, the end of the integer range\n",
        "         - **`size=`**. Optional, dictates the no. of random numbers generated. Defaults to producing only 1 integer.\n",
        "         - **`dtype`**. Optional, assigns the data type. Default data type is `int64`\n",
        "\n",
        "        </details>\n",
        "* **Appending an array into another array**\n",
        "    * This is just adding another array to the matrix rather than adding an array to make another dimension.\n",
        "    * `np.append(array, values, axis=)`\n",
        "        - appends values along the mentioned axis at the end of the array\n",
        "        <details>\n",
        "            <summary> Parameters: </summary>\n",
        "\n",
        "         - **`array`**. Required, array to be appended.\n",
        "         - **`values`**. Required, values to be added in the array.\n",
        "            - Values must have the same **shape** as the array, excluding axis.\n",
        "            - If axis is not specified, values can be any shape and will be flattened before use\n",
        "         - **`axis`**. Optional, axis along which we want to insert the values. By default, array is flattened.   \n",
        "\n",
        "        </details>\n",
        "\n",
        "\n",
        "[Python Keywords Evernote]:https://www.evernote.com/shard/s398/sh/2a25581f-57c0-8e72-f95b-21acd3355d47/TraldsRiaZh4uUyRNeQD3XxTSVzxVdyb75bY3pbiyd9mRNYGWeZbZPzFxg \"Python Keywords\""
      ],
      "metadata": {
        "id": "_CzD6C4n6skT"
      }
    },
    {
      "cell_type": "code",
      "source": [
        "# Random number generator assigned to rand\n",
        "# Generating a vector called fake_log\n",
        "\n",
        "rand = np.random.RandomState(42)\n",
        "fake_log = rand.randint(30,180, size=100, dtype=np.uint16)\n",
        "fake_log"
      ],
      "metadata": {
        "colab": {
          "base_uri": "https://localhost:8080/"
        },
        "id": "Aamqw-gUu3a4",
        "outputId": "9b6b18e2-3ec8-4e67-f453-4443a41c6ebd"
      },
      "execution_count": 22,
      "outputs": [
        {
          "output_type": "execute_result",
          "data": {
            "text/plain": [
              "array([132, 122, 128,  44, 136, 129, 101,  95,  50, 132, 151,  64, 104,\n",
              "       175, 117, 146, 139, 129, 133, 176,  98, 160, 179,  99,  82, 142,\n",
              "        31, 106, 117,  56,  98,  67, 121, 159,  81, 170,  31,  50,  49,\n",
              "        87, 179,  51, 116, 177, 118,  78, 171, 117,  88, 123, 102,  44,\n",
              "        79,  31, 108,  80,  59, 137,  84,  93, 155, 160,  67,  80, 166,\n",
              "       164,  70,  50, 102, 113,  47, 131, 161, 118,  82,  89,  81,  43,\n",
              "        81,  38, 119,  52,  82,  31, 159,  57, 113,  71, 121, 140,  91,\n",
              "        70,  37, 106,  64, 127, 110,  58,  93,  79], dtype=uint16)"
            ]
          },
          "metadata": {},
          "execution_count": 22
        }
      ]
    },
    {
      "cell_type": "code",
      "source": [
        "# This generates a list []\n",
        "print([fake_log[3], fake_log[8]])\n",
        "# This generates a tuple ()\n",
        "fake_log[3], fake_log[8]"
      ],
      "metadata": {
        "colab": {
          "base_uri": "https://localhost:8080/"
        },
        "id": "GDexdHh9vaIO",
        "outputId": "f0beb7e7-1fb0-46d6-dd24-2f06a89e5736"
      },
      "execution_count": 23,
      "outputs": [
        {
          "output_type": "stream",
          "name": "stdout",
          "text": [
            "[44, 50]\n"
          ]
        },
        {
          "output_type": "execute_result",
          "data": {
            "text/plain": [
              "(44, 50)"
            ]
          },
          "metadata": {},
          "execution_count": 23
        }
      ]
    },
    {
      "cell_type": "code",
      "source": [
        "# Since it is in [], it's a list of 2 numbers to find in fake_log\n",
        "fake_log[[3,8]]\n",
        "\n",
        "# Reads the index as coordinates rather than individual numbers to locate\n",
        "# This will return an error as the coordinates are out of bounds\n",
        "# fake_log[3, 8]"
      ],
      "metadata": {
        "colab": {
          "base_uri": "https://localhost:8080/"
        },
        "id": "BHqj4s2GviSo",
        "outputId": "d776632c-cf99-43a1-abaa-f3a2704d5e2d"
      },
      "execution_count": 24,
      "outputs": [
        {
          "output_type": "execute_result",
          "data": {
            "text/plain": [
              "array([44, 50], dtype=uint16)"
            ]
          },
          "metadata": {},
          "execution_count": 24
        }
      ]
    },
    {
      "cell_type": "code",
      "source": [
        "# Creating a np.array (indexArr) to store lists of indexes\n",
        "\n",
        "indexArr = np.array([\n",
        "    [3, 8],\n",
        "    [0, 1]\n",
        "])\n",
        "\n",
        "fake_log[indexArr]"
      ],
      "metadata": {
        "colab": {
          "base_uri": "https://localhost:8080/"
        },
        "id": "M_P9_rIewsaP",
        "outputId": "f5f5bd87-ee1f-4edb-9ac4-3e0751033bd0"
      },
      "execution_count": 25,
      "outputs": [
        {
          "output_type": "execute_result",
          "data": {
            "text/plain": [
              "array([[ 44,  50],\n",
              "       [132, 122]], dtype=uint16)"
            ]
          },
          "metadata": {},
          "execution_count": 25
        }
      ]
    },
    {
      "cell_type": "markdown",
      "source": [
        "#### **Appending `fake_log` to `studyMins2`**\n",
        "\n",
        "Remember, `studyMins2` has a shape of `(2, 100)`, meaning there are 2 dimensions:\n",
        "* 2 rounds\n",
        "* 100 days\n",
        "\n",
        "When appending, the array to append must have the **same number** of dimensions as the array you plan to append to. If not, it will return a ***ValueError***.\n",
        "\n",
        "> `fake_log` has a shape of `(100,)`, meaning it has only 1 dimension.\n",
        "\n",
        "To avoid the error, you can nestle `fake_log` into `[ ]` to make it a list of lists.\n",
        "> When done, the shape will now be `(1, 100)`, making it 2 dimensional.\n",
        "\n",
        "We want the axis to be 0, since we want `fake_log` to be round 3 rather than it being another dimension.\n",
        "* As mentioned before the shape of `studyMins2` is `(2,100)` with 2 representing the \"round-axis\".\n",
        "* To select the round-axis, which is the first dimension, the index will be **0**. Always remember that indexing always starts at 0!\n",
        "\n",
        "**All together, the code should be:**\n",
        "\n",
        "`studyMins2 = np.append(studyMins2, [fake_log], axis=0)`\n",
        "\n",
        "When done, the shape of `studyMins2` should be `(3, 100)`."
      ],
      "metadata": {
        "id": "yFGMZ1mXkNM8"
      }
    },
    {
      "cell_type": "code",
      "source": [
        "# Original shape of fake_log\n",
        "print(fake_log.shape)\n",
        "\n",
        "# Nestling fake_log into [] to make it 2 dimensional\n",
        "fake_log_list = np.array([fake_log])\n",
        "fake_log_list.shape"
      ],
      "metadata": {
        "colab": {
          "base_uri": "https://localhost:8080/"
        },
        "id": "z-BKfY0EnHnt",
        "outputId": "214182b0-f4fa-4b5c-a5c2-4d07ffb342e7"
      },
      "execution_count": 26,
      "outputs": [
        {
          "output_type": "stream",
          "name": "stdout",
          "text": [
            "(100,)\n"
          ]
        },
        {
          "output_type": "execute_result",
          "data": {
            "text/plain": [
              "(1, 100)"
            ]
          },
          "metadata": {},
          "execution_count": 26
        }
      ]
    },
    {
      "cell_type": "code",
      "source": [
        "# Appending fake_log to studyMins2\n",
        "\n",
        "studyMins2 = np.append(studyMins2, [fake_log], axis=0)"
      ],
      "metadata": {
        "id": "TNwDHbr5xDUA"
      },
      "execution_count": 27,
      "outputs": []
    },
    {
      "cell_type": "code",
      "source": [
        "# Logging 6 hours of coding on round 2, day 2\n",
        "studyMins2[1,1] = 360"
      ],
      "metadata": {
        "id": "K-70vt4FxnVV"
      },
      "execution_count": 28,
      "outputs": []
    },
    {
      "cell_type": "code",
      "source": [
        "print(studyMins2.shape,\"\\n\")\n",
        "\n",
        "studyMins2"
      ],
      "metadata": {
        "colab": {
          "base_uri": "https://localhost:8080/"
        },
        "id": "GeaN6rKkxdVL",
        "outputId": "16814159-760c-49f9-f4f8-fec67849ad6b"
      },
      "execution_count": 29,
      "outputs": [
        {
          "output_type": "stream",
          "name": "stdout",
          "text": [
            "(3, 100) \n",
            "\n"
          ]
        },
        {
          "output_type": "execute_result",
          "data": {
            "text/plain": [
              "array([[150,  60,  80,  60,  30,  90,   0,   0,   0,   0,   0,   0,   0,\n",
              "          0,   0,   0,   0,   0,   0,   0,   0,   0,   0,   0,   0,   0,\n",
              "          0,   0,   0,   0,   0,   0,   0,   0,   0,   0,   0,   0,   0,\n",
              "          0,   0,   0,   0,   0,   0,   0,   0,   0,   0,   0,   0,   0,\n",
              "          0,   0,   0,   0,   0,   0,   0,   0,   0,   0,   0,   0,   0,\n",
              "          0,   0,   0,   0,   0,   0,   0,   0,   0,   0,   0,   0,   0,\n",
              "          0,   0,   0,   0,   0,   0,   0,   0,   0,   0,   0,   0,   0,\n",
              "          0,   0,   0,   0,   0,   0,   0,   0,   0],\n",
              "       [ 60, 360,   0,   0,   0,   0,   0,   0,   0,   0,   0,   0,   0,\n",
              "          0,   0,   0,   0,   0,   0,   0,   0,   0,   0,   0,   0,   0,\n",
              "          0,   0,   0,   0,   0,   0,   0,   0,   0,   0,   0,   0,   0,\n",
              "          0,   0,   0,   0,   0,   0,   0,   0,   0,   0,   0,   0,   0,\n",
              "          0,   0,   0,   0,   0,   0,   0,   0,   0,   0,   0,   0,   0,\n",
              "          0,   0,   0,   0,   0,   0,   0,   0,   0,   0,   0,   0,   0,\n",
              "          0,   0,   0,   0,   0,   0,   0,   0,   0,   0,   0,   0,   0,\n",
              "          0,   0,   0,   0,   0,   0,   0,   0,   0],\n",
              "       [132, 122, 128,  44, 136, 129, 101,  95,  50, 132, 151,  64, 104,\n",
              "        175, 117, 146, 139, 129, 133, 176,  98, 160, 179,  99,  82, 142,\n",
              "         31, 106, 117,  56,  98,  67, 121, 159,  81, 170,  31,  50,  49,\n",
              "         87, 179,  51, 116, 177, 118,  78, 171, 117,  88, 123, 102,  44,\n",
              "         79,  31, 108,  80,  59, 137,  84,  93, 155, 160,  67,  80, 166,\n",
              "        164,  70,  50, 102, 113,  47, 131, 161, 118,  82,  89,  81,  43,\n",
              "         81,  38, 119,  52,  82,  31, 159,  57, 113,  71, 121, 140,  91,\n",
              "         70,  37, 106,  64, 127, 110,  58,  93,  79]], dtype=uint16)"
            ]
          },
          "metadata": {},
          "execution_count": 29
        }
      ]
    },
    {
      "cell_type": "markdown",
      "source": [
        "## **[Boolean Array Indexing] Treehouse Section**\n",
        "\n",
        "**Introduced:**\n",
        "* **Boolean array indexing**\n",
        "* **Using bitwise logic operators:**\n",
        "    * `&` - and\n",
        "    * `|` - or\n",
        "    * `^` - xor; exclusive or; compares if values are the same or not\n",
        "        - if the same = false\n",
        "        - if different = true\n",
        "    * `~` - not\n",
        "* **Why use Bitwise Operators rather than just and, or, xor & not?**\n",
        "\t- `and` and `or` considers the **entire object**\n",
        "\t- `&` and `|` refer to **bits** within each object.\n",
        "\t- When you use `and` or `or`, it's equivalent to asking Python to treat the object as a single Boolean entity.\n",
        "    - **References:**\n",
        "        - <a href=\"https://jakevdp.github.io/PythonDataScienceHandbook/02.06-boolean-arrays-and-masks.html#Boolean-operators:~:text=Boolean%20operators,usually%20Boolean)%20arrays.\"> Boolean Operators </a>\n",
        "        - [How does bitwise ^ (XOR) work?](https://www.loginradius.com/blog/engineering/how-does-bitwise-xor-work/#:~:text=XOR%20is%20a%20bitwise%20operator%2C%20and%20it%20stands%20for%20%22exclusive%20or.%22%20It%20performs%20logical%20operation.%20If%20input%20bits%20are%20the%20same%2C%20then%20the%20output%20will%20be%20false(0%29%20else%20true(1%29.)\n",
        "* **Updating certain values using boolean array indexing**\n",
        "\n",
        "[Boolean Array Indexing]:https://teamtreehouse.com/library/introduction-to-numpy/boolean-array-indexing \"Boolean Array Indexing\""
      ],
      "metadata": {
        "id": "11MJkZe6uTPe"
      }
    },
    {
      "cell_type": "code",
      "source": [
        "# Boolean Array Indexing\n",
        "# Returns True or False depending on the condition set\n",
        "print(fake_log < 60,\"\\n\")\n",
        "\n",
        "# Indexing all values in fake_log that are < 60\n",
        "fake_log[fake_log < 60]"
      ],
      "metadata": {
        "colab": {
          "base_uri": "https://localhost:8080/"
        },
        "id": "DCOBaRZAvBKO",
        "outputId": "b8b701eb-5b74-40d0-a843-b37b05f84de0"
      },
      "execution_count": 30,
      "outputs": [
        {
          "output_type": "stream",
          "name": "stdout",
          "text": [
            "[False False False  True False False False False  True False False False\n",
            " False False False False False False False False False False False False\n",
            " False False  True False False  True False False False False False False\n",
            "  True  True  True False False  True False False False False False False\n",
            " False False False  True False  True False False  True False False False\n",
            " False False False False False False False  True False False  True False\n",
            " False False False False False  True False  True False  True False  True\n",
            " False  True False False False False False False  True False False False\n",
            " False  True False False] \n",
            "\n"
          ]
        },
        {
          "output_type": "execute_result",
          "data": {
            "text/plain": [
              "array([44, 50, 31, 56, 31, 50, 49, 51, 44, 31, 59, 50, 47, 43, 38, 52, 31,\n",
              "       57, 37, 58], dtype=uint16)"
            ]
          },
          "metadata": {},
          "execution_count": 30
        }
      ]
    },
    {
      "cell_type": "code",
      "source": [
        "# Alt way of getting all <60 but slower compared to boolean array indexing\n",
        "# Will through fake_log until it collect all values <60\n",
        "results = []\n",
        "for value in fake_log:\n",
        "    if value < 60:\n",
        "        results.append(value)\n",
        "np.array(results)"
      ],
      "metadata": {
        "id": "HRNJTHbZwA0E",
        "colab": {
          "base_uri": "https://localhost:8080/"
        },
        "outputId": "fae8580b-c6b4-4782-859a-dc9cdf600116"
      },
      "execution_count": 31,
      "outputs": [
        {
          "output_type": "execute_result",
          "data": {
            "text/plain": [
              "array([44, 50, 31, 56, 31, 50, 49, 51, 44, 31, 59, 50, 47, 43, 38, 52, 31,\n",
              "       57, 37, 58], dtype=uint16)"
            ]
          },
          "metadata": {},
          "execution_count": 31
        }
      ]
    },
    {
      "cell_type": "code",
      "source": [
        "# Indexing 2 conditions: numbers in between 0 and 60\n",
        "# MUST USE & NOT and because it will cause a ValueError\n",
        "# Put conditions in parentheses due to the order of operations\n",
        "    # & is a stronger operator than < and >\n",
        "\n",
        "print(studyMins2[(studyMins2 >0) & (studyMins2 < 60)],\"\\n\");\n",
        "\n",
        "# Formatting it\n",
        "print(*studyMins2[(studyMins2 >0) & (studyMins2 < 60)],sep=\", \");\n",
        "print(\"\")\n",
        "\n",
        "studyMins2[studyMins2 < 60]"
      ],
      "metadata": {
        "id": "jgrtyFptw3iG",
        "colab": {
          "base_uri": "https://localhost:8080/"
        },
        "outputId": "787284c5-46a9-412b-a2f3-4b6f0bc1a752"
      },
      "execution_count": 32,
      "outputs": [
        {
          "output_type": "stream",
          "name": "stdout",
          "text": [
            "[30 44 50 31 56 31 50 49 51 44 31 59 50 47 43 38 52 31 57 37 58] \n",
            "\n",
            "30, 44, 50, 31, 56, 31, 50, 49, 51, 44, 31, 59, 50, 47, 43, 38, 52, 31, 57, 37, 58\n",
            "\n"
          ]
        },
        {
          "output_type": "execute_result",
          "data": {
            "text/plain": [
              "array([30,  0,  0,  0,  0,  0,  0,  0,  0,  0,  0,  0,  0,  0,  0,  0,  0,\n",
              "        0,  0,  0,  0,  0,  0,  0,  0,  0,  0,  0,  0,  0,  0,  0,  0,  0,\n",
              "        0,  0,  0,  0,  0,  0,  0,  0,  0,  0,  0,  0,  0,  0,  0,  0,  0,\n",
              "        0,  0,  0,  0,  0,  0,  0,  0,  0,  0,  0,  0,  0,  0,  0,  0,  0,\n",
              "        0,  0,  0,  0,  0,  0,  0,  0,  0,  0,  0,  0,  0,  0,  0,  0,  0,\n",
              "        0,  0,  0,  0,  0,  0,  0,  0,  0,  0,  0,  0,  0,  0,  0,  0,  0,\n",
              "        0,  0,  0,  0,  0,  0,  0,  0,  0,  0,  0,  0,  0,  0,  0,  0,  0,\n",
              "        0,  0,  0,  0,  0,  0,  0,  0,  0,  0,  0,  0,  0,  0,  0,  0,  0,\n",
              "        0,  0,  0,  0,  0,  0,  0,  0,  0,  0,  0,  0,  0,  0,  0,  0,  0,\n",
              "        0,  0,  0,  0,  0,  0,  0,  0,  0,  0,  0,  0,  0,  0,  0,  0,  0,\n",
              "        0,  0,  0,  0,  0,  0,  0,  0,  0,  0,  0,  0,  0,  0,  0,  0,  0,\n",
              "        0,  0,  0,  0,  0,  0, 44, 50, 31, 56, 31, 50, 49, 51, 44, 31, 59,\n",
              "       50, 47, 43, 38, 52, 31, 57, 37, 58], dtype=uint16)"
            ]
          },
          "metadata": {},
          "execution_count": 32
        }
      ]
    },
    {
      "cell_type": "code",
      "source": [
        "# Updated all values that were less than 60 to 0\n",
        "studyMins2[studyMins2 < 60] = 0"
      ],
      "metadata": {
        "id": "SkJ5al8WySb-"
      },
      "execution_count": 33,
      "outputs": []
    },
    {
      "cell_type": "code",
      "source": [
        "studyMins2"
      ],
      "metadata": {
        "id": "3wJXULsz0ryx",
        "colab": {
          "base_uri": "https://localhost:8080/"
        },
        "outputId": "b554e5b9-88a5-4946-fc2c-c9c7d1d48ecf"
      },
      "execution_count": 34,
      "outputs": [
        {
          "output_type": "execute_result",
          "data": {
            "text/plain": [
              "array([[150,  60,  80,  60,   0,  90,   0,   0,   0,   0,   0,   0,   0,\n",
              "          0,   0,   0,   0,   0,   0,   0,   0,   0,   0,   0,   0,   0,\n",
              "          0,   0,   0,   0,   0,   0,   0,   0,   0,   0,   0,   0,   0,\n",
              "          0,   0,   0,   0,   0,   0,   0,   0,   0,   0,   0,   0,   0,\n",
              "          0,   0,   0,   0,   0,   0,   0,   0,   0,   0,   0,   0,   0,\n",
              "          0,   0,   0,   0,   0,   0,   0,   0,   0,   0,   0,   0,   0,\n",
              "          0,   0,   0,   0,   0,   0,   0,   0,   0,   0,   0,   0,   0,\n",
              "          0,   0,   0,   0,   0,   0,   0,   0,   0],\n",
              "       [ 60, 360,   0,   0,   0,   0,   0,   0,   0,   0,   0,   0,   0,\n",
              "          0,   0,   0,   0,   0,   0,   0,   0,   0,   0,   0,   0,   0,\n",
              "          0,   0,   0,   0,   0,   0,   0,   0,   0,   0,   0,   0,   0,\n",
              "          0,   0,   0,   0,   0,   0,   0,   0,   0,   0,   0,   0,   0,\n",
              "          0,   0,   0,   0,   0,   0,   0,   0,   0,   0,   0,   0,   0,\n",
              "          0,   0,   0,   0,   0,   0,   0,   0,   0,   0,   0,   0,   0,\n",
              "          0,   0,   0,   0,   0,   0,   0,   0,   0,   0,   0,   0,   0,\n",
              "          0,   0,   0,   0,   0,   0,   0,   0,   0],\n",
              "       [132, 122, 128,   0, 136, 129, 101,  95,   0, 132, 151,  64, 104,\n",
              "        175, 117, 146, 139, 129, 133, 176,  98, 160, 179,  99,  82, 142,\n",
              "          0, 106, 117,   0,  98,  67, 121, 159,  81, 170,   0,   0,   0,\n",
              "         87, 179,   0, 116, 177, 118,  78, 171, 117,  88, 123, 102,   0,\n",
              "         79,   0, 108,  80,   0, 137,  84,  93, 155, 160,  67,  80, 166,\n",
              "        164,  70,   0, 102, 113,   0, 131, 161, 118,  82,  89,  81,   0,\n",
              "         81,   0, 119,   0,  82,   0, 159,   0, 113,  71, 121, 140,  91,\n",
              "         70,   0, 106,  64, 127, 110,   0,  93,  79]], dtype=uint16)"
            ]
          },
          "metadata": {},
          "execution_count": 34
        }
      ]
    },
    {
      "cell_type": "markdown",
      "source": [
        "\n",
        "**Before updating values <60:**\n",
        "\n",
        "<details>\n",
        "    <summary> Before </summary>\n",
        "    \n",
        "    \n",
        "            array([[150,  60,  80,  60,  30,  90,   0,   0,   0,   0,   0,   0,   0,\n",
        "                    0,   0,   0,   0,   0,   0,   0,   0,   0,   0,   0,   0,   0,\n",
        "                    0,   0,   0,   0,   0,   0,   0,   0,   0,   0,   0,   0,   0,\n",
        "                    0,   0,   0,   0,   0,   0,   0,   0,   0,   0,   0,   0,   0,\n",
        "                    0,   0,   0,   0,   0,   0,   0,   0,   0,   0,   0,   0,   0,\n",
        "                    0,   0,   0,   0,   0,   0,   0,   0,   0,   0,   0,   0,   0,\n",
        "                    0,   0,   0,   0,   0,   0,   0,   0,   0,   0,   0,   0,   0,\n",
        "                    0,   0,   0,   0,   0,   0,   0,   0,   0],\n",
        "                [ 60, 360,   0,   0,   0,   0,   0,   0,   0,   0,   0,   0,   0,\n",
        "                    0,   0,   0,   0,   0,   0,   0,   0,   0,   0,   0,   0,   0,\n",
        "                    0,   0,   0,   0,   0,   0,   0,   0,   0,   0,   0,   0,   0,\n",
        "                    0,   0,   0,   0,   0,   0,   0,   0,   0,   0,   0,   0,   0,\n",
        "                    0,   0,   0,   0,   0,   0,   0,   0,   0,   0,   0,   0,   0,\n",
        "                    0,   0,   0,   0,   0,   0,   0,   0,   0,   0,   0,   0,   0,\n",
        "                    0,   0,   0,   0,   0,   0,   0,   0,   0,   0,   0,   0,   0,\n",
        "                    0,   0,   0,   0,   0,   0,   0,   0,   0],\n",
        "                [132, 122, 128,  44, 136, 129, 101,  95,  50, 132, 151,  64, 104,\n",
        "                    175, 117, 146, 139, 129, 133, 176,  98, 160, 179,  99,  82, 142,\n",
        "                    31, 106, 117,  56,  98,  67, 121, 159,  81, 170,  31,  50,  49,\n",
        "                    87, 179,  51, 116, 177, 118,  78, 171, 117,  88, 123, 102,  44,\n",
        "                    79,  31, 108,  80,  59, 137,  84,  93, 155, 160,  67,  80, 166,\n",
        "                    164,  70,  50, 102, 113,  47, 131, 161, 118,  82,  89,  81,  43,\n",
        "                    81,  38, 119,  52,  82,  31, 159,  57, 113,  71, 121, 140,  91,\n",
        "                    70,  37, 106,  64, 127, 110,  58,  93,  79]], dtype=uint16)\n",
        "\n",
        "    \n",
        "</details>\n",
        "\n",
        "\n",
        "**After updating values <60 to zero:**\n",
        "\n",
        "<details>\n",
        "    <summary> After </summary>\n",
        "\n",
        "\n",
        "            array([[150,  60,  80,  60,   0,  90,   0,   0,   0,   0,   0,   0,   0,\n",
        "                    0,   0,   0,   0,   0,   0,   0,   0,   0,   0,   0,   0,   0,\n",
        "                    0,   0,   0,   0,   0,   0,   0,   0,   0,   0,   0,   0,   0,\n",
        "                    0,   0,   0,   0,   0,   0,   0,   0,   0,   0,   0,   0,   0,\n",
        "                    0,   0,   0,   0,   0,   0,   0,   0,   0,   0,   0,   0,   0,\n",
        "                    0,   0,   0,   0,   0,   0,   0,   0,   0,   0,   0,   0,   0,\n",
        "                    0,   0,   0,   0,   0,   0,   0,   0,   0,   0,   0,   0,   0,\n",
        "                    0,   0,   0,   0,   0,   0,   0,   0,   0],\n",
        "                [ 60, 360,   0,   0,   0,   0,   0,   0,   0,   0,   0,   0,   0,\n",
        "                    0,   0,   0,   0,   0,   0,   0,   0,   0,   0,   0,   0,   0,\n",
        "                    0,   0,   0,   0,   0,   0,   0,   0,   0,   0,   0,   0,   0,\n",
        "                    0,   0,   0,   0,   0,   0,   0,   0,   0,   0,   0,   0,   0,\n",
        "                    0,   0,   0,   0,   0,   0,   0,   0,   0,   0,   0,   0,   0,\n",
        "                    0,   0,   0,   0,   0,   0,   0,   0,   0,   0,   0,   0,   0,\n",
        "                    0,   0,   0,   0,   0,   0,   0,   0,   0,   0,   0,   0,   0,\n",
        "                    0,   0,   0,   0,   0,   0,   0,   0,   0],\n",
        "                [132, 122, 128,   0, 136, 129, 101,  95,   0, 132, 151,  64, 104,\n",
        "                    175, 117, 146, 139, 129, 133, 176,  98, 160, 179,  99,  82, 142,\n",
        "                    0, 106, 117,   0,  98,  67, 121, 159,  81, 170,   0,   0,   0,\n",
        "                    87, 179,   0, 116, 177, 118,  78, 171, 117,  88, 123, 102,   0,\n",
        "                    79,   0, 108,  80,   0, 137,  84,  93, 155, 160,  67,  80, 166,\n",
        "                    164,  70,   0, 102, 113,   0, 131, 161, 118,  82,  89,  81,   0,\n",
        "                    81,   0, 119,   0,  82,   0, 159,   0, 113,  71, 121, 140,  91,\n",
        "                    70,   0, 106,  64, 127, 110,   0,  93,  79]], dtype=uint16)\n",
        "\n",
        "\n",
        "</details>"
      ],
      "metadata": {
        "id": "uDUrbvha0-5c"
      }
    },
    {
      "cell_type": "markdown",
      "source": [
        "## **[Slicing]** Treehouse Section\n",
        "\n",
        "**Introduces:**\n",
        "* `:` **Slicing**\n",
        "    * Returns a range of elements from the specified start and end index. The end index is excluded from the range.\n",
        "    * You can select items by increments\n",
        "    * You can reverse the order by making the increment number to (-)\n",
        "    * **With Python Lists**\n",
        "        * Returns a **copy** of the items.\n",
        "    * **With ndarrays**\n",
        "        * Returns a **data view** rather than a copy.\n",
        "        * If you used the slice method to copy an ndarray to another variable and updated that variable, the original ndarray will also be updated.\n",
        "        * You can use `,` to separate each dimension slice\n",
        "\n",
        "\n",
        "* **`np.arrange(num)`** - generates a range up to but not including the number specificed\n",
        "* **Check if a variable is a data view or not through:**\n",
        "    1. `variable.base is None`\n",
        "    2. `variable.flags['OWNDATA']`\n",
        "* **Confirm if the array referenced is the basis of the data view:** `variable.base is varReference`\n",
        "* **`.flags`** - a dictionary in NumPy\n",
        "    * `OWNDATA` - key in the `.flags` dictionary; returns a boolean result whether the variable owns its values or not.\n",
        "    * [flags documentation on NumPy]\n",
        "\n",
        "\n",
        "[Slicing]: https://teamtreehouse.com/library/introduction-to-numpy/slicing \"Slicing\"\n",
        "[flags documentation on NumPy]: https://numpy.org/doc/stable/reference/generated/numpy.ndarray.flags.html \"np.ndarray.flags\""
      ],
      "metadata": {
        "id": "Z_CUIIMH_FGj"
      }
    },
    {
      "cell_type": "code",
      "source": [
        "fruits = [\"apple\",\"banana\",\"cherry\",\"durian\"]\n",
        "\n",
        "print(fruits[1:3])\n",
        "print(fruits[:3])\n",
        "print(fruits[3:])\n",
        "\n",
        "# By slicing, you are copying the items from an array\n",
        "print(fruits[:])"
      ],
      "metadata": {
        "colab": {
          "base_uri": "https://localhost:8080/"
        },
        "id": "ME1JEaSA_tvU",
        "outputId": "72079ddd-66fb-4e96-e484-b9d06679dfc7"
      },
      "execution_count": 35,
      "outputs": [
        {
          "output_type": "stream",
          "name": "stdout",
          "text": [
            "['banana', 'cherry']\n",
            "['apple', 'banana', 'cherry']\n",
            "['durian']\n",
            "['apple', 'banana', 'cherry', 'durian']\n"
          ]
        }
      ]
    },
    {
      "cell_type": "code",
      "source": [
        "copied = fruits[:]\n",
        "copied[3] = 'cheese'\n",
        "\n",
        "fruits,copied"
      ],
      "metadata": {
        "colab": {
          "base_uri": "https://localhost:8080/"
        },
        "id": "oSrfFw9jAULC",
        "outputId": "ee868b33-7288-4fda-d2b0-809ea9bb89dc"
      },
      "execution_count": 36,
      "outputs": [
        {
          "output_type": "execute_result",
          "data": {
            "text/plain": [
              "(['apple', 'banana', 'cherry', 'durian'],\n",
              " ['apple', 'banana', 'cherry', 'cheese'])"
            ]
          },
          "metadata": {},
          "execution_count": 36
        }
      ]
    },
    {
      "cell_type": "code",
      "source": [
        "# Gets every item over increments of 2\n",
        "print(fruits[::2])\n",
        "\n",
        "#Gets every item in reverse\n",
        "fruits[::-1]"
      ],
      "metadata": {
        "colab": {
          "base_uri": "https://localhost:8080/"
        },
        "id": "BWUxdKvABhH5",
        "outputId": "48acd5d0-f907-4912-ddf0-b918adb524a2"
      },
      "execution_count": 37,
      "outputs": [
        {
          "output_type": "stream",
          "name": "stdout",
          "text": [
            "['apple', 'cherry']\n"
          ]
        },
        {
          "output_type": "execute_result",
          "data": {
            "text/plain": [
              "['durian', 'cherry', 'banana', 'apple']"
            ]
          },
          "metadata": {},
          "execution_count": 37
        }
      ]
    },
    {
      "cell_type": "code",
      "source": [
        "# Generates an array up to but not including 20\n",
        "np.arange(20)"
      ],
      "metadata": {
        "colab": {
          "base_uri": "https://localhost:8080/"
        },
        "id": "O_jLFurpCJjs",
        "outputId": "9d3c82a0-eb61-4faa-d33f-c5e9513466a1"
      },
      "execution_count": 38,
      "outputs": [
        {
          "output_type": "execute_result",
          "data": {
            "text/plain": [
              "array([ 0,  1,  2,  3,  4,  5,  6,  7,  8,  9, 10, 11, 12, 13, 14, 15, 16,\n",
              "       17, 18, 19])"
            ]
          },
          "metadata": {},
          "execution_count": 38
        }
      ]
    },
    {
      "cell_type": "code",
      "source": [
        "practice = np.arange(42)\n",
        "practice.shape = (7,6)\n",
        "practice"
      ],
      "metadata": {
        "colab": {
          "base_uri": "https://localhost:8080/"
        },
        "id": "JHYRsLT4Coqz",
        "outputId": "7e946795-e98a-484a-d721-77953d6df7d3"
      },
      "execution_count": 39,
      "outputs": [
        {
          "output_type": "execute_result",
          "data": {
            "text/plain": [
              "array([[ 0,  1,  2,  3,  4,  5],\n",
              "       [ 6,  7,  8,  9, 10, 11],\n",
              "       [12, 13, 14, 15, 16, 17],\n",
              "       [18, 19, 20, 21, 22, 23],\n",
              "       [24, 25, 26, 27, 28, 29],\n",
              "       [30, 31, 32, 33, 34, 35],\n",
              "       [36, 37, 38, 39, 40, 41]])"
            ]
          },
          "metadata": {},
          "execution_count": 39
        }
      ]
    },
    {
      "cell_type": "code",
      "source": [
        "# Calling a particular number\n",
        "print(practice[2,1],\"\\n\")\n",
        "# Calling rows 3-5\n",
        "print(practice[2:5],\"\\n\")\n",
        "# Calling rows 3-5, showing only column 4\n",
        "print(practice[2:5, 3],\"\\n\")\n",
        "# Calling rows 3-5, showing columns 4 until the last column\n",
        "print(practice[2:5, 3:],\"\\n\")\n",
        "# Calling rows 3-5, and every other column starting at column 4\n",
        "print(practice[2:5, 3::2])"
      ],
      "metadata": {
        "colab": {
          "base_uri": "https://localhost:8080/"
        },
        "id": "9KugTsTnDA8M",
        "outputId": "8c43e9c0-3480-4c33-b88a-7ff13a2b0b1a"
      },
      "execution_count": 40,
      "outputs": [
        {
          "output_type": "stream",
          "name": "stdout",
          "text": [
            "13 \n",
            "\n",
            "[[12 13 14 15 16 17]\n",
            " [18 19 20 21 22 23]\n",
            " [24 25 26 27 28 29]] \n",
            "\n",
            "[15 21 27] \n",
            "\n",
            "[[15 16 17]\n",
            " [21 22 23]\n",
            " [27 28 29]] \n",
            "\n",
            "[[15 17]\n",
            " [21 23]\n",
            " [27 29]]\n"
          ]
        }
      ]
    },
    {
      "cell_type": "code",
      "source": [
        "# Any slicing of ndarray returns a view and not a copy\n",
        "not_copied = practice[:]\n",
        "not_copied[0,0] = 90210\n",
        "practice, not_copied"
      ],
      "metadata": {
        "colab": {
          "base_uri": "https://localhost:8080/"
        },
        "id": "IsUtRdhZE9kE",
        "outputId": "43f21135-f75f-4efc-d777-af4ccf4fcc5c"
      },
      "execution_count": 41,
      "outputs": [
        {
          "output_type": "execute_result",
          "data": {
            "text/plain": [
              "(array([[90210,     1,     2,     3,     4,     5],\n",
              "        [    6,     7,     8,     9,    10,    11],\n",
              "        [   12,    13,    14,    15,    16,    17],\n",
              "        [   18,    19,    20,    21,    22,    23],\n",
              "        [   24,    25,    26,    27,    28,    29],\n",
              "        [   30,    31,    32,    33,    34,    35],\n",
              "        [   36,    37,    38,    39,    40,    41]]),\n",
              " array([[90210,     1,     2,     3,     4,     5],\n",
              "        [    6,     7,     8,     9,    10,    11],\n",
              "        [   12,    13,    14,    15,    16,    17],\n",
              "        [   18,    19,    20,    21,    22,    23],\n",
              "        [   24,    25,    26,    27,    28,    29],\n",
              "        [   30,    31,    32,    33,    34,    35],\n",
              "        [   36,    37,    38,    39,    40,    41]]))"
            ]
          },
          "metadata": {},
          "execution_count": 41
        }
      ]
    },
    {
      "cell_type": "code",
      "source": [
        "# Check to see if this is a base object or a data view\n",
        "# True because it is not based on anything but itself\n",
        "practice.base is None"
      ],
      "metadata": {
        "colab": {
          "base_uri": "https://localhost:8080/"
        },
        "id": "yvNlPFMXF6Wf",
        "outputId": "592190b4-f888-4e34-a811-be6eec59b4ad"
      },
      "execution_count": 42,
      "outputs": [
        {
          "output_type": "execute_result",
          "data": {
            "text/plain": [
              "True"
            ]
          },
          "metadata": {},
          "execution_count": 42
        }
      ]
    },
    {
      "cell_type": "code",
      "source": [
        "# False since it's bsed on practice\n",
        "not_copied.base is None"
      ],
      "metadata": {
        "colab": {
          "base_uri": "https://localhost:8080/"
        },
        "id": "BMRATghxGBTX",
        "outputId": "3b281636-38c7-4780-8c0a-001941711d65"
      },
      "execution_count": 43,
      "outputs": [
        {
          "output_type": "execute_result",
          "data": {
            "text/plain": [
              "False"
            ]
          },
          "metadata": {},
          "execution_count": 43
        }
      ]
    },
    {
      "cell_type": "code",
      "source": [
        "# True since not_copied is based on practice\n",
        "not_copied.base is practice"
      ],
      "metadata": {
        "colab": {
          "base_uri": "https://localhost:8080/"
        },
        "id": "QyrizYymGCqp",
        "outputId": "5f502003-c1d0-4e94-91d6-1b945c16b165"
      },
      "execution_count": 44,
      "outputs": [
        {
          "output_type": "execute_result",
          "data": {
            "text/plain": [
              "True"
            ]
          },
          "metadata": {},
          "execution_count": 44
        }
      ]
    },
    {
      "cell_type": "code",
      "source": [
        "# OWNDATA is a key within flags, which is a dictionary\n",
        "\n",
        "practice.flags['OWNDATA'], not_copied.flags['OWNDATA']"
      ],
      "metadata": {
        "colab": {
          "base_uri": "https://localhost:8080/"
        },
        "id": "qbfsqnWRGv4A",
        "outputId": "cd168ff2-a6cb-4cbf-bea5-531c80e7f495"
      },
      "execution_count": 45,
      "outputs": [
        {
          "output_type": "execute_result",
          "data": {
            "text/plain": [
              "(True, False)"
            ]
          },
          "metadata": {},
          "execution_count": 45
        }
      ]
    },
    {
      "cell_type": "code",
      "source": [
        "not_copied.base"
      ],
      "metadata": {
        "colab": {
          "base_uri": "https://localhost:8080/"
        },
        "id": "qGqDUY9oIQgJ",
        "outputId": "0f24eb3d-a5c7-47f8-a441-47654ac57a5d"
      },
      "execution_count": 46,
      "outputs": [
        {
          "output_type": "execute_result",
          "data": {
            "text/plain": [
              "array([[90210,     1,     2,     3,     4,     5],\n",
              "       [    6,     7,     8,     9,    10,    11],\n",
              "       [   12,    13,    14,    15,    16,    17],\n",
              "       [   18,    19,    20,    21,    22,    23],\n",
              "       [   24,    25,    26,    27,    28,    29],\n",
              "       [   30,    31,    32,    33,    34,    35],\n",
              "       [   36,    37,    38,    39,    40,    41]])"
            ]
          },
          "metadata": {},
          "execution_count": 46
        }
      ]
    },
    {
      "cell_type": "markdown",
      "source": [
        "## **[Manipulation] Treehouse Section**\n",
        "\n",
        "**Introduced:**\n",
        "* `.reshape()`\n",
        "    * Creates a ***view*** that reshapes the length of each dimension.\n",
        "    * It doesn't produce a copy so this saves up on space.\n",
        "    * If you input a (-) number in the parameter for one of the dimensions, it will **infer** what number could work with whatever dimension length you set for the other dimension(s) in the same array.\n",
        "* `.ravel()`\n",
        "    * Reshaping in a way of putting all of the elements in a single dimension making it a vector again.\n",
        "    * This is called flattening.\n",
        "    * This is also just a view.\n",
        "    * You could also achieve the same result if you did `.reshape(-1)`.\n",
        "* `.flatten()`\n",
        "    * Makes a **copy** of all the elements in an array and flattens it into one dimension.\n",
        "* `np.lookfor(word)`\n",
        "    * Type a word in it and it will search for a function in NumPy\n",
        "    * Calls any function that the word in it flat in it, in its description & other possibly related functions\n",
        "* `func?`\n",
        "    * When you remember a specific function but don't remember what it does.\n",
        "    * Returns a full description of what it does, what parameters it has, etc.\n",
        "* `.T`\n",
        "    * **Transposing**. Flips the order of the array; switches rows and columns\n",
        "    * Only a view.\n",
        "    * **E.g.** (2,3) abc 123 -> (3,2) a1 b2 3b\n",
        "\n",
        "\n",
        "**Referenced**\n",
        "* [Array manipulation routines]\n",
        "\n",
        "\n",
        "\n",
        "[Manipulation]:https://teamtreehouse.com/library/introduction-to-numpy/manipulation \"Manipulation\"\n",
        "[Array manipulation routines]:https://numpy.org/doc/stable/reference/routines.array-manipulation.html \"Array Manipulation Routines\""
      ],
      "metadata": {
        "id": "WHqXmNZV5sDj"
      }
    },
    {
      "cell_type": "markdown",
      "source": [
        "### **Reshaping**\n",
        "\n",
        "* For the example `practice`, its shape is `(7,6)`\n",
        "* We made a view by doing this: `practice.reshape(3,14)` and assigned it to `practice_view`.\n",
        "* This took `practice` and reshaped it from being **7 rows & 6 columns** to  **3 rows & 14 columns**\n",
        "* **AN IMPORTANT NOTE:** When the array `practice` was made:\n",
        "    * `practice = np.arange(42)`\n",
        "        * 42 signifies the number of elements in the array.\n",
        "        * The array is a vector\n",
        "    * It was then reshaped: `practice.shape = (7,6)`\n",
        "        * By shaping it this way, it's now a matrix.\n",
        "        * The length of the 2 dimensions, when multiplied, must equate to the number of elements in the vector array. In this case, it must be equal to **42**.\n",
        "        * **Why should it be equal?**\n",
        "            * Because it's dividing up the elements into equal sized arrays. Arrays must be equal sized for it to work as a proper database.\n",
        "            * If its not equal, it will return a ValueError like this:\n",
        "            > `ValueError: cannot reshape array of size 42 into shape (3,13)`\n",
        "\n",
        "            > Error due to 3 x 13 = 39;\n",
        "            > Will work with `(3,14)` since 3 x 14 = 42\n",
        "* One of the functions with `.reshape()`, if you input `-1` as a parameter for any dimension, it will infer the length of the dimension based on the specified length of other dimensions in it:\n",
        "    * The integer doesn't matter, just as long as it is a negative number. *(**e.g.** If you set it to `-2`, `-3`, etc., it will just pump out the same result)*\n",
        "    * Acts kind of like a placeholder. Will automatically generate a length that will equate it to the number of elements in an array.\n",
        "    * **Example:** `practice.reshape(-1,14)`\n",
        "        * `practice` has **42** elements and has 2 dimensions\n",
        "        * We indicated `-1` for the first dimension (rows) & `14` for the second dimension (columns)\n",
        "        * What you basically told it to do:\n",
        "            1. **For `14` for the 2nd dimension:**\n",
        "                * I want `14` columns\n",
        "            2. **For `-1` for the 1st dimension:**\n",
        "                * Figure it out so that I have 14 columns & that the elements are divided equally in whatever number of rows that have 14 columns.\n",
        "        * In this case, 3 rows of 14 columns will satisfy your request.\n",
        "        * **END RESULT:** `practice.reshape(-1,14)` shape will become `(3,14)`\n"
      ],
      "metadata": {
        "id": "HQQkILXdBJhX"
      }
    },
    {
      "cell_type": "code",
      "source": [
        "# Made a view of a reshaped practice array called practice_view\n",
        "# From a base shape of (7,6), we made a view of (3,14)\n",
        "\n",
        "practice_view = practice.reshape(3,14)\n",
        "practice, practice_view, practice_view.base is practice"
      ],
      "metadata": {
        "id": "YFFqyTsT7z3R",
        "colab": {
          "base_uri": "https://localhost:8080/"
        },
        "outputId": "5cc5745f-b0c9-4c0d-bd2b-b7fba6b98b80"
      },
      "execution_count": 47,
      "outputs": [
        {
          "output_type": "execute_result",
          "data": {
            "text/plain": [
              "(array([[90210,     1,     2,     3,     4,     5],\n",
              "        [    6,     7,     8,     9,    10,    11],\n",
              "        [   12,    13,    14,    15,    16,    17],\n",
              "        [   18,    19,    20,    21,    22,    23],\n",
              "        [   24,    25,    26,    27,    28,    29],\n",
              "        [   30,    31,    32,    33,    34,    35],\n",
              "        [   36,    37,    38,    39,    40,    41]]),\n",
              " array([[90210,     1,     2,     3,     4,     5,     6,     7,     8,\n",
              "             9,    10,    11,    12,    13],\n",
              "        [   14,    15,    16,    17,    18,    19,    20,    21,    22,\n",
              "            23,    24,    25,    26,    27],\n",
              "        [   28,    29,    30,    31,    32,    33,    34,    35,    36,\n",
              "            37,    38,    39,    40,    41]]),\n",
              " True)"
            ]
          },
          "metadata": {},
          "execution_count": 47
        }
      ]
    },
    {
      "cell_type": "code",
      "source": [
        "practice.reshape(-1,14).shape"
      ],
      "metadata": {
        "colab": {
          "base_uri": "https://localhost:8080/"
        },
        "id": "JADU5gvr-in2",
        "outputId": "2ce1266b-79ed-47cd-d19c-e7e7805bbc8f"
      },
      "execution_count": 48,
      "outputs": [
        {
          "output_type": "execute_result",
          "data": {
            "text/plain": [
              "(3, 14)"
            ]
          },
          "metadata": {},
          "execution_count": 48
        }
      ]
    },
    {
      "cell_type": "code",
      "source": [
        "# Reshaping in a way of putting all of the elements in a single dimension\n",
        "\n",
        "print(practice.ravel(),\"\\n\")\n",
        "\n",
        "# Can achieve the same thing with using .reshape(-1)\n",
        "\n",
        "practice.reshape(-1)"
      ],
      "metadata": {
        "colab": {
          "base_uri": "https://localhost:8080/"
        },
        "id": "wZRVQf2eWgg3",
        "outputId": "c4e2240b-3f06-4d23-90fd-34b4f87cdd23"
      },
      "execution_count": 49,
      "outputs": [
        {
          "output_type": "stream",
          "name": "stdout",
          "text": [
            "[90210     1     2     3     4     5     6     7     8     9    10    11\n",
            "    12    13    14    15    16    17    18    19    20    21    22    23\n",
            "    24    25    26    27    28    29    30    31    32    33    34    35\n",
            "    36    37    38    39    40    41] \n",
            "\n"
          ]
        },
        {
          "output_type": "execute_result",
          "data": {
            "text/plain": [
              "array([90210,     1,     2,     3,     4,     5,     6,     7,     8,\n",
              "           9,    10,    11,    12,    13,    14,    15,    16,    17,\n",
              "          18,    19,    20,    21,    22,    23,    24,    25,    26,\n",
              "          27,    28,    29,    30,    31,    32,    33,    34,    35,\n",
              "          36,    37,    38,    39,    40,    41])"
            ]
          },
          "metadata": {},
          "execution_count": 49
        }
      ]
    },
    {
      "cell_type": "code",
      "source": [
        "# Returns a copy of elements into one dimension (flattened)\n",
        "practice.flatten()"
      ],
      "metadata": {
        "colab": {
          "base_uri": "https://localhost:8080/"
        },
        "id": "-QhoFPPYamg3",
        "outputId": "17dc68a0-005d-41c4-86fd-b66069f1ce01"
      },
      "execution_count": 50,
      "outputs": [
        {
          "output_type": "execute_result",
          "data": {
            "text/plain": [
              "array([90210,     1,     2,     3,     4,     5,     6,     7,     8,\n",
              "           9,    10,    11,    12,    13,    14,    15,    16,    17,\n",
              "          18,    19,    20,    21,    22,    23,    24,    25,    26,\n",
              "          27,    28,    29,    30,    31,    32,    33,    34,    35,\n",
              "          36,    37,    38,    39,    40,    41])"
            ]
          },
          "metadata": {},
          "execution_count": 50
        }
      ]
    },
    {
      "cell_type": "code",
      "source": [
        "# To search for a function in NumPy\n",
        "# Calls on any function that has flat in it or in its description & more\n",
        "np.lookfor(\"flat\")"
      ],
      "metadata": {
        "id": "PGDy--sKLxU6"
      },
      "execution_count": null,
      "outputs": []
    },
    {
      "cell_type": "code",
      "source": [
        "# When you remember a specific function but don't remember what it does\n",
        "np.ravel?"
      ],
      "metadata": {
        "id": "lranuXxudIp5"
      },
      "execution_count": 52,
      "outputs": []
    },
    {
      "cell_type": "code",
      "source": [
        "# Transposing. Flips the order of the array; switches rows and columns\n",
        "# Only a view.\n",
        "# E.g. practice shape: (7, 6) -> (6,7)\n",
        "# (2,3) abc 123 -> (3,2) a1 b2 3b\n",
        "\n",
        "practice.T"
      ],
      "metadata": {
        "colab": {
          "base_uri": "https://localhost:8080/"
        },
        "id": "1INj9DbId-K0",
        "outputId": "11adc92e-08b5-41ee-c892-86869f9d2ec4"
      },
      "execution_count": 53,
      "outputs": [
        {
          "output_type": "execute_result",
          "data": {
            "text/plain": [
              "array([[90210,     6,    12,    18,    24,    30,    36],\n",
              "       [    1,     7,    13,    19,    25,    31,    37],\n",
              "       [    2,     8,    14,    20,    26,    32,    38],\n",
              "       [    3,     9,    15,    21,    27,    33,    39],\n",
              "       [    4,    10,    16,    22,    28,    34,    40],\n",
              "       [    5,    11,    17,    23,    29,    35,    41]])"
            ]
          },
          "metadata": {},
          "execution_count": 53
        }
      ]
    },
    {
      "cell_type": "markdown",
      "source": [
        "## **Array Programming**\n",
        "[New Way of Thinking] Treehouse Section\n",
        "\n",
        "The **Array Programming** paradigm focuses on performing vectorized operations all at once instead of using traditional loops.\n",
        "\n",
        "\n",
        "**Introduced:**\n",
        "* Linear Algebra functions\n",
        "    * `np.linalg.solve(arr1,arr2)`\n",
        "        * `np.linalg` is the module within NumPy, `.solve()` is a method.\n",
        "\n",
        "\n",
        "**Reference:**\n",
        "* [Array Programming Wiki](https://en.wikipedia.org/wiki/Array_programming)\n",
        "* [Khan Academy Linear Algebra](https://www.khanacademy.org/math/linear-algebra)\n",
        "\n",
        "\n",
        "[New Way of Thinking]:https://teamtreehouse.com/library/introduction-to-numpy/new-way-of-thinking \"Array Programming\""
      ],
      "metadata": {
        "id": "WOTk9iEXmCOH"
      }
    },
    {
      "cell_type": "markdown",
      "source": [
        "**The Setup:**\n",
        "* Craig had 4 orders, all with different food items and totals:\n",
        "    1. 2 tacos for $3\n",
        "    2. 4 tacos, 1 burrito, 1 horchata, 2 sodas for $20.50\n",
        "    3. 1 burrito, 1 soda for $10\n",
        "    4. 6 tacos, 1 horchata, 2 sodas for $14.25\n",
        "* The different orders will be our 1st dimension while the different food items will be the 2nd dimension.\n",
        "* The elements in the array signify the number a certain food item was bought in that order. If a food item was not ordered, it will be signified with a `0`.\n",
        "    * `orders` has a shape of `(4,4)`\n",
        "    * 4 orders, 4 food items\n",
        "* An array for order totals will be created named `totals`.\n",
        "* **What do we want to find out?** The price of the individual food items.\n",
        "\n",
        "**The Result:**\n",
        "* Taco - $1.50\n",
        "\n",
        "* Burrito - $8\n",
        "\n",
        "* Horchata - $1.25\n",
        "\n",
        "* Soda - $2"
      ],
      "metadata": {
        "id": "OJsMAhqdpa65"
      }
    },
    {
      "cell_type": "code",
      "source": [
        "# Setting up the order matrix and total array\n",
        "orders = np.array([\n",
        "    [2, 0, 0, 0],   # Order 1\n",
        "    [4, 1, 2, 2],   # Order 2\n",
        "    [0, 1, 0, 1],   # Order 3\n",
        "    [6, 0, 1, 2]    # Order 4\n",
        "])\n",
        "\n",
        "totals = np.array([3, 20.50, 10, 14.25])\n",
        "\n",
        "# Solves it through the np.linalg module (linear algebra)\n",
        "# Result is the price per food item\n",
        "prices = np.linalg.solve(orders, totals)\n",
        "prices"
      ],
      "metadata": {
        "colab": {
          "base_uri": "https://localhost:8080/"
        },
        "id": "tmY0vO6LoAm3",
        "outputId": "5bd85f9a-ca6b-4cad-a565-d118c8b05a51"
      },
      "execution_count": 54,
      "outputs": [
        {
          "output_type": "execute_result",
          "data": {
            "text/plain": [
              "array([1.5 , 8.  , 1.25, 2.  ])"
            ]
          },
          "metadata": {},
          "execution_count": 54
        }
      ]
    },
    {
      "cell_type": "code",
      "source": [
        "# Validating if it produced the right prices\n",
        "# Multiplying a matrix with a vector array and summing them togather\n",
        "# Inner Product: A • B\n",
        "orders @ prices"
      ],
      "metadata": {
        "colab": {
          "base_uri": "https://localhost:8080/"
        },
        "id": "BAoHIo-zvTgd",
        "outputId": "2439c595-7c78-4817-f1af-18078a7fb719"
      },
      "execution_count": 55,
      "outputs": [
        {
          "output_type": "execute_result",
          "data": {
            "text/plain": [
              "array([ 3.  , 20.5 , 10.  , 14.25])"
            ]
          },
          "metadata": {},
          "execution_count": 55
        }
      ]
    },
    {
      "cell_type": "code",
      "source": [
        "# Another notation for inner product\n",
        "orders.dot(prices)"
      ],
      "metadata": {
        "colab": {
          "base_uri": "https://localhost:8080/"
        },
        "id": "zRoELPwRw-cM",
        "outputId": "f427c860-395f-4f96-dea2-4ea4cfb56b38"
      },
      "execution_count": 56,
      "outputs": [
        {
          "output_type": "execute_result",
          "data": {
            "text/plain": [
              "array([ 3.  , 20.5 , 10.  , 14.25])"
            ]
          },
          "metadata": {},
          "execution_count": 56
        }
      ]
    },
    {
      "cell_type": "markdown",
      "source": [
        "#### **Teacher's Notes on Treehouse**\n",
        "**Linear Algebra**\n",
        "* There is a module for linear algebra, [linalg](https://docs.scipy.org/doc/numpy/reference/routines.linalg.html)\n",
        "* You can solve for a system of equations using the [solve function](https://docs.scipy.org/doc/numpy/reference/generated/numpy.linalg.solve.html#numpy.linalg.solve)\n",
        "    * You can create a square 2 dimensional matrix and a constant row vector and solve for each variable column\n",
        "    * You can double check the answer using the inner product or [dot](https://docs.scipy.org/doc/numpy/reference/generated/numpy.dot.html#numpy.dot).\n",
        "* You can use the `@` to produce the dot product of two arrays."
      ],
      "metadata": {
        "id": "UcFpazD40RaA"
      }
    },
    {
      "cell_type": "markdown",
      "source": [
        "## **[Universal Functions] Treehouse Section**\n",
        "Universal functions are vectorized functions that can work on all values in an array at once; ***AKA ufuncs***\n",
        "\n",
        "**Introduced:**\n",
        "* ufuncs\n",
        "\n",
        "**References:**\n",
        "* [Ufunc Documentation](https://numpy.org/doc/stable/reference/ufuncs.html)\n",
        "* [Automatic Vectorization](https://en.wikipedia.org/wiki/Automatic_vectorization)\n",
        "* [Write your own Ufunc](https://numpy.org/doc/stable/user/c-info.ufunc-tutorial.html)\n",
        "\n",
        "[Universal Functions]:https://teamtreehouse.com/library/introduction-to-numpy/universal-functions \"Universal Functions\""
      ],
      "metadata": {
        "id": "rF4-Ow0QzuaH"
      }
    },
    {
      "cell_type": "code",
      "source": [
        "a, b = np.split(np.arange(1,11),2)\n",
        "a, b"
      ],
      "metadata": {
        "colab": {
          "base_uri": "https://localhost:8080/"
        },
        "id": "J2V6Ykdw1VV3",
        "outputId": "efaf560e-2065-4f72-aebb-951893ed1082"
      },
      "execution_count": 57,
      "outputs": [
        {
          "output_type": "execute_result",
          "data": {
            "text/plain": [
              "(array([1, 2, 3, 4, 5]), array([ 6,  7,  8,  9, 10]))"
            ]
          },
          "metadata": {},
          "execution_count": 57
        }
      ]
    },
    {
      "cell_type": "code",
      "source": [
        "a + b"
      ],
      "metadata": {
        "colab": {
          "base_uri": "https://localhost:8080/"
        },
        "id": "7aaDTdHX1fG3",
        "outputId": "f7554eed-8ad5-4ab3-8319-7823180ee52d"
      },
      "execution_count": 58,
      "outputs": [
        {
          "output_type": "execute_result",
          "data": {
            "text/plain": [
              "array([ 7,  9, 11, 13, 15])"
            ]
          },
          "metadata": {},
          "execution_count": 58
        }
      ]
    },
    {
      "cell_type": "code",
      "source": [
        "# .repeat makes an array of five 2s\n",
        "a + np.repeat(2,5)"
      ],
      "metadata": {
        "colab": {
          "base_uri": "https://localhost:8080/"
        },
        "id": "Kvvz918E1vFF",
        "outputId": "dc0bdda2-43a2-4c6c-f1f1-b00999096bfa"
      },
      "execution_count": 59,
      "outputs": [
        {
          "output_type": "execute_result",
          "data": {
            "text/plain": [
              "array([3, 4, 5, 6, 7])"
            ]
          },
          "metadata": {},
          "execution_count": 59
        }
      ]
    },
    {
      "cell_type": "code",
      "source": [
        "# This is the same as np.repeat(2,5)\n",
        "# 2 is spread out to become an array of five 2s\n",
        "    # This is called broadcasting\n",
        "# 2 is a scalar data type. It automatically broadcasts it\n",
        "    # to the length of an array\n",
        "a + 2"
      ],
      "metadata": {
        "colab": {
          "base_uri": "https://localhost:8080/"
        },
        "id": "XTcFE-HF1pTF",
        "outputId": "d45086a0-04ee-4a29-eb88-42ac59e34e78"
      },
      "execution_count": 60,
      "outputs": [
        {
          "output_type": "execute_result",
          "data": {
            "text/plain": [
              "array([3, 4, 5, 6, 7])"
            ]
          },
          "metadata": {},
          "execution_count": 60
        }
      ]
    },
    {
      "cell_type": "code",
      "source": [
        "# np.add()\n",
        "# Brodcasting\n",
        "\n",
        "x1 = np.arange(9.0).reshape((3, 3))\n",
        "x2 = np.arange(3.0)\n",
        "x1, x2"
      ],
      "metadata": {
        "colab": {
          "base_uri": "https://localhost:8080/"
        },
        "id": "hZruCuXS136F",
        "outputId": "886ee830-9ed8-4ec1-8b57-48d98ac08e1a"
      },
      "execution_count": 61,
      "outputs": [
        {
          "output_type": "execute_result",
          "data": {
            "text/plain": [
              "(array([[0., 1., 2.],\n",
              "        [3., 4., 5.],\n",
              "        [6., 7., 8.]]),\n",
              " array([0., 1., 2.]))"
            ]
          },
          "metadata": {},
          "execution_count": 61
        }
      ]
    },
    {
      "cell_type": "code",
      "source": [
        "# The left array will be the base while the right\n",
        "    # will be broadcasted upon the left array\n",
        "\n",
        "np.add(x1, x2)"
      ],
      "metadata": {
        "colab": {
          "base_uri": "https://localhost:8080/"
        },
        "id": "rGXOR2FQ31XO",
        "outputId": "9d211bf5-529b-4a8f-a5c3-30c3a0daee84"
      },
      "execution_count": 62,
      "outputs": [
        {
          "output_type": "execute_result",
          "data": {
            "text/plain": [
              "array([[ 0.,  2.,  4.],\n",
              "       [ 3.,  5.,  7.],\n",
              "       [ 6.,  8., 10.]])"
            ]
          },
          "metadata": {},
          "execution_count": 62
        }
      ]
    },
    {
      "cell_type": "code",
      "source": [
        "# The scalar number 2 is broadcasted over x1 and is multiplied\n",
        "np.multiply(x1,2)"
      ],
      "metadata": {
        "colab": {
          "base_uri": "https://localhost:8080/"
        },
        "id": "vHQsvlNC3_4_",
        "outputId": "0c3e9065-4887-45d2-92cc-98d950b59035"
      },
      "execution_count": 63,
      "outputs": [
        {
          "output_type": "execute_result",
          "data": {
            "text/plain": [
              "array([[ 0.,  2.,  4.],\n",
              "       [ 6.,  8., 10.],\n",
              "       [12., 14., 16.]])"
            ]
          },
          "metadata": {},
          "execution_count": 63
        }
      ]
    },
    {
      "cell_type": "code",
      "source": [
        "# The scalar number 2 is broadcasted over x1 and the hypotenuse\n",
        "    # is solved for\n",
        "# Just showing the possible math equations you could do by just\n",
        "    # changing the function\n",
        "\n",
        "np.hypot(x1,2)"
      ],
      "metadata": {
        "colab": {
          "base_uri": "https://localhost:8080/"
        },
        "id": "5Tj7Q_MC4v-H",
        "outputId": "5d103015-fb5a-498d-d9ab-c8f16c1d2e07"
      },
      "execution_count": 64,
      "outputs": [
        {
          "output_type": "execute_result",
          "data": {
            "text/plain": [
              "array([[2.        , 2.23606798, 2.82842712],\n",
              "       [3.60555128, 4.47213595, 5.38516481],\n",
              "       [6.32455532, 7.28010989, 8.24621125]])"
            ]
          },
          "metadata": {},
          "execution_count": 64
        }
      ]
    },
    {
      "cell_type": "code",
      "source": [
        "# There are also coomparison functions\n",
        "np.greater_equal(x1,2)"
      ],
      "metadata": {
        "colab": {
          "base_uri": "https://localhost:8080/"
        },
        "id": "Gt3hZhbH5Kn6",
        "outputId": "92aa55fe-0f8d-4ab3-c60b-3dada928fa79"
      },
      "execution_count": 65,
      "outputs": [
        {
          "output_type": "execute_result",
          "data": {
            "text/plain": [
              "array([[False, False,  True],\n",
              "       [ True,  True,  True],\n",
              "       [ True,  True,  True]])"
            ]
          },
          "metadata": {},
          "execution_count": 65
        }
      ]
    },
    {
      "cell_type": "markdown",
      "source": [
        "#### **Teacher's Notes on Treehouse**\n",
        "**Universal Functions**\n",
        "* [ufuncs](https://docs.scipy.org/doc/numpy/reference/ufuncs.html) are commonly needed vectorized functions\n",
        "  * Vectorized functions allow you to operate element by element without using a loop\n",
        "* The standard math and comparison operations have all been overloaded so that they can make use of vectorization\n",
        "* Values can be [broadcasted](https://docs.scipy.org/doc/numpy/user/basics.broadcasting.html), or stretched to be applied to the ufuncs."
      ],
      "metadata": {
        "id": "F3I3dHUD6Bda"
      }
    },
    {
      "cell_type": "markdown",
      "source": [
        "## **[Routines in Action] Treehouse Section**\n",
        "\n",
        "**Introduced**\n",
        "* `np.ufunc.reduce(arr)` - Reduces array's dimension by one, by applying ufunc along one axis.\n",
        "* `np.ufunc.accumulate(arr)` - Accumulate the result of applying the operator to all elements.\n",
        "\n",
        "**References:**\n",
        "* [Ufunc Methods](https://numpy.org/doc/stable/reference/ufuncs.html#methods)\n",
        "* [Statistics Ufuncs](https://numpy.org/doc/stable/reference/routines.statistics.html)\n",
        "* [NumPy Routines](https://numpy.org/doc/stable/reference/routines.html)\n",
        "    * Organized list of topics and contains functions related to said topic\n",
        "    * Topics include: Financial functions, polynomials, statistics, etc.\n",
        "\n",
        "\n",
        "[Routines in Action]:https://teamtreehouse.com/library/introduction-to-numpy/routines-in-action \"Routines in Action\""
      ],
      "metadata": {
        "id": "vMwyl9yl6Xa5"
      }
    },
    {
      "cell_type": "code",
      "source": [
        "students_gpas"
      ],
      "metadata": {
        "colab": {
          "base_uri": "https://localhost:8080/"
        },
        "id": "WO2wMTSs6p__",
        "outputId": "f1143cb6-bb9e-475b-d8ce-4823e3dd4038"
      },
      "execution_count": 66,
      "outputs": [
        {
          "output_type": "execute_result",
          "data": {
            "text/plain": [
              "array([[4.   , 3.285, 3.5  , 4.   ],\n",
              "       [3.2  , 3.8  , 4.   , 4.   ],\n",
              "       [3.96 , 3.92 , 4.   , 4.   ]], dtype=float16)"
            ]
          },
          "metadata": {},
          "execution_count": 66
        }
      ]
    },
    {
      "cell_type": "code",
      "source": [
        "# Returned the mean of all grades in the array\n",
        "students_gpas.mean()"
      ],
      "metadata": {
        "colab": {
          "base_uri": "https://localhost:8080/"
        },
        "id": "ACPBdFAn6umC",
        "outputId": "cf0acfbd-637d-4f35-f503-5e3a4454b84b"
      },
      "execution_count": 67,
      "outputs": [
        {
          "output_type": "execute_result",
          "data": {
            "text/plain": [
              "3.805"
            ]
          },
          "metadata": {},
          "execution_count": 67
        }
      ]
    },
    {
      "cell_type": "code",
      "source": [
        "# Mean gpa of each student through all years\n",
        "# Called on the 2nd dimension/axis; index = 1\n",
        "students_gpas.mean(axis=1)"
      ],
      "metadata": {
        "colab": {
          "base_uri": "https://localhost:8080/"
        },
        "id": "UN8546TM64qO",
        "outputId": "af5961cc-94de-402f-f4a3-5e1581f0f748"
      },
      "execution_count": 68,
      "outputs": [
        {
          "output_type": "execute_result",
          "data": {
            "text/plain": [
              "array([3.695, 3.75 , 3.97 ], dtype=float16)"
            ]
          },
          "metadata": {},
          "execution_count": 68
        }
      ]
    },
    {
      "cell_type": "code",
      "source": [
        "# Mean gpa of each year through all students\n",
        "# Called on the 1st axis; index = 0\n",
        "students_gpas.mean(axis=0)"
      ],
      "metadata": {
        "colab": {
          "base_uri": "https://localhost:8080/"
        },
        "id": "cxjdBmkL7phu",
        "outputId": "9b856014-a980-4e13-d6eb-4c31f64917ac"
      },
      "execution_count": 69,
      "outputs": [
        {
          "output_type": "execute_result",
          "data": {
            "text/plain": [
              "array([3.72 , 3.668, 3.834, 4.   ], dtype=float16)"
            ]
          },
          "metadata": {},
          "execution_count": 69
        }
      ]
    },
    {
      "cell_type": "markdown",
      "source": [
        "**Remember:** The function happens across the axis.\n",
        "\n",
        "The examples above are examples of a reduction operation.\n",
        "\n",
        "**Reduction Operation**\n",
        "* The function reduces a set of values down to one.\n",
        "* A function that takes 2 values: a total value of all operation & the next value in the array-like object\n",
        "* Basically goes through a list sequentially. Kinda like this:\n",
        "    * **Example:** `[1,2,3,4,5,6]`\n",
        "    * 1+2 = 3; saves `3`\n",
        "    * `3`+3 = 6; saves `6`\n",
        "    * `6`+4 = 10; saves `10`\n",
        "    * so on until it adds everything in the array, the result being `21`."
      ],
      "metadata": {
        "id": "3WSEyjO68Q1X"
      }
    },
    {
      "cell_type": "code",
      "source": [
        "studyMins2[0]"
      ],
      "metadata": {
        "colab": {
          "base_uri": "https://localhost:8080/"
        },
        "id": "JMlUnKEo9Wl3",
        "outputId": "c1059149-a1b8-4f7b-c2db-4f3febec2926"
      },
      "execution_count": 70,
      "outputs": [
        {
          "output_type": "execute_result",
          "data": {
            "text/plain": [
              "array([150,  60,  80,  60,   0,  90,   0,   0,   0,   0,   0,   0,   0,\n",
              "         0,   0,   0,   0,   0,   0,   0,   0,   0,   0,   0,   0,   0,\n",
              "         0,   0,   0,   0,   0,   0,   0,   0,   0,   0,   0,   0,   0,\n",
              "         0,   0,   0,   0,   0,   0,   0,   0,   0,   0,   0,   0,   0,\n",
              "         0,   0,   0,   0,   0,   0,   0,   0,   0,   0,   0,   0,   0,\n",
              "         0,   0,   0,   0,   0,   0,   0,   0,   0,   0,   0,   0,   0,\n",
              "         0,   0,   0,   0,   0,   0,   0,   0,   0,   0,   0,   0,   0,\n",
              "         0,   0,   0,   0,   0,   0,   0,   0,   0], dtype=uint16)"
            ]
          },
          "metadata": {},
          "execution_count": 70
        }
      ]
    },
    {
      "cell_type": "code",
      "source": [
        "# Adding all the minutes in round 1\n",
        "np.add.reduce(studyMins2[0])"
      ],
      "metadata": {
        "colab": {
          "base_uri": "https://localhost:8080/"
        },
        "id": "hz5HJLy8_Q9s",
        "outputId": "2e286965-6887-44bd-e26d-e0d909f5016b"
      },
      "execution_count": 71,
      "outputs": [
        {
          "output_type": "execute_result",
          "data": {
            "text/plain": [
              "440"
            ]
          },
          "metadata": {},
          "execution_count": 71
        }
      ]
    },
    {
      "cell_type": "code",
      "source": [
        "np.add.accumulate(studyMins2[0])"
      ],
      "metadata": {
        "colab": {
          "base_uri": "https://localhost:8080/"
        },
        "id": "CqY-mji7_ZhQ",
        "outputId": "13c50c95-4335-4d69-cf71-dcb424832d87"
      },
      "execution_count": 72,
      "outputs": [
        {
          "output_type": "execute_result",
          "data": {
            "text/plain": [
              "array([150, 210, 290, 350, 350, 440, 440, 440, 440, 440, 440, 440, 440,\n",
              "       440, 440, 440, 440, 440, 440, 440, 440, 440, 440, 440, 440, 440,\n",
              "       440, 440, 440, 440, 440, 440, 440, 440, 440, 440, 440, 440, 440,\n",
              "       440, 440, 440, 440, 440, 440, 440, 440, 440, 440, 440, 440, 440,\n",
              "       440, 440, 440, 440, 440, 440, 440, 440, 440, 440, 440, 440, 440,\n",
              "       440, 440, 440, 440, 440, 440, 440, 440, 440, 440, 440, 440, 440,\n",
              "       440, 440, 440, 440, 440, 440, 440, 440, 440, 440, 440, 440, 440,\n",
              "       440, 440, 440, 440, 440, 440, 440, 440, 440], dtype=uint64)"
            ]
          },
          "metadata": {},
          "execution_count": 72
        }
      ]
    },
    {
      "cell_type": "code",
      "source": [
        "# Adding all the minutes in round 1\n",
        "np.sum(studyMins2[0])"
      ],
      "metadata": {
        "colab": {
          "base_uri": "https://localhost:8080/"
        },
        "id": "tJ1Gw2pOAbSF",
        "outputId": "64513de7-2107-4a44-c022-193b0730442c"
      },
      "execution_count": 73,
      "outputs": [
        {
          "output_type": "execute_result",
          "data": {
            "text/plain": [
              "440"
            ]
          },
          "metadata": {},
          "execution_count": 73
        }
      ]
    },
    {
      "cell_type": "code",
      "source": [
        "# Adding all the minutes in all 3 rounds\n",
        "np.sum(studyMins2)"
      ],
      "metadata": {
        "colab": {
          "base_uri": "https://localhost:8080/"
        },
        "id": "nyYcNSNDA0OH",
        "outputId": "d45cce9d-1357-47b3-92ae-bef8aba7a18c"
      },
      "execution_count": 74,
      "outputs": [
        {
          "output_type": "execute_result",
          "data": {
            "text/plain": [
              "10150"
            ]
          },
          "metadata": {},
          "execution_count": 74
        }
      ]
    },
    {
      "cell_type": "code",
      "source": [
        "# Adding all the minutes in all 3 rounds respectively\n",
        "np.sum(studyMins2, axis=1)"
      ],
      "metadata": {
        "colab": {
          "base_uri": "https://localhost:8080/"
        },
        "id": "p8lxVfeYBBVe",
        "outputId": "70e7f478-55dd-475b-badc-fcaecee0beed"
      },
      "execution_count": 75,
      "outputs": [
        {
          "output_type": "execute_result",
          "data": {
            "text/plain": [
              "array([ 440,  420, 9290], dtype=uint64)"
            ]
          },
          "metadata": {},
          "execution_count": 75
        }
      ]
    },
    {
      "cell_type": "code",
      "source": [
        "# Standard Deviation of all minutes in all 3 rounds respectively\n",
        "np.std(studyMins2, axis=1)"
      ],
      "metadata": {
        "colab": {
          "base_uri": "https://localhost:8080/"
        },
        "id": "WvsYzy0qCFwH",
        "outputId": "3ca6a76e-75de-4dc6-bed9-d4527183edbb"
      },
      "execution_count": 76,
      "outputs": [
        {
          "output_type": "execute_result",
          "data": {
            "text/plain": [
              "array([20.55821004, 36.25410322, 54.84459864])"
            ]
          },
          "metadata": {},
          "execution_count": 76
        }
      ]
    },
    {
      "cell_type": "markdown",
      "source": [
        "#### **Teacher's Notes on Treehouse**\n",
        "* Common [mathematical](https://docs.scipy.org/doc/numpy-1.14.0/reference/routines.math.html) [routines](https://docs.scipy.org/doc/numpy-1.14.0/reference/routines.html) are exposed so the formula can be abstracted away.\n",
        "    * [`mean`](https://docs.scipy.org/doc/numpy-1.14.0/reference/generated/numpy.mean.html#numpy.mean) is a [statistics](https://docs.scipy.org/doc/numpy-1.14.0/reference/routines.statistics.html) routine used to calculate the average.\n",
        "* Reduction functions take a dimension and collapse it into a single value.\n",
        "    * These functions define an axis parameter, and you should remember that the function works across the dimension."
      ],
      "metadata": {
        "id": "KhCxRYqtEHEO"
      }
    },
    {
      "cell_type": "markdown",
      "source": [
        "## **[Plotting] Treehouse Section**\n",
        "\n",
        "**Introduced:**\n",
        "* Matplotlib - `matplotlib.pyplot as plt`\n",
        "    * Library for creating static, animated, and interactive visualizations in Python.\n",
        "\n",
        "**References:**\n",
        "* [Introduction to Data Visualization With Matplotlib](https://teamtreehouse.com/library/introduction-to-data-visualization-with-matplotlib \"Treehouse Course\")\n",
        "* [Matplotlib Cheetsheets](https://matplotlib.org/cheatsheets/)\n",
        "* [Craig's Intro to NumPy Jupyter NB](https://teamtreehouse.com/library/introduction-to-numpy/no-problem)\n",
        "    * Craig's (the instructor) Jupyter NB that he has been working on throughout the Treehouse course.\n",
        "\n",
        "\n",
        "\n",
        "\n",
        "\n",
        "[Plotting]: https://teamtreehouse.com/library/introduction-to-numpy/plotting"
      ],
      "metadata": {
        "id": "ECCkGX8wEShl"
      }
    },
    {
      "cell_type": "code",
      "source": [
        "# Box plot for the gpas of the 3 students along their 4 years of study\n",
        "plt.boxplot(students_gpas.T)\n",
        "plt.plot()"
      ],
      "metadata": {
        "colab": {
          "base_uri": "https://localhost:8080/",
          "height": 447
        },
        "id": "LePqnovDE1J9",
        "outputId": "79a28983-654b-4f0b-9eaa-3029330ddce2"
      },
      "execution_count": 79,
      "outputs": [
        {
          "output_type": "execute_result",
          "data": {
            "text/plain": [
              "[]"
            ]
          },
          "metadata": {},
          "execution_count": 79
        },
        {
          "output_type": "display_data",
          "data": {
            "text/plain": [
              "<Figure size 640x480 with 1 Axes>"
            ],
            "image/png": "[encoded data removed]"
          },
          "metadata": {}
        }
      ]
    },
    {
      "cell_type": "code",
      "source": [
        "# Pass in a one dimensional array of all the minutes that's >0\n",
        "# Broadcasts 0 to studyMins2 array so it becomes a vector array.\n",
        "# No need to use .ravel()\n",
        "plt.hist(studyMins2[studyMins2>0])"
      ],
      "metadata": {
        "colab": {
          "base_uri": "https://localhost:8080/",
          "height": 482
        },
        "id": "93hkpSl8HJbR",
        "outputId": "b69bbcab-14a2-445c-f6eb-643ef198bac4"
      },
      "execution_count": 90,
      "outputs": [
        {
          "output_type": "execute_result",
          "data": {
            "text/plain": [
              "(array([26., 25., 18., 17.,  0.,  0.,  0.,  0.,  0.,  1.]),\n",
              " array([ 60.,  90., 120., 150., 180., 210., 240., 270., 300., 330., 360.]),\n",
              " <BarContainer object of 10 artists>)"
            ]
          },
          "metadata": {},
          "execution_count": 90
        },
        {
          "output_type": "display_data",
          "data": {
            "text/plain": [
              "<Figure size 640x480 with 1 Axes>"
            ],
            "image/png": "[encoded data removed]"
          },
          "metadata": {}
        }
      ]
    },
    {
      "cell_type": "markdown",
      "source": [
        "## **BONUS CONTENT WOOHOO**\n",
        "Some notable Q&As from the Questions tab in the Intro to NumPy.\n",
        "\n",
        "1. **[Can someone please help? Not sure why I keep getting an error!]**\n",
        "\n",
        "```\n",
        "student_gpas = np.array([[4.01, 3.286, 3.5], [3.2, 3.8, 4.0, 4.0], [3.96, 3.92, 4.0, 4.0]], np.float16) student_gpas\n",
        "```\n",
        "\n",
        "<details>\n",
        "    <summary> ValueError </summary>\n",
        "    \n",
        "    ValueError Traceback (most recent call last) <ipython-input-76-ee784e6a4479> in <module>() ----> 1 student_gpas = np.array([[4.01, 3.286, 3.5], [3.2, 3.8, 4.0, 4.0], [3.96, 3.92, 4.0, 4.0]], np.float16) 2 student_gpas\n",
        "\n",
        "    ValueError: setting an array element with a sequence.\n",
        "\n",
        "</details>\n",
        "\n",
        "<details>\n",
        "    <summary> Answer </summary>\n",
        "\n",
        "* It seems your first list `[4.01, 3.285, 3.5]` element in the np.array only has 3 items (grades) while the others both have four.\n",
        "* If you add another grade to make this a 3x4 dimensional matrix it works.\n",
        "* If you don't have a grade to add, you can still make this work by simply putting 'nan' in place of the missing grade(s).\n",
        "* **Note**: 'nan' is recognized by Python as \"not a number\" and is used to fill in missing data. It may look like a string (need to use quotes for this list item), but any string or an empty string doesn't work and results in a datatype incompatibility with your float16 type.\n",
        "\n",
        "</details>\n",
        "\n",
        "2. **[Precision Error]**\n",
        "\n",
        "Very minor point but Craig states at around 5:10 in this video that we didn't run into any **precision errors** with our dataset, but we actually did. 3.286 stored as np.float16 becomes 3.28515625, which was displayed in the Jupyter Notebook output as 3.285.\n",
        "\n",
        "<details>\n",
        "    <summary> Answer </summary>\n",
        "\n",
        "**From Craig, the instructor**: Nice catch Stuart! If you pay attention, you'll notice I stumble....I was expecting it in the last row, but missed it in the first one!\n",
        "\n",
        "That's a great example of the precision problem.\n",
        "\n",
        "Nice 👀!\n",
        "</details>\n",
        "\n",
        "3. [My list of of an array can be appended but my slice can not. I don't understand why.]\n",
        "* It is a whole thread but it's worth the read. Click the link to the question above to view it.\n",
        "* Talks about the introduction of a new method of adding a new dimension using `arr[:, np.newaxis]` that was mentioned in the Teacher's Notes.\n",
        "* Only included but it wasn't explained too much so I don't know how to properly use it yet.\n",
        "* OP was trying to append `fake_log`. In his 2nd attempt, he tried to add a new dimension to the `fake_log` array while adding the new dimension within the parameter.\n",
        "\n",
        "<details>\n",
        "    <summary> Answer </summary>\n",
        "\n",
        "* The issue with the second line you mention above, with `nd.newaxis`, is that it does create a 2D array, but it creates it in the opposite direction to what you need. In other words, if I isolate just `fake_log[:, np.newaxis]`, I get:\n",
        "\n",
        "```\n",
        "array([[132],\n",
        "       [122],\n",
        "       [128],\n",
        "       [ 44],\n",
        "       [136],\n",
        "       [129],\n",
        "\n",
        "       ... etc ...\n",
        "\n",
        "       [110],\n",
        "       [ 58],\n",
        "       [ 93],\n",
        "       [ 79]], dtype=uint16)\n",
        "\n",
        "```\n",
        "* Shape is `(100, 1)`. This is the opposite of `fake_log` in the original example, which is `(1, 100)`.\n",
        "\n",
        "* The error you get is that the number of rows and columns don't match up like they need to. In theory, you could fix the problem by swapping the np.newaxis with the : (i.e., the rows and columns), like so:\n",
        "\n",
        "`new_fake_log = np.append(study_minutes, fake_log[np.newaxis, :], axis=0)`\n",
        "\n",
        "* But `[fake_log]` is easier and gives the same result, so might as well just do that.\n",
        "\n",
        "* It flattened the array when you don't specify an axis for `np.append`. This would have happened even if the array dimensions had matched.\n",
        "\n",
        "</details>\n",
        "\n",
        "\n",
        "\n",
        "\n",
        "\n",
        "[Can someone please help? Not sure why I keep getting an error!]:https://teamtreehouse.com/community/can-someone-please-helpnot-sure-why-i-keep-getting-an-error\n",
        "[Precision Error]:https://teamtreehouse.com/community/precision-error\n",
        "[My list of of an array can be appended but my slice can not. I don't understand why.]:https://teamtreehouse.com/community/my-list-of-of-an-array-can-be-appended-but-my-slice-can-not-i-dont-understand-why"
      ],
      "metadata": {
        "id": "0ZPIbLg5Ncfx"
      }
    }
  ]
}
